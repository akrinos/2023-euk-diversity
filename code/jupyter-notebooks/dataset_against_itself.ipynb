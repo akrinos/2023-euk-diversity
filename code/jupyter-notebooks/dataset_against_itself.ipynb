{
 "cells": [
  {
   "cell_type": "code",
   "execution_count": 1,
   "metadata": {},
   "outputs": [],
   "source": [
    "import os\n",
    "import numpy as np\n",
    "from scipy.sparse import csr_matrix\n",
    "import pandas as pd"
   ]
  },
  {
   "cell_type": "markdown",
   "metadata": {},
   "source": [
    "## Read in and create sparse matrix from Narragansett Bay hits ##"
   ]
  },
  {
   "cell_type": "code",
   "execution_count": 11,
   "metadata": {},
   "outputs": [],
   "source": [
    "diamond_file=\"/vortexfs1/omics/alexander/akrinos/2021-testing-eukrhythmic/\"+\\\n",
    "            \"eukrhythmic-eLife/snakemake-workflows/eukulele-snake/\"+\\\n",
    "            \"EUKulele_marmmetsp_NB_CAG_better_diatom/mets_full/diamond/NarBay_S4_CAG.fasta.transdecoder.diamond.out\""
   ]
  },
  {
   "cell_type": "code",
   "execution_count": 16,
   "metadata": {},
   "outputs": [],
   "source": [
    "diamond_file=\"/vortexfs1/omics/alexander/akrinos/2022-euk-diversity/output/\"+\\\n",
    "             \"bidirectional-hit-dbs-modids/pep_diamond_matches/NB/hits-NarBay_S4.tsv\""
   ]
  },
  {
   "cell_type": "code",
   "execution_count": 2,
   "metadata": {},
   "outputs": [],
   "source": [
    "input_tax=\"/vortexfs1/omics/alexander/akrinos/remodeling/EUKulele/databases/marmmetsp_better_diatom_taxonomy/tax-table.txt\"\n",
    "\n",
    "tax_level = \"family\"\n",
    "## evaluate process of clustering with tax coherence.\n",
    "tax_table = pd.read_csv(input_tax,sep=\"\\t\")\n",
    "tax_table.columns = [curr.lower() for curr in tax_table.columns]\n",
    "\n",
    "tax_table[\"domain\"] = [str(curr).strip() for curr in tax_table.domain]\n",
    "tax_table[\"supergroup\"] = [str(curr).strip() for curr in tax_table.supergroup]\n",
    "tax_table[\"division\"] = [str(curr).strip() for curr in tax_table.division]\n",
    "tax_table[\"class\"] = [str(curr).strip() for curr in tax_table[\"class\"]]\n",
    "tax_table[\"order\"] = [str(curr).strip() for curr in tax_table.order]\n",
    "tax_table[\"family\"] = [str(curr).strip() for curr in tax_table.family]\n",
    "tax_table[\"genus\"] = [str(curr).strip() for curr in tax_table.genus]\n",
    "tax_table[\"species\"] = [str(curr).strip() for curr in tax_table.species]"
   ]
  },
  {
   "cell_type": "code",
   "execution_count": 72,
   "metadata": {},
   "outputs": [],
   "source": [
    "df = pd.read_csv(diamond_file, sep=\"\\t\", header=None,names=[\"qseqid\",\"sseqid\",\"pident\",\"length\",\n",
    "                                        \"mismatch\",\"gapopen\",\"qstart\",\"qend\",\"sstart\",\"send\",\n",
    "                                        \"evalue\",\"bitscore\"])\n",
    "df = df.loc[:,[\"qseqid\",\"sseqid\",\"pident\",\"bitscore\"]]"
   ]
  },
  {
   "cell_type": "code",
   "execution_count": 73,
   "metadata": {},
   "outputs": [],
   "source": [
    "a = df.sseqid.str.split(\"_\",expand=True)\n",
    "df[\"source_id\"] = [col3 if (col1!=col1)|(col1 is None) else col1 if (col2!=col2)|(col2 is None) else\\\n",
    "                   col2 for col2,col1,col3 in zip(a.iloc[:,-1],a.iloc[:,-2],a.iloc[:,-3])]\n",
    "df = df.merge(tax_table,how=\"left\")"
   ]
  },
  {
   "cell_type": "code",
   "execution_count": 87,
   "metadata": {},
   "outputs": [
    {
     "data": {
      "text/html": [
       "<div>\n",
       "<style scoped>\n",
       "    .dataframe tbody tr th:only-of-type {\n",
       "        vertical-align: middle;\n",
       "    }\n",
       "\n",
       "    .dataframe tbody tr th {\n",
       "        vertical-align: top;\n",
       "    }\n",
       "\n",
       "    .dataframe thead th {\n",
       "        text-align: right;\n",
       "    }\n",
       "</style>\n",
       "<table border=\"1\" class=\"dataframe\">\n",
       "  <thead>\n",
       "    <tr style=\"text-align: right;\">\n",
       "      <th></th>\n",
       "      <th>family</th>\n",
       "      <th>pident</th>\n",
       "    </tr>\n",
       "  </thead>\n",
       "  <tbody>\n",
       "    <tr>\n",
       "      <th>0</th>\n",
       "      <td>Hemiaulaceae</td>\n",
       "      <td>65.451708</td>\n",
       "    </tr>\n",
       "    <tr>\n",
       "      <th>1</th>\n",
       "      <td>Rhizosoleniaceae</td>\n",
       "      <td>60.077226</td>\n",
       "    </tr>\n",
       "    <tr>\n",
       "      <th>2</th>\n",
       "      <td>Skeletonemataceae</td>\n",
       "      <td>84.225632</td>\n",
       "    </tr>\n",
       "    <tr>\n",
       "      <th>3</th>\n",
       "      <td>Thalassiosiraceae</td>\n",
       "      <td>67.937611</td>\n",
       "    </tr>\n",
       "  </tbody>\n",
       "</table>\n",
       "</div>"
      ],
      "text/plain": [
       "              family     pident\n",
       "0       Hemiaulaceae  65.451708\n",
       "1   Rhizosoleniaceae  60.077226\n",
       "2  Skeletonemataceae  84.225632\n",
       "3  Thalassiosiraceae  67.937611"
      ]
     },
     "execution_count": 87,
     "metadata": {},
     "output_type": "execute_result"
    }
   ],
   "source": [
    "df.loc[df.family.isin([\"Hemiaulaceae\",\"Skeletonemataceae\",\n",
    "                       \"Rhizosoleniaceae\",\"Thalassiosiraceae\"]),:].\\\n",
    "        groupby([\"family\"]).pident.mean().reset_index()"
   ]
  },
  {
   "cell_type": "code",
   "execution_count": 92,
   "metadata": {},
   "outputs": [],
   "source": [
    "pident_thres=50\n",
    "df=df.loc[df.pident>pident_thres,:]\n",
    "df.family=[str(curr).strip() for curr in df.family]\n",
    "df=df.groupby([\"qseqid\",\"family\"])[\"source_id\"].count().reset_index()"
   ]
  },
  {
   "cell_type": "code",
   "execution_count": 94,
   "metadata": {},
   "outputs": [],
   "source": [
    "from scipy.sparse import csr_matrix\n",
    "\n",
    "sequence_u = list(sorted(df.qseqid.unique()))\n",
    "family_u = list(sorted(df.family.unique()))\n",
    "\n",
    "data = df['source_id'].tolist()\n",
    "row = pd.Categorical(df.qseqid,categories=sequence_u).codes\n",
    "col =pd.Categorical(df.family,categories=family_u).codes  #df.family.astype('category', categories=family_u).cat.codes\n",
    "sparse_matrix = csr_matrix((df['source_id'].tolist(), (row, col)), shape=(len(sequence_u), len(family_u)))"
   ]
  },
  {
   "cell_type": "code",
   "execution_count": 106,
   "metadata": {},
   "outputs": [],
   "source": [
    "del df"
   ]
  },
  {
   "cell_type": "markdown",
   "metadata": {},
   "source": [
    "## Topic modeling approach"
   ]
  },
  {
   "cell_type": "code",
   "execution_count": 95,
   "metadata": {},
   "outputs": [],
   "source": [
    "from sklearn.decomposition import LatentDirichletAllocation\n",
    "\n",
    "number_of_topics = 30\n",
    "\n",
    "model = LatentDirichletAllocation(n_components=number_of_topics, random_state=0)"
   ]
  },
  {
   "cell_type": "code",
   "execution_count": 96,
   "metadata": {},
   "outputs": [
    {
     "data": {
      "text/html": [
       "<style>#sk-container-id-2 {color: black;background-color: white;}#sk-container-id-2 pre{padding: 0;}#sk-container-id-2 div.sk-toggleable {background-color: white;}#sk-container-id-2 label.sk-toggleable__label {cursor: pointer;display: block;width: 100%;margin-bottom: 0;padding: 0.3em;box-sizing: border-box;text-align: center;}#sk-container-id-2 label.sk-toggleable__label-arrow:before {content: \"▸\";float: left;margin-right: 0.25em;color: #696969;}#sk-container-id-2 label.sk-toggleable__label-arrow:hover:before {color: black;}#sk-container-id-2 div.sk-estimator:hover label.sk-toggleable__label-arrow:before {color: black;}#sk-container-id-2 div.sk-toggleable__content {max-height: 0;max-width: 0;overflow: hidden;text-align: left;background-color: #f0f8ff;}#sk-container-id-2 div.sk-toggleable__content pre {margin: 0.2em;color: black;border-radius: 0.25em;background-color: #f0f8ff;}#sk-container-id-2 input.sk-toggleable__control:checked~div.sk-toggleable__content {max-height: 200px;max-width: 100%;overflow: auto;}#sk-container-id-2 input.sk-toggleable__control:checked~label.sk-toggleable__label-arrow:before {content: \"▾\";}#sk-container-id-2 div.sk-estimator input.sk-toggleable__control:checked~label.sk-toggleable__label {background-color: #d4ebff;}#sk-container-id-2 div.sk-label input.sk-toggleable__control:checked~label.sk-toggleable__label {background-color: #d4ebff;}#sk-container-id-2 input.sk-hidden--visually {border: 0;clip: rect(1px 1px 1px 1px);clip: rect(1px, 1px, 1px, 1px);height: 1px;margin: -1px;overflow: hidden;padding: 0;position: absolute;width: 1px;}#sk-container-id-2 div.sk-estimator {font-family: monospace;background-color: #f0f8ff;border: 1px dotted black;border-radius: 0.25em;box-sizing: border-box;margin-bottom: 0.5em;}#sk-container-id-2 div.sk-estimator:hover {background-color: #d4ebff;}#sk-container-id-2 div.sk-parallel-item::after {content: \"\";width: 100%;border-bottom: 1px solid gray;flex-grow: 1;}#sk-container-id-2 div.sk-label:hover label.sk-toggleable__label {background-color: #d4ebff;}#sk-container-id-2 div.sk-serial::before {content: \"\";position: absolute;border-left: 1px solid gray;box-sizing: border-box;top: 0;bottom: 0;left: 50%;z-index: 0;}#sk-container-id-2 div.sk-serial {display: flex;flex-direction: column;align-items: center;background-color: white;padding-right: 0.2em;padding-left: 0.2em;position: relative;}#sk-container-id-2 div.sk-item {position: relative;z-index: 1;}#sk-container-id-2 div.sk-parallel {display: flex;align-items: stretch;justify-content: center;background-color: white;position: relative;}#sk-container-id-2 div.sk-item::before, #sk-container-id-2 div.sk-parallel-item::before {content: \"\";position: absolute;border-left: 1px solid gray;box-sizing: border-box;top: 0;bottom: 0;left: 50%;z-index: -1;}#sk-container-id-2 div.sk-parallel-item {display: flex;flex-direction: column;z-index: 1;position: relative;background-color: white;}#sk-container-id-2 div.sk-parallel-item:first-child::after {align-self: flex-end;width: 50%;}#sk-container-id-2 div.sk-parallel-item:last-child::after {align-self: flex-start;width: 50%;}#sk-container-id-2 div.sk-parallel-item:only-child::after {width: 0;}#sk-container-id-2 div.sk-dashed-wrapped {border: 1px dashed gray;margin: 0 0.4em 0.5em 0.4em;box-sizing: border-box;padding-bottom: 0.4em;background-color: white;}#sk-container-id-2 div.sk-label label {font-family: monospace;font-weight: bold;display: inline-block;line-height: 1.2em;}#sk-container-id-2 div.sk-label-container {text-align: center;}#sk-container-id-2 div.sk-container {/* jupyter's `normalize.less` sets `[hidden] { display: none; }` but bootstrap.min.css set `[hidden] { display: none !important; }` so we also need the `!important` here to be able to override the default hidden behavior on the sphinx rendered scikit-learn.org. See: https://github.com/scikit-learn/scikit-learn/issues/21755 */display: inline-block !important;position: relative;}#sk-container-id-2 div.sk-text-repr-fallback {display: none;}</style><div id=\"sk-container-id-2\" class=\"sk-top-container\"><div class=\"sk-text-repr-fallback\"><pre>LatentDirichletAllocation(n_components=30, random_state=0)</pre><b>In a Jupyter environment, please rerun this cell to show the HTML representation or trust the notebook. <br />On GitHub, the HTML representation is unable to render, please try loading this page with nbviewer.org.</b></div><div class=\"sk-container\" hidden><div class=\"sk-item\"><div class=\"sk-estimator sk-toggleable\"><input class=\"sk-toggleable__control sk-hidden--visually\" id=\"sk-estimator-id-2\" type=\"checkbox\" checked><label for=\"sk-estimator-id-2\" class=\"sk-toggleable__label sk-toggleable__label-arrow\">LatentDirichletAllocation</label><div class=\"sk-toggleable__content\"><pre>LatentDirichletAllocation(n_components=30, random_state=0)</pre></div></div></div></div></div>"
      ],
      "text/plain": [
       "LatentDirichletAllocation(n_components=30, random_state=0)"
      ]
     },
     "execution_count": 96,
     "metadata": {},
     "output_type": "execute_result"
    }
   ],
   "source": [
    "model.fit(sparse_matrix)"
   ]
  },
  {
   "cell_type": "code",
   "execution_count": 97,
   "metadata": {},
   "outputs": [],
   "source": [
    "def display_topics(model, feature_names, no_top_words):\n",
    "    topic_dict = {}\n",
    "    for topic_idx, topic in enumerate(model.components_):\n",
    "        topic_dict[\"Topic %d words\" % (topic_idx)]= ['{}'.format(feature_names[i])\n",
    "                        for i in topic.argsort()[:-no_top_words - 1:-1]]\n",
    "        topic_dict[\"Topic %d weights\" % (topic_idx)]= ['{:.1f}'.format(topic[i])\n",
    "                        for i in topic.argsort()[:-no_top_words - 1:-1]]\n",
    "    return pd.DataFrame(topic_dict)"
   ]
  },
  {
   "cell_type": "code",
   "execution_count": 98,
   "metadata": {
    "scrolled": true
   },
   "outputs": [],
   "source": [
    "def topic_vote_dict(model, feature_names, no_top_words):\n",
    "    topic_dict = {}\n",
    "    topic_vote_dict = {}\n",
    "    for topic_idx, topic in enumerate(model.components_):\n",
    "        topic_dict[\"Topic %d words\" % (topic_idx)]= ['{}'.format(feature_names[i])\n",
    "                        for i in topic.argsort()[:-no_top_words - 1:-1]]\n",
    "        topic_dict[\"Topic %d weights\" % (topic_idx)]= ['{:.1f}'.format(topic[i])\n",
    "                        for i in topic.argsort()[:-no_top_words - 1:-1]]\n",
    "        print(feature_names[topic.argsort()[:-no_top_words - 1:-1]])\n",
    "        topic_vote_dict[topic_idx] = feature_names[topic.argsort()[-1]]\n",
    "    return topic_vote_dict"
   ]
  },
  {
   "cell_type": "code",
   "execution_count": 143,
   "metadata": {
    "scrolled": false
   },
   "outputs": [],
   "source": [
    "#topic_vote_dict(model,\n",
    "#               pd.Categorical(df.family,categories=family_u)[col],\n",
    "#               no_top_words)"
   ]
  },
  {
   "cell_type": "code",
   "execution_count": 100,
   "metadata": {},
   "outputs": [
    {
     "data": {
      "text/html": [
       "<div>\n",
       "<style scoped>\n",
       "    .dataframe tbody tr th:only-of-type {\n",
       "        vertical-align: middle;\n",
       "    }\n",
       "\n",
       "    .dataframe tbody tr th {\n",
       "        vertical-align: top;\n",
       "    }\n",
       "\n",
       "    .dataframe thead th {\n",
       "        text-align: right;\n",
       "    }\n",
       "</style>\n",
       "<table border=\"1\" class=\"dataframe\">\n",
       "  <thead>\n",
       "    <tr style=\"text-align: right;\">\n",
       "      <th></th>\n",
       "      <th>Topic 0 words</th>\n",
       "      <th>Topic 0 weights</th>\n",
       "      <th>Topic 1 words</th>\n",
       "      <th>Topic 1 weights</th>\n",
       "      <th>Topic 2 words</th>\n",
       "      <th>Topic 2 weights</th>\n",
       "      <th>Topic 3 words</th>\n",
       "      <th>Topic 3 weights</th>\n",
       "      <th>Topic 4 words</th>\n",
       "      <th>Topic 4 weights</th>\n",
       "      <th>...</th>\n",
       "      <th>Topic 25 words</th>\n",
       "      <th>Topic 25 weights</th>\n",
       "      <th>Topic 26 words</th>\n",
       "      <th>Topic 26 weights</th>\n",
       "      <th>Topic 27 words</th>\n",
       "      <th>Topic 27 weights</th>\n",
       "      <th>Topic 28 words</th>\n",
       "      <th>Topic 28 weights</th>\n",
       "      <th>Topic 29 words</th>\n",
       "      <th>Topic 29 weights</th>\n",
       "    </tr>\n",
       "  </thead>\n",
       "  <tbody>\n",
       "    <tr>\n",
       "      <th>0</th>\n",
       "      <td>Thoracosphaeraceae</td>\n",
       "      <td>68210.4</td>\n",
       "      <td>Chaetocerotales</td>\n",
       "      <td>26917.1</td>\n",
       "      <td>Chlorarachnida_X</td>\n",
       "      <td>173017.0</td>\n",
       "      <td>Lithodesmiaceae</td>\n",
       "      <td>45095.6</td>\n",
       "      <td>Chrysotilaceae</td>\n",
       "      <td>72946.0</td>\n",
       "      <td>...</td>\n",
       "      <td>Suessiaceae</td>\n",
       "      <td>119914.4</td>\n",
       "      <td>Thraustochytriaceae</td>\n",
       "      <td>35151.6</td>\n",
       "      <td>Chlamydomonadales_X</td>\n",
       "      <td>80543.7</td>\n",
       "      <td>Hemiaulaceae</td>\n",
       "      <td>111672.5</td>\n",
       "      <td>Chlorodendraceae</td>\n",
       "      <td>25933.2</td>\n",
       "    </tr>\n",
       "    <tr>\n",
       "      <th>1</th>\n",
       "      <td>Rhizosoleniaceae</td>\n",
       "      <td>38590.7</td>\n",
       "      <td>Prorocentraceae</td>\n",
       "      <td>26540.0</td>\n",
       "      <td>Picocystaceae</td>\n",
       "      <td>3589.1</td>\n",
       "      <td>Chloropicaceae</td>\n",
       "      <td>21701.0</td>\n",
       "      <td>Rosalidae</td>\n",
       "      <td>33402.6</td>\n",
       "      <td>...</td>\n",
       "      <td>Prorocentraceae</td>\n",
       "      <td>52349.6</td>\n",
       "      <td>Chloropicaceae</td>\n",
       "      <td>33250.3</td>\n",
       "      <td>Bacillariaceae</td>\n",
       "      <td>7584.9</td>\n",
       "      <td>Chlorodendraceae</td>\n",
       "      <td>83570.6</td>\n",
       "      <td>Kryptoperidiniaceae</td>\n",
       "      <td>12464.0</td>\n",
       "    </tr>\n",
       "    <tr>\n",
       "      <th>2</th>\n",
       "      <td>Cryptomonadales_X</td>\n",
       "      <td>36642.4</td>\n",
       "      <td>Gymnodiniaceae</td>\n",
       "      <td>2508.2</td>\n",
       "      <td>Crustomastigaceae</td>\n",
       "      <td>1962.8</td>\n",
       "      <td>Amphidomataceae</td>\n",
       "      <td>20251.0</td>\n",
       "      <td>Kareniaceae</td>\n",
       "      <td>3278.1</td>\n",
       "      <td>...</td>\n",
       "      <td>Picocystaceae</td>\n",
       "      <td>4935.3</td>\n",
       "      <td>Pseudomonadaceae</td>\n",
       "      <td>15339.7</td>\n",
       "      <td>Chloropicaceae</td>\n",
       "      <td>6492.6</td>\n",
       "      <td>Shewanellaceae</td>\n",
       "      <td>46545.0</td>\n",
       "      <td>Labyrinthulaceae</td>\n",
       "      <td>7174.0</td>\n",
       "    </tr>\n",
       "    <tr>\n",
       "      <th>3</th>\n",
       "      <td>Goniodomataceae</td>\n",
       "      <td>24751.8</td>\n",
       "      <td>Goniodomataceae</td>\n",
       "      <td>2131.8</td>\n",
       "      <td>Lithodesmiaceae</td>\n",
       "      <td>1962.0</td>\n",
       "      <td>Ceratiaceae</td>\n",
       "      <td>10409.5</td>\n",
       "      <td>Gymnodiniaceae</td>\n",
       "      <td>595.9</td>\n",
       "      <td>...</td>\n",
       "      <td>Prorocentraceae</td>\n",
       "      <td>3060.1</td>\n",
       "      <td>Picocystaceae</td>\n",
       "      <td>12862.8</td>\n",
       "      <td>Bacillariaceae</td>\n",
       "      <td>6368.6</td>\n",
       "      <td>Chaetocerotales</td>\n",
       "      <td>27463.6</td>\n",
       "      <td>Prorocentraceae</td>\n",
       "      <td>6108.9</td>\n",
       "    </tr>\n",
       "    <tr>\n",
       "      <th>4</th>\n",
       "      <td>Mamiellaceae</td>\n",
       "      <td>22802.6</td>\n",
       "      <td>Chrysotilaceae</td>\n",
       "      <td>1706.0</td>\n",
       "      <td>Crustomastigaceae</td>\n",
       "      <td>1285.8</td>\n",
       "      <td>Suessiaceae</td>\n",
       "      <td>9233.6</td>\n",
       "      <td>Goniodomataceae</td>\n",
       "      <td>564.8</td>\n",
       "      <td>...</td>\n",
       "      <td>Gymnodiniaceae</td>\n",
       "      <td>2639.8</td>\n",
       "      <td>Suessiaceae</td>\n",
       "      <td>8458.8</td>\n",
       "      <td>Picocystaceae</td>\n",
       "      <td>2947.0</td>\n",
       "      <td>Filamoebidae</td>\n",
       "      <td>21686.2</td>\n",
       "      <td>Bolidomonadaceae</td>\n",
       "      <td>2557.2</td>\n",
       "    </tr>\n",
       "    <tr>\n",
       "      <th>5</th>\n",
       "      <td>Isochrysidaceae</td>\n",
       "      <td>21638.2</td>\n",
       "      <td>Lithodesmiaceae</td>\n",
       "      <td>1082.2</td>\n",
       "      <td>Gymnodiniaceae</td>\n",
       "      <td>1223.4</td>\n",
       "      <td>Chlamydomonadales_X</td>\n",
       "      <td>9004.2</td>\n",
       "      <td>Suessiaceae</td>\n",
       "      <td>425.4</td>\n",
       "      <td>...</td>\n",
       "      <td>Chlorodendraceae</td>\n",
       "      <td>1653.2</td>\n",
       "      <td>Glaucocystophytes_X</td>\n",
       "      <td>6143.1</td>\n",
       "      <td>Corethraceae</td>\n",
       "      <td>2356.4</td>\n",
       "      <td>Filamoebidae</td>\n",
       "      <td>12587.0</td>\n",
       "      <td>Protocruziidae</td>\n",
       "      <td>2001.0</td>\n",
       "    </tr>\n",
       "    <tr>\n",
       "      <th>6</th>\n",
       "      <td>Chloropicaceae</td>\n",
       "      <td>16016.9</td>\n",
       "      <td>Chaetocerotales</td>\n",
       "      <td>1046.7</td>\n",
       "      <td>Picocystaceae</td>\n",
       "      <td>959.7</td>\n",
       "      <td>Cymatosiraceae</td>\n",
       "      <td>8240.9</td>\n",
       "      <td>Shewanellaceae</td>\n",
       "      <td>252.3</td>\n",
       "      <td>...</td>\n",
       "      <td>Thalassiosiraceae</td>\n",
       "      <td>1097.1</td>\n",
       "      <td>Chaetocerotales</td>\n",
       "      <td>5762.6</td>\n",
       "      <td>Bolidomonadaceae</td>\n",
       "      <td>1646.0</td>\n",
       "      <td>Odontellaceae</td>\n",
       "      <td>6382.5</td>\n",
       "      <td>Lithodesmiaceae</td>\n",
       "      <td>1733.0</td>\n",
       "    </tr>\n",
       "    <tr>\n",
       "      <th>7</th>\n",
       "      <td>Prorocentraceae</td>\n",
       "      <td>14154.1</td>\n",
       "      <td>Chloropicaceae</td>\n",
       "      <td>787.0</td>\n",
       "      <td>Chrysotilaceae</td>\n",
       "      <td>860.3</td>\n",
       "      <td>Picocystaceae</td>\n",
       "      <td>5944.2</td>\n",
       "      <td>Chaetocerotales</td>\n",
       "      <td>98.5</td>\n",
       "      <td>...</td>\n",
       "      <td>Chaetocerotales</td>\n",
       "      <td>1024.5</td>\n",
       "      <td>Gymnodiniaceae</td>\n",
       "      <td>2674.4</td>\n",
       "      <td>Chaetocerotales</td>\n",
       "      <td>1487.3</td>\n",
       "      <td>Suessiaceae</td>\n",
       "      <td>4977.4</td>\n",
       "      <td>Gonyaulacaceae</td>\n",
       "      <td>1644.1</td>\n",
       "    </tr>\n",
       "    <tr>\n",
       "      <th>8</th>\n",
       "      <td>Chlorodendraceae</td>\n",
       "      <td>13238.4</td>\n",
       "      <td>Chloropicaceae</td>\n",
       "      <td>682.0</td>\n",
       "      <td>Hemiaulaceae</td>\n",
       "      <td>823.4</td>\n",
       "      <td>Chaetocerotales</td>\n",
       "      <td>5322.0</td>\n",
       "      <td>Bacillariaceae</td>\n",
       "      <td>68.2</td>\n",
       "      <td>...</td>\n",
       "      <td>Kareniaceae</td>\n",
       "      <td>725.4</td>\n",
       "      <td>Chlorodendraceae</td>\n",
       "      <td>2439.4</td>\n",
       "      <td>Suessiaceae</td>\n",
       "      <td>1327.3</td>\n",
       "      <td>Favellidae</td>\n",
       "      <td>4911.1</td>\n",
       "      <td>Picocystaceae</td>\n",
       "      <td>1526.3</td>\n",
       "    </tr>\n",
       "    <tr>\n",
       "      <th>9</th>\n",
       "      <td>Lithodesmiaceae</td>\n",
       "      <td>12236.0</td>\n",
       "      <td>Corethraceae</td>\n",
       "      <td>575.3</td>\n",
       "      <td>Suessiaceae</td>\n",
       "      <td>486.7</td>\n",
       "      <td>Chaetocerotales</td>\n",
       "      <td>4829.6</td>\n",
       "      <td>Ceratiaceae</td>\n",
       "      <td>62.8</td>\n",
       "      <td>...</td>\n",
       "      <td>Gymnodiniaceae</td>\n",
       "      <td>672.7</td>\n",
       "      <td>Stylonematales-Group-II</td>\n",
       "      <td>2023.7</td>\n",
       "      <td>Goniodomataceae</td>\n",
       "      <td>1279.4</td>\n",
       "      <td>Chloropicaceae</td>\n",
       "      <td>4892.8</td>\n",
       "      <td>Pseudomonadaceae</td>\n",
       "      <td>1215.6</td>\n",
       "    </tr>\n",
       "  </tbody>\n",
       "</table>\n",
       "<p>10 rows × 60 columns</p>\n",
       "</div>"
      ],
      "text/plain": [
       "        Topic 0 words Topic 0 weights    Topic 1 words Topic 1 weights  \\\n",
       "0  Thoracosphaeraceae         68210.4  Chaetocerotales         26917.1   \n",
       "1    Rhizosoleniaceae         38590.7  Prorocentraceae         26540.0   \n",
       "2   Cryptomonadales_X         36642.4   Gymnodiniaceae          2508.2   \n",
       "3     Goniodomataceae         24751.8  Goniodomataceae          2131.8   \n",
       "4        Mamiellaceae         22802.6   Chrysotilaceae          1706.0   \n",
       "5     Isochrysidaceae         21638.2  Lithodesmiaceae          1082.2   \n",
       "6      Chloropicaceae         16016.9  Chaetocerotales          1046.7   \n",
       "7     Prorocentraceae         14154.1   Chloropicaceae           787.0   \n",
       "8    Chlorodendraceae         13238.4   Chloropicaceae           682.0   \n",
       "9     Lithodesmiaceae         12236.0     Corethraceae           575.3   \n",
       "\n",
       "       Topic 2 words Topic 2 weights        Topic 3 words Topic 3 weights  \\\n",
       "0   Chlorarachnida_X        173017.0      Lithodesmiaceae         45095.6   \n",
       "1      Picocystaceae          3589.1       Chloropicaceae         21701.0   \n",
       "2  Crustomastigaceae          1962.8      Amphidomataceae         20251.0   \n",
       "3    Lithodesmiaceae          1962.0          Ceratiaceae         10409.5   \n",
       "4  Crustomastigaceae          1285.8          Suessiaceae          9233.6   \n",
       "5     Gymnodiniaceae          1223.4  Chlamydomonadales_X          9004.2   \n",
       "6      Picocystaceae           959.7       Cymatosiraceae          8240.9   \n",
       "7     Chrysotilaceae           860.3        Picocystaceae          5944.2   \n",
       "8       Hemiaulaceae           823.4      Chaetocerotales          5322.0   \n",
       "9        Suessiaceae           486.7      Chaetocerotales          4829.6   \n",
       "\n",
       "     Topic 4 words Topic 4 weights  ...     Topic 25 words Topic 25 weights  \\\n",
       "0   Chrysotilaceae         72946.0  ...        Suessiaceae         119914.4   \n",
       "1        Rosalidae         33402.6  ...    Prorocentraceae          52349.6   \n",
       "2      Kareniaceae          3278.1  ...      Picocystaceae           4935.3   \n",
       "3   Gymnodiniaceae           595.9  ...    Prorocentraceae           3060.1   \n",
       "4  Goniodomataceae           564.8  ...     Gymnodiniaceae           2639.8   \n",
       "5      Suessiaceae           425.4  ...   Chlorodendraceae           1653.2   \n",
       "6   Shewanellaceae           252.3  ...  Thalassiosiraceae           1097.1   \n",
       "7  Chaetocerotales            98.5  ...    Chaetocerotales           1024.5   \n",
       "8   Bacillariaceae            68.2  ...        Kareniaceae            725.4   \n",
       "9      Ceratiaceae            62.8  ...     Gymnodiniaceae            672.7   \n",
       "\n",
       "            Topic 26 words Topic 26 weights       Topic 27 words  \\\n",
       "0      Thraustochytriaceae          35151.6  Chlamydomonadales_X   \n",
       "1           Chloropicaceae          33250.3       Bacillariaceae   \n",
       "2         Pseudomonadaceae          15339.7       Chloropicaceae   \n",
       "3            Picocystaceae          12862.8       Bacillariaceae   \n",
       "4              Suessiaceae           8458.8        Picocystaceae   \n",
       "5      Glaucocystophytes_X           6143.1         Corethraceae   \n",
       "6          Chaetocerotales           5762.6     Bolidomonadaceae   \n",
       "7           Gymnodiniaceae           2674.4      Chaetocerotales   \n",
       "8         Chlorodendraceae           2439.4          Suessiaceae   \n",
       "9  Stylonematales-Group-II           2023.7      Goniodomataceae   \n",
       "\n",
       "  Topic 27 weights    Topic 28 words Topic 28 weights       Topic 29 words  \\\n",
       "0          80543.7      Hemiaulaceae         111672.5     Chlorodendraceae   \n",
       "1           7584.9  Chlorodendraceae          83570.6  Kryptoperidiniaceae   \n",
       "2           6492.6    Shewanellaceae          46545.0     Labyrinthulaceae   \n",
       "3           6368.6   Chaetocerotales          27463.6      Prorocentraceae   \n",
       "4           2947.0      Filamoebidae          21686.2     Bolidomonadaceae   \n",
       "5           2356.4      Filamoebidae          12587.0       Protocruziidae   \n",
       "6           1646.0     Odontellaceae           6382.5      Lithodesmiaceae   \n",
       "7           1487.3       Suessiaceae           4977.4       Gonyaulacaceae   \n",
       "8           1327.3        Favellidae           4911.1        Picocystaceae   \n",
       "9           1279.4    Chloropicaceae           4892.8     Pseudomonadaceae   \n",
       "\n",
       "  Topic 29 weights  \n",
       "0          25933.2  \n",
       "1          12464.0  \n",
       "2           7174.0  \n",
       "3           6108.9  \n",
       "4           2557.2  \n",
       "5           2001.0  \n",
       "6           1733.0  \n",
       "7           1644.1  \n",
       "8           1526.3  \n",
       "9           1215.6  \n",
       "\n",
       "[10 rows x 60 columns]"
      ]
     },
     "execution_count": 100,
     "metadata": {},
     "output_type": "execute_result"
    }
   ],
   "source": [
    "no_top_words = 10\n",
    "display_topics(model,\n",
    "               pd.Categorical(df.family,categories=family_u)[col],\n",
    "               no_top_words)"
   ]
  },
  {
   "cell_type": "code",
   "execution_count": 51,
   "metadata": {},
   "outputs": [],
   "source": [
    "topic_values = model.transform(sparse_matrix)"
   ]
  },
  {
   "cell_type": "code",
   "execution_count": 56,
   "metadata": {},
   "outputs": [
    {
     "data": {
      "text/plain": [
       "30"
      ]
     },
     "execution_count": 56,
     "metadata": {},
     "output_type": "execute_result"
    }
   ],
   "source": [
    "len(set(topic_values.argmax(axis=1)))"
   ]
  },
  {
   "cell_type": "code",
   "execution_count": 54,
   "metadata": {},
   "outputs": [
    {
     "data": {
      "text/plain": [
       "array([19,  7, 10, ..., 25, 25, 25])"
      ]
     },
     "execution_count": 54,
     "metadata": {},
     "output_type": "execute_result"
    }
   ],
   "source": [
    "topic_values.argmax(axis=1)"
   ]
  },
  {
   "cell_type": "markdown",
   "metadata": {},
   "source": [
    "## Affinity propagation clustering approach"
   ]
  },
  {
   "cell_type": "code",
   "execution_count": 101,
   "metadata": {},
   "outputs": [
    {
     "ename": "MemoryError",
     "evalue": "Unable to allocate 745. GiB for an array with shape (100037022196,) and data type int64",
     "output_type": "error",
     "traceback": [
      "\u001b[0;31m--------------------------\u001b[0m",
      "\u001b[0;31mMemoryError\u001b[0mTraceback (most recent call last)",
      "\u001b[0;32m<ipython-input-101-c39893ee63a9>\u001b[0m in \u001b[0;36m<module>\u001b[0;34m\u001b[0m\n\u001b[1;32m      3\u001b[0m \u001b[0mmodel_apm\u001b[0m \u001b[0;34m=\u001b[0m \u001b[0mAffinityPropagation\u001b[0m\u001b[0;34m(\u001b[0m\u001b[0mdamping\u001b[0m\u001b[0;34m=\u001b[0m\u001b[0;36m0.9\u001b[0m\u001b[0;34m)\u001b[0m\u001b[0;34m\u001b[0m\u001b[0;34m\u001b[0m\u001b[0m\n\u001b[1;32m      4\u001b[0m \u001b[0;31m# fit the model\u001b[0m\u001b[0;34m\u001b[0m\u001b[0;34m\u001b[0m\u001b[0;34m\u001b[0m\u001b[0m\n\u001b[0;32m----> 5\u001b[0;31m \u001b[0mmodel_apm\u001b[0m\u001b[0;34m.\u001b[0m\u001b[0mfit\u001b[0m\u001b[0;34m(\u001b[0m\u001b[0msparse_matrix\u001b[0m\u001b[0;34m)\u001b[0m\u001b[0;34m\u001b[0m\u001b[0;34m\u001b[0m\u001b[0m\n\u001b[0m\u001b[1;32m      6\u001b[0m \u001b[0;31m# assign a cluster to each example\u001b[0m\u001b[0;34m\u001b[0m\u001b[0;34m\u001b[0m\u001b[0;34m\u001b[0m\u001b[0m\n\u001b[1;32m      7\u001b[0m \u001b[0myhat\u001b[0m \u001b[0;34m=\u001b[0m \u001b[0mmodel_apm\u001b[0m\u001b[0;34m.\u001b[0m\u001b[0mpredict\u001b[0m\u001b[0;34m(\u001b[0m\u001b[0mX\u001b[0m\u001b[0;34m)\u001b[0m\u001b[0;34m\u001b[0m\u001b[0;34m\u001b[0m\u001b[0m\n",
      "\u001b[0;32m~/.conda/envs/scplotenv/lib/python3.8/site-packages/sklearn/cluster/_affinity_propagation.py\u001b[0m in \u001b[0;36mfit\u001b[0;34m(self, X, y)\u001b[0m\n\u001b[1;32m    492\u001b[0m             \u001b[0mself\u001b[0m\u001b[0;34m.\u001b[0m\u001b[0maffinity_matrix_\u001b[0m \u001b[0;34m=\u001b[0m \u001b[0mX\u001b[0m\u001b[0;34m.\u001b[0m\u001b[0mcopy\u001b[0m\u001b[0;34m(\u001b[0m\u001b[0;34m)\u001b[0m \u001b[0;32mif\u001b[0m \u001b[0mself\u001b[0m\u001b[0;34m.\u001b[0m\u001b[0mcopy\u001b[0m \u001b[0;32melse\u001b[0m \u001b[0mX\u001b[0m\u001b[0;34m\u001b[0m\u001b[0;34m\u001b[0m\u001b[0m\n\u001b[1;32m    493\u001b[0m         \u001b[0;32melse\u001b[0m\u001b[0;34m:\u001b[0m  \u001b[0;31m# self.affinity == \"euclidean\"\u001b[0m\u001b[0;34m\u001b[0m\u001b[0;34m\u001b[0m\u001b[0m\n\u001b[0;32m--> 494\u001b[0;31m             \u001b[0mself\u001b[0m\u001b[0;34m.\u001b[0m\u001b[0maffinity_matrix_\u001b[0m \u001b[0;34m=\u001b[0m \u001b[0;34m-\u001b[0m\u001b[0meuclidean_distances\u001b[0m\u001b[0;34m(\u001b[0m\u001b[0mX\u001b[0m\u001b[0;34m,\u001b[0m \u001b[0msquared\u001b[0m\u001b[0;34m=\u001b[0m\u001b[0;32mTrue\u001b[0m\u001b[0;34m)\u001b[0m\u001b[0;34m\u001b[0m\u001b[0;34m\u001b[0m\u001b[0m\n\u001b[0m\u001b[1;32m    495\u001b[0m \u001b[0;34m\u001b[0m\u001b[0m\n\u001b[1;32m    496\u001b[0m         \u001b[0;32mif\u001b[0m \u001b[0mself\u001b[0m\u001b[0;34m.\u001b[0m\u001b[0maffinity_matrix_\u001b[0m\u001b[0;34m.\u001b[0m\u001b[0mshape\u001b[0m\u001b[0;34m[\u001b[0m\u001b[0;36m0\u001b[0m\u001b[0;34m]\u001b[0m \u001b[0;34m!=\u001b[0m \u001b[0mself\u001b[0m\u001b[0;34m.\u001b[0m\u001b[0maffinity_matrix_\u001b[0m\u001b[0;34m.\u001b[0m\u001b[0mshape\u001b[0m\u001b[0;34m[\u001b[0m\u001b[0;36m1\u001b[0m\u001b[0;34m]\u001b[0m\u001b[0;34m:\u001b[0m\u001b[0;34m\u001b[0m\u001b[0;34m\u001b[0m\u001b[0m\n",
      "\u001b[0;32m~/.conda/envs/scplotenv/lib/python3.8/site-packages/sklearn/metrics/pairwise.py\u001b[0m in \u001b[0;36meuclidean_distances\u001b[0;34m(X, Y, Y_norm_squared, squared, X_norm_squared)\u001b[0m\n\u001b[1;32m    326\u001b[0m             )\n\u001b[1;32m    327\u001b[0m \u001b[0;34m\u001b[0m\u001b[0m\n\u001b[0;32m--> 328\u001b[0;31m     \u001b[0;32mreturn\u001b[0m \u001b[0m_euclidean_distances\u001b[0m\u001b[0;34m(\u001b[0m\u001b[0mX\u001b[0m\u001b[0;34m,\u001b[0m \u001b[0mY\u001b[0m\u001b[0;34m,\u001b[0m \u001b[0mX_norm_squared\u001b[0m\u001b[0;34m,\u001b[0m \u001b[0mY_norm_squared\u001b[0m\u001b[0;34m,\u001b[0m \u001b[0msquared\u001b[0m\u001b[0;34m)\u001b[0m\u001b[0;34m\u001b[0m\u001b[0;34m\u001b[0m\u001b[0m\n\u001b[0m\u001b[1;32m    329\u001b[0m \u001b[0;34m\u001b[0m\u001b[0m\n\u001b[1;32m    330\u001b[0m \u001b[0;34m\u001b[0m\u001b[0m\n",
      "\u001b[0;32m~/.conda/envs/scplotenv/lib/python3.8/site-packages/sklearn/metrics/pairwise.py\u001b[0m in \u001b[0;36m_euclidean_distances\u001b[0;34m(X, Y, X_norm_squared, Y_norm_squared, squared)\u001b[0m\n\u001b[1;32m    367\u001b[0m     \u001b[0;32melse\u001b[0m\u001b[0;34m:\u001b[0m\u001b[0;34m\u001b[0m\u001b[0;34m\u001b[0m\u001b[0m\n\u001b[1;32m    368\u001b[0m         \u001b[0;31m# if dtype is already float64, no need to chunk and upcast\u001b[0m\u001b[0;34m\u001b[0m\u001b[0;34m\u001b[0m\u001b[0;34m\u001b[0m\u001b[0m\n\u001b[0;32m--> 369\u001b[0;31m         \u001b[0mdistances\u001b[0m \u001b[0;34m=\u001b[0m \u001b[0;34m-\u001b[0m\u001b[0;36m2\u001b[0m \u001b[0;34m*\u001b[0m \u001b[0msafe_sparse_dot\u001b[0m\u001b[0;34m(\u001b[0m\u001b[0mX\u001b[0m\u001b[0;34m,\u001b[0m \u001b[0mY\u001b[0m\u001b[0;34m.\u001b[0m\u001b[0mT\u001b[0m\u001b[0;34m,\u001b[0m \u001b[0mdense_output\u001b[0m\u001b[0;34m=\u001b[0m\u001b[0;32mTrue\u001b[0m\u001b[0;34m)\u001b[0m\u001b[0;34m\u001b[0m\u001b[0;34m\u001b[0m\u001b[0m\n\u001b[0m\u001b[1;32m    370\u001b[0m         \u001b[0mdistances\u001b[0m \u001b[0;34m+=\u001b[0m \u001b[0mXX\u001b[0m\u001b[0;34m\u001b[0m\u001b[0;34m\u001b[0m\u001b[0m\n\u001b[1;32m    371\u001b[0m         \u001b[0mdistances\u001b[0m \u001b[0;34m+=\u001b[0m \u001b[0mYY\u001b[0m\u001b[0;34m\u001b[0m\u001b[0;34m\u001b[0m\u001b[0m\n",
      "\u001b[0;32m~/.conda/envs/scplotenv/lib/python3.8/site-packages/sklearn/utils/extmath.py\u001b[0m in \u001b[0;36msafe_sparse_dot\u001b[0;34m(a, b, dense_output)\u001b[0m\n\u001b[1;32m    187\u001b[0m             \u001b[0mret\u001b[0m \u001b[0;34m=\u001b[0m \u001b[0mnp\u001b[0m\u001b[0;34m.\u001b[0m\u001b[0mdot\u001b[0m\u001b[0;34m(\u001b[0m\u001b[0ma\u001b[0m\u001b[0;34m,\u001b[0m \u001b[0mb\u001b[0m\u001b[0;34m)\u001b[0m\u001b[0;34m\u001b[0m\u001b[0;34m\u001b[0m\u001b[0m\n\u001b[1;32m    188\u001b[0m     \u001b[0;32melse\u001b[0m\u001b[0;34m:\u001b[0m\u001b[0;34m\u001b[0m\u001b[0;34m\u001b[0m\u001b[0m\n\u001b[0;32m--> 189\u001b[0;31m         \u001b[0mret\u001b[0m \u001b[0;34m=\u001b[0m \u001b[0ma\u001b[0m \u001b[0;34m@\u001b[0m \u001b[0mb\u001b[0m\u001b[0;34m\u001b[0m\u001b[0;34m\u001b[0m\u001b[0m\n\u001b[0m\u001b[1;32m    190\u001b[0m \u001b[0;34m\u001b[0m\u001b[0m\n\u001b[1;32m    191\u001b[0m     if (\n",
      "\u001b[0;32m~/.local/lib/python3.8/site-packages/scipy/sparse/_base.py\u001b[0m in \u001b[0;36m__matmul__\u001b[0;34m(self, other)\u001b[0m\n\u001b[1;32m    628\u001b[0m             raise ValueError(\"Scalar operands are not allowed, \"\n\u001b[1;32m    629\u001b[0m                              \"use '*' instead\")\n\u001b[0;32m--> 630\u001b[0;31m         \u001b[0;32mreturn\u001b[0m \u001b[0mself\u001b[0m\u001b[0;34m.\u001b[0m\u001b[0m_mul_dispatch\u001b[0m\u001b[0;34m(\u001b[0m\u001b[0mother\u001b[0m\u001b[0;34m)\u001b[0m\u001b[0;34m\u001b[0m\u001b[0;34m\u001b[0m\u001b[0m\n\u001b[0m\u001b[1;32m    631\u001b[0m \u001b[0;34m\u001b[0m\u001b[0m\n\u001b[1;32m    632\u001b[0m     \u001b[0;32mdef\u001b[0m \u001b[0m__rmatmul__\u001b[0m\u001b[0;34m(\u001b[0m\u001b[0mself\u001b[0m\u001b[0;34m,\u001b[0m \u001b[0mother\u001b[0m\u001b[0;34m)\u001b[0m\u001b[0;34m:\u001b[0m\u001b[0;34m\u001b[0m\u001b[0;34m\u001b[0m\u001b[0m\n",
      "\u001b[0;32m~/.local/lib/python3.8/site-packages/scipy/sparse/_base.py\u001b[0m in \u001b[0;36m_mul_dispatch\u001b[0;34m(self, other)\u001b[0m\n\u001b[1;32m    539\u001b[0m             \u001b[0;32mif\u001b[0m \u001b[0mself\u001b[0m\u001b[0;34m.\u001b[0m\u001b[0mshape\u001b[0m\u001b[0;34m[\u001b[0m\u001b[0;36m1\u001b[0m\u001b[0;34m]\u001b[0m \u001b[0;34m!=\u001b[0m \u001b[0mother\u001b[0m\u001b[0;34m.\u001b[0m\u001b[0mshape\u001b[0m\u001b[0;34m[\u001b[0m\u001b[0;36m0\u001b[0m\u001b[0;34m]\u001b[0m\u001b[0;34m:\u001b[0m\u001b[0;34m\u001b[0m\u001b[0;34m\u001b[0m\u001b[0m\n\u001b[1;32m    540\u001b[0m                 \u001b[0;32mraise\u001b[0m \u001b[0mValueError\u001b[0m\u001b[0;34m(\u001b[0m\u001b[0;34m'dimension mismatch'\u001b[0m\u001b[0;34m)\u001b[0m\u001b[0;34m\u001b[0m\u001b[0;34m\u001b[0m\u001b[0m\n\u001b[0;32m--> 541\u001b[0;31m             \u001b[0;32mreturn\u001b[0m \u001b[0mself\u001b[0m\u001b[0;34m.\u001b[0m\u001b[0m_mul_sparse_matrix\u001b[0m\u001b[0;34m(\u001b[0m\u001b[0mother\u001b[0m\u001b[0;34m)\u001b[0m\u001b[0;34m\u001b[0m\u001b[0;34m\u001b[0m\u001b[0m\n\u001b[0m\u001b[1;32m    542\u001b[0m \u001b[0;34m\u001b[0m\u001b[0m\n\u001b[1;32m    543\u001b[0m         \u001b[0;31m# If it's a list or whatever, treat it like a matrix\u001b[0m\u001b[0;34m\u001b[0m\u001b[0;34m\u001b[0m\u001b[0;34m\u001b[0m\u001b[0m\n",
      "\u001b[0;32m~/.local/lib/python3.8/site-packages/scipy/sparse/_compressed.py\u001b[0m in \u001b[0;36m_mul_sparse_matrix\u001b[0;34m(self, other)\u001b[0m\n\u001b[1;32m    527\u001b[0m \u001b[0;34m\u001b[0m\u001b[0m\n\u001b[1;32m    528\u001b[0m         \u001b[0mindptr\u001b[0m \u001b[0;34m=\u001b[0m \u001b[0mnp\u001b[0m\u001b[0;34m.\u001b[0m\u001b[0mempty\u001b[0m\u001b[0;34m(\u001b[0m\u001b[0mmajor_axis\u001b[0m \u001b[0;34m+\u001b[0m \u001b[0;36m1\u001b[0m\u001b[0;34m,\u001b[0m \u001b[0mdtype\u001b[0m\u001b[0;34m=\u001b[0m\u001b[0midx_dtype\u001b[0m\u001b[0;34m)\u001b[0m\u001b[0;34m\u001b[0m\u001b[0;34m\u001b[0m\u001b[0m\n\u001b[0;32m--> 529\u001b[0;31m         \u001b[0mindices\u001b[0m \u001b[0;34m=\u001b[0m \u001b[0mnp\u001b[0m\u001b[0;34m.\u001b[0m\u001b[0mempty\u001b[0m\u001b[0;34m(\u001b[0m\u001b[0mnnz\u001b[0m\u001b[0;34m,\u001b[0m \u001b[0mdtype\u001b[0m\u001b[0;34m=\u001b[0m\u001b[0midx_dtype\u001b[0m\u001b[0;34m)\u001b[0m\u001b[0;34m\u001b[0m\u001b[0;34m\u001b[0m\u001b[0m\n\u001b[0m\u001b[1;32m    530\u001b[0m         \u001b[0mdata\u001b[0m \u001b[0;34m=\u001b[0m \u001b[0mnp\u001b[0m\u001b[0;34m.\u001b[0m\u001b[0mempty\u001b[0m\u001b[0;34m(\u001b[0m\u001b[0mnnz\u001b[0m\u001b[0;34m,\u001b[0m \u001b[0mdtype\u001b[0m\u001b[0;34m=\u001b[0m\u001b[0mupcast\u001b[0m\u001b[0;34m(\u001b[0m\u001b[0mself\u001b[0m\u001b[0;34m.\u001b[0m\u001b[0mdtype\u001b[0m\u001b[0;34m,\u001b[0m \u001b[0mother\u001b[0m\u001b[0;34m.\u001b[0m\u001b[0mdtype\u001b[0m\u001b[0;34m)\u001b[0m\u001b[0;34m)\u001b[0m\u001b[0;34m\u001b[0m\u001b[0;34m\u001b[0m\u001b[0m\n\u001b[1;32m    531\u001b[0m \u001b[0;34m\u001b[0m\u001b[0m\n",
      "\u001b[0;31mMemoryError\u001b[0m: Unable to allocate 745. GiB for an array with shape (100037022196,) and data type int64"
     ]
    }
   ],
   "source": [
    "from sklearn.cluster import AffinityPropagation\n",
    "# define the model\n",
    "model_apm = AffinityPropagation(damping=0.9)\n",
    "# fit the model\n",
    "model_apm.fit(sparse_matrix)\n",
    "# assign a cluster to each example\n",
    "yhat = model_apm.predict(X)\n",
    "# retrieve unique clusters\n",
    "clusters = unique(yhat)"
   ]
  },
  {
   "cell_type": "code",
   "execution_count": 47,
   "metadata": {},
   "outputs": [
    {
     "name": "stdout",
     "output_type": "stream",
     "text": [
      "                        all_df: 135.4 GiB\n",
      "                            _5: 315.3 MiB\n",
      "                             a: 315.3 MiB\n",
      "                   set_qseqids: 136.0 MiB\n",
      "                      test_ids: 34.0 MiB\n",
      "                           _19:  3.2 KiB\n",
      "                           _41:  1.2 KiB\n",
      "                    csr_matrix:  1.0 KiB\n",
      "                           _i2:  928.0 B\n",
      "                           _oh:  640.0 B\n"
     ]
    }
   ],
   "source": [
    "import sys\n",
    "def sizeof_fmt(num, suffix='B'):\n",
    "    ''' by Fred Cirera,  https://stackoverflow.com/a/1094933/1870254, modified'''\n",
    "    for unit in ['','Ki','Mi','Gi','Ti','Pi','Ei','Zi']:\n",
    "        if abs(num) < 1024.0:\n",
    "            return \"%3.1f %s%s\" % (num, unit, suffix)\n",
    "        num /= 1024.0\n",
    "    return \"%.1f %s%s\" % (num, 'Yi', suffix)\n",
    "\n",
    "for name, size in sorted(((name, sys.getsizeof(value)) for name, value in globals().items()),\n",
    "                         key= lambda x: -x[1])[:10]:\n",
    "    print(\"{:>30}: {:>8}\".format(name, sizeof_fmt(size)))"
   ]
  },
  {
   "cell_type": "code",
   "execution_count": 59,
   "metadata": {},
   "outputs": [],
   "source": [
    "del li"
   ]
  },
  {
   "cell_type": "code",
   "execution_count": 61,
   "metadata": {},
   "outputs": [
    {
     "data": {
      "text/plain": [
       "['In',\n",
       " 'Out',\n",
       " '_',\n",
       " '_19',\n",
       " '_22',\n",
       " '_26',\n",
       " '_29',\n",
       " '_30',\n",
       " '_31',\n",
       " '_33',\n",
       " '_34',\n",
       " '_35',\n",
       " '_39',\n",
       " '_41',\n",
       " '_43',\n",
       " '_44',\n",
       " '_45',\n",
       " '_48',\n",
       " '_51',\n",
       " '_52',\n",
       " '_53',\n",
       " '_56',\n",
       " '__',\n",
       " '___',\n",
       " '__builtin__',\n",
       " '__builtins__',\n",
       " '__doc__',\n",
       " '__loader__',\n",
       " '__name__',\n",
       " '__package__',\n",
       " '__spec__',\n",
       " '_dh',\n",
       " '_i',\n",
       " '_i1',\n",
       " '_i10',\n",
       " '_i11',\n",
       " '_i12',\n",
       " '_i13',\n",
       " '_i14',\n",
       " '_i15',\n",
       " '_i16',\n",
       " '_i17',\n",
       " '_i18',\n",
       " '_i19',\n",
       " '_i2',\n",
       " '_i20',\n",
       " '_i21',\n",
       " '_i22',\n",
       " '_i23',\n",
       " '_i24',\n",
       " '_i25',\n",
       " '_i26',\n",
       " '_i27',\n",
       " '_i28',\n",
       " '_i29',\n",
       " '_i3',\n",
       " '_i30',\n",
       " '_i31',\n",
       " '_i32',\n",
       " '_i33',\n",
       " '_i34',\n",
       " '_i35',\n",
       " '_i36',\n",
       " '_i37',\n",
       " '_i38',\n",
       " '_i39',\n",
       " '_i4',\n",
       " '_i40',\n",
       " '_i41',\n",
       " '_i42',\n",
       " '_i43',\n",
       " '_i44',\n",
       " '_i45',\n",
       " '_i46',\n",
       " '_i47',\n",
       " '_i48',\n",
       " '_i49',\n",
       " '_i5',\n",
       " '_i50',\n",
       " '_i51',\n",
       " '_i52',\n",
       " '_i53',\n",
       " '_i54',\n",
       " '_i55',\n",
       " '_i56',\n",
       " '_i57',\n",
       " '_i58',\n",
       " '_i59',\n",
       " '_i6',\n",
       " '_i60',\n",
       " '_i61',\n",
       " '_i7',\n",
       " '_i8',\n",
       " '_i9',\n",
       " '_ih',\n",
       " '_ii',\n",
       " '_iii',\n",
       " '_oh',\n",
       " 'all_df',\n",
       " 'curr',\n",
       " 'dir_in',\n",
       " 'exit',\n",
       " 'get_ipython',\n",
       " 'name',\n",
       " 'np',\n",
       " 'os',\n",
       " 'pd',\n",
       " 'quit',\n",
       " 'random',\n",
       " 'save_suffix',\n",
       " 'set_qseqids',\n",
       " 'size',\n",
       " 'sizeof_fmt',\n",
       " 'sys',\n",
       " 'test_ids']"
      ]
     },
     "execution_count": 61,
     "metadata": {},
     "output_type": "execute_result"
    }
   ],
   "source": [
    "dir()"
   ]
  },
  {
   "cell_type": "markdown",
   "metadata": {},
   "source": [
    "## Random Forest with AdaBoost training approach"
   ]
  },
  {
   "cell_type": "code",
   "execution_count": 4,
   "metadata": {},
   "outputs": [],
   "source": [
    "dir_in=\"../../../output/bidirectional-hit-dbs-modids/pep_diamond_matches/small_files_larger_chunks/\"\n",
    "save_suffix=\"100est_26Dec22_allfams\"\n",
    "\n",
    "li = []\n",
    "for curr in os.listdir(dir_in):\n",
    "    df = pd.read_csv(os.path.join(\"../../scripts\",'all_'+str(save_suffix)+\"_\"+curr+'.csv'),\n",
    "                     usecols=[\"qseqid\",\"sseqid\",\"pident\",\"bitscore\",\"source_id\",\n",
    "                                                                     \"source_id_q\",\n",
    "                                                        \"family\",\"Family\",\"MatchedFam\"],\n",
    "                     dtype={\"qseqid\":str,\"sseqid\":str,\n",
    "                            \"pident\":str,\"bitscore\":str,\n",
    "                            \"source_id\":str,\"source_id_q\":str,\"family\":str,\"Family\":str,\n",
    "                            \"MatchedFam\":str})\n",
    "    df=df.loc[df.qseqid!=df.sseqid,:]\n",
    "    df=df.loc[df.pident.astype(float) < 80,:]\n",
    "    li.append(df)\n",
    "\n",
    "all_df = pd.concat(li, axis=0, ignore_index=True)"
   ]
  },
  {
   "cell_type": "code",
   "execution_count": 5,
   "metadata": {},
   "outputs": [
    {
     "data": {
      "text/plain": [
       "20"
      ]
     },
     "execution_count": 5,
     "metadata": {},
     "output_type": "execute_result"
    }
   ],
   "source": [
    "import gc\n",
    "gc.collect()"
   ]
  },
  {
   "cell_type": "code",
   "execution_count": 6,
   "metadata": {},
   "outputs": [],
   "source": [
    "all_df.drop([\"source_id\",\"source_id_q\",\"MatchedFam\"],inplace=True,axis=1)"
   ]
  },
  {
   "cell_type": "code",
   "execution_count": 8,
   "metadata": {},
   "outputs": [],
   "source": [
    "all_df.pident=all_df.pident.astype(\"float16\")\n",
    "all_df.bitscore=all_df.bitscore.astype(\"float16\")"
   ]
  },
  {
   "cell_type": "code",
   "execution_count": 9,
   "metadata": {},
   "outputs": [
    {
     "data": {
      "text/plain": [
       "qseqid       object\n",
       "sseqid       object\n",
       "pident      float16\n",
       "bitscore    float16\n",
       "family       object\n",
       "Family       object\n",
       "dtype: object"
      ]
     },
     "execution_count": 9,
     "metadata": {},
     "output_type": "execute_result"
    }
   ],
   "source": [
    "all_df.dtypes"
   ]
  },
  {
   "cell_type": "code",
   "execution_count": 11,
   "metadata": {},
   "outputs": [],
   "source": [
    "import random\n",
    "random.seed(42)\n",
    "set_qseqids=list(set(all_df.qseqid))\n",
    "test_ids=random.sample(set_qseqids, int(0.25*len(set_qseqids)))\n",
    "a = all_df.qseqid.isin(test_ids)\n",
    "\n",
    "test_df = all_df[a]\n",
    "#all_df.drop(x, inplace=True, axis=0)\n",
    "train_df = all_df[~a] #all_df[~a]\n",
    "#del all_df"
   ]
  },
  {
   "cell_type": "code",
   "execution_count": 12,
   "metadata": {},
   "outputs": [
    {
     "ename": "MemoryError",
     "evalue": "cannot allocate memory for array",
     "output_type": "error",
     "traceback": [
      "\u001b[0;31m--------------------------\u001b[0m",
      "\u001b[0;31mMemoryError\u001b[0mTraceback (most recent call last)",
      "\u001b[0;32m<ipython-input-12-9d18599ecba4>\u001b[0m in \u001b[0;36m<module>\u001b[0;34m\u001b[0m\n\u001b[0;32m----> 1\u001b[0;31m \u001b[0mall_df_filt\u001b[0m \u001b[0;34m=\u001b[0m \u001b[0mtrain_df\u001b[0m\u001b[0;34m.\u001b[0m\u001b[0mdrop_duplicates\u001b[0m\u001b[0;34m(\u001b[0m\u001b[0msubset\u001b[0m\u001b[0;34m=\u001b[0m\u001b[0;34m[\u001b[0m\u001b[0;34m\"Family\"\u001b[0m\u001b[0;34m,\u001b[0m\u001b[0;34m\"qseqid\"\u001b[0m\u001b[0;34m,\u001b[0m\u001b[0;34m\"sseqid\"\u001b[0m\u001b[0;34m,\u001b[0m\u001b[0;34m\"pident\"\u001b[0m\u001b[0;34m]\u001b[0m\u001b[0;34m)\u001b[0m\u001b[0;34m.\u001b[0m\u001b[0;31m\\\u001b[0m\u001b[0;34m\u001b[0m\u001b[0;34m\u001b[0m\u001b[0m\n\u001b[0m\u001b[1;32m      2\u001b[0m     \u001b[0mloc\u001b[0m\u001b[0;34m[\u001b[0m\u001b[0mall_df_filt\u001b[0m\u001b[0;34m.\u001b[0m\u001b[0mpident\u001b[0m \u001b[0;34m>=\u001b[0m \u001b[0mpident\u001b[0m\u001b[0;34m,\u001b[0m\u001b[0;34m:\u001b[0m\u001b[0;34m]\u001b[0m\u001b[0;34m\u001b[0m\u001b[0;34m\u001b[0m\u001b[0m\n\u001b[1;32m      3\u001b[0m \u001b[0mall_df_filt_2\u001b[0m \u001b[0;34m=\u001b[0m \u001b[0mall_df_filt\u001b[0m\u001b[0;34m.\u001b[0m\u001b[0mloc\u001b[0m\u001b[0;34m[\u001b[0m\u001b[0mall_df_filt\u001b[0m\u001b[0;34m.\u001b[0m\u001b[0mqseqid\u001b[0m\u001b[0;34m!=\u001b[0m\u001b[0mall_df_filt\u001b[0m\u001b[0;34m.\u001b[0m\u001b[0msseqid\u001b[0m\u001b[0;34m,\u001b[0m\u001b[0;34m:\u001b[0m\u001b[0;34m]\u001b[0m\u001b[0;34m\u001b[0m\u001b[0;34m\u001b[0m\u001b[0m\n\u001b[1;32m      4\u001b[0m \u001b[0mcounted_by_fam\u001b[0m \u001b[0;34m=\u001b[0m \u001b[0mall_df_filt_2\u001b[0m\u001b[0;34m.\u001b[0m\u001b[0mgroupby\u001b[0m\u001b[0;34m(\u001b[0m\u001b[0;34m[\u001b[0m\u001b[0;34m\"qseqid\"\u001b[0m\u001b[0;34m,\u001b[0m\u001b[0;34m\"Family\"\u001b[0m\u001b[0;34m,\u001b[0m\u001b[0;34m\"family\"\u001b[0m\u001b[0;34m]\u001b[0m\u001b[0;34m)\u001b[0m\u001b[0;34m[\u001b[0m\u001b[0;34m\"sseqid\"\u001b[0m\u001b[0;34m]\u001b[0m\u001b[0;34m.\u001b[0m\u001b[0mcount\u001b[0m\u001b[0;34m(\u001b[0m\u001b[0;34m)\u001b[0m\u001b[0;34m.\u001b[0m\u001b[0mreset_index\u001b[0m\u001b[0;34m(\u001b[0m\u001b[0;34m)\u001b[0m\u001b[0;34m\u001b[0m\u001b[0;34m\u001b[0m\u001b[0m\n\u001b[1;32m      5\u001b[0m \u001b[0;34m\u001b[0m\u001b[0m\n",
      "\u001b[0;32m~/.conda/envs/scplotenv/lib/python3.8/site-packages/pandas/util/_decorators.py\u001b[0m in \u001b[0;36mwrapper\u001b[0;34m(*args, **kwargs)\u001b[0m\n\u001b[1;32m    309\u001b[0m                     \u001b[0mstacklevel\u001b[0m\u001b[0;34m=\u001b[0m\u001b[0mstacklevel\u001b[0m\u001b[0;34m,\u001b[0m\u001b[0;34m\u001b[0m\u001b[0;34m\u001b[0m\u001b[0m\n\u001b[1;32m    310\u001b[0m                 )\n\u001b[0;32m--> 311\u001b[0;31m             \u001b[0;32mreturn\u001b[0m \u001b[0mfunc\u001b[0m\u001b[0;34m(\u001b[0m\u001b[0;34m*\u001b[0m\u001b[0margs\u001b[0m\u001b[0;34m,\u001b[0m \u001b[0;34m**\u001b[0m\u001b[0mkwargs\u001b[0m\u001b[0;34m)\u001b[0m\u001b[0;34m\u001b[0m\u001b[0;34m\u001b[0m\u001b[0m\n\u001b[0m\u001b[1;32m    312\u001b[0m \u001b[0;34m\u001b[0m\u001b[0m\n\u001b[1;32m    313\u001b[0m         \u001b[0;32mreturn\u001b[0m \u001b[0mwrapper\u001b[0m\u001b[0;34m\u001b[0m\u001b[0;34m\u001b[0m\u001b[0m\n",
      "\u001b[0;32m~/.conda/envs/scplotenv/lib/python3.8/site-packages/pandas/core/frame.py\u001b[0m in \u001b[0;36mdrop_duplicates\u001b[0;34m(self, subset, keep, inplace, ignore_index)\u001b[0m\n\u001b[1;32m   6116\u001b[0m         \u001b[0minplace\u001b[0m \u001b[0;34m=\u001b[0m \u001b[0mvalidate_bool_kwarg\u001b[0m\u001b[0;34m(\u001b[0m\u001b[0minplace\u001b[0m\u001b[0;34m,\u001b[0m \u001b[0;34m\"inplace\"\u001b[0m\u001b[0;34m)\u001b[0m\u001b[0;34m\u001b[0m\u001b[0;34m\u001b[0m\u001b[0m\n\u001b[1;32m   6117\u001b[0m         \u001b[0mignore_index\u001b[0m \u001b[0;34m=\u001b[0m \u001b[0mvalidate_bool_kwarg\u001b[0m\u001b[0;34m(\u001b[0m\u001b[0mignore_index\u001b[0m\u001b[0;34m,\u001b[0m \u001b[0;34m\"ignore_index\"\u001b[0m\u001b[0;34m)\u001b[0m\u001b[0;34m\u001b[0m\u001b[0;34m\u001b[0m\u001b[0m\n\u001b[0;32m-> 6118\u001b[0;31m         \u001b[0mduplicated\u001b[0m \u001b[0;34m=\u001b[0m \u001b[0mself\u001b[0m\u001b[0;34m.\u001b[0m\u001b[0mduplicated\u001b[0m\u001b[0;34m(\u001b[0m\u001b[0msubset\u001b[0m\u001b[0;34m,\u001b[0m \u001b[0mkeep\u001b[0m\u001b[0;34m=\u001b[0m\u001b[0mkeep\u001b[0m\u001b[0;34m)\u001b[0m\u001b[0;34m\u001b[0m\u001b[0;34m\u001b[0m\u001b[0m\n\u001b[0m\u001b[1;32m   6119\u001b[0m \u001b[0;34m\u001b[0m\u001b[0m\n\u001b[1;32m   6120\u001b[0m         \u001b[0mresult\u001b[0m \u001b[0;34m=\u001b[0m \u001b[0mself\u001b[0m\u001b[0;34m[\u001b[0m\u001b[0;34m-\u001b[0m\u001b[0mduplicated\u001b[0m\u001b[0;34m]\u001b[0m\u001b[0;34m\u001b[0m\u001b[0;34m\u001b[0m\u001b[0m\n",
      "\u001b[0;32m~/.conda/envs/scplotenv/lib/python3.8/site-packages/pandas/core/frame.py\u001b[0m in \u001b[0;36mduplicated\u001b[0;34m(self, subset, keep)\u001b[0m\n\u001b[1;32m   6255\u001b[0m         \u001b[0mlabels\u001b[0m\u001b[0;34m,\u001b[0m \u001b[0mshape\u001b[0m \u001b[0;34m=\u001b[0m \u001b[0mmap\u001b[0m\u001b[0;34m(\u001b[0m\u001b[0mlist\u001b[0m\u001b[0;34m,\u001b[0m \u001b[0mzip\u001b[0m\u001b[0;34m(\u001b[0m\u001b[0;34m*\u001b[0m\u001b[0mmap\u001b[0m\u001b[0;34m(\u001b[0m\u001b[0mf\u001b[0m\u001b[0;34m,\u001b[0m \u001b[0mvals\u001b[0m\u001b[0;34m)\u001b[0m\u001b[0;34m)\u001b[0m\u001b[0;34m)\u001b[0m\u001b[0;34m\u001b[0m\u001b[0;34m\u001b[0m\u001b[0m\n\u001b[1;32m   6256\u001b[0m \u001b[0;34m\u001b[0m\u001b[0m\n\u001b[0;32m-> 6257\u001b[0;31m         ids = get_group_index(\n\u001b[0m\u001b[1;32m   6258\u001b[0m             \u001b[0mlabels\u001b[0m\u001b[0;34m,\u001b[0m\u001b[0;34m\u001b[0m\u001b[0;34m\u001b[0m\u001b[0m\n\u001b[1;32m   6259\u001b[0m             \u001b[0;31m# error: Argument 1 to \"tuple\" has incompatible type \"List[_T]\";\u001b[0m\u001b[0;34m\u001b[0m\u001b[0;34m\u001b[0m\u001b[0;34m\u001b[0m\u001b[0m\n",
      "\u001b[0;32m~/.conda/envs/scplotenv/lib/python3.8/site-packages/pandas/core/sorting.py\u001b[0m in \u001b[0;36mget_group_index\u001b[0;34m(labels, shape, sort, xnull)\u001b[0m\n\u001b[1;32m    183\u001b[0m         \u001b[0;31m# compress what has been done so far in order to avoid overflow\u001b[0m\u001b[0;34m\u001b[0m\u001b[0;34m\u001b[0m\u001b[0;34m\u001b[0m\u001b[0m\n\u001b[1;32m    184\u001b[0m         \u001b[0;31m# to retain lexical ranks, obs_ids should be sorted\u001b[0m\u001b[0;34m\u001b[0m\u001b[0;34m\u001b[0m\u001b[0;34m\u001b[0m\u001b[0m\n\u001b[0;32m--> 185\u001b[0;31m         \u001b[0mcomp_ids\u001b[0m\u001b[0;34m,\u001b[0m \u001b[0mobs_ids\u001b[0m \u001b[0;34m=\u001b[0m \u001b[0mcompress_group_index\u001b[0m\u001b[0;34m(\u001b[0m\u001b[0mout\u001b[0m\u001b[0;34m,\u001b[0m \u001b[0msort\u001b[0m\u001b[0;34m=\u001b[0m\u001b[0msort\u001b[0m\u001b[0;34m)\u001b[0m\u001b[0;34m\u001b[0m\u001b[0;34m\u001b[0m\u001b[0m\n\u001b[0m\u001b[1;32m    186\u001b[0m \u001b[0;34m\u001b[0m\u001b[0m\n\u001b[1;32m    187\u001b[0m         \u001b[0mlabels\u001b[0m \u001b[0;34m=\u001b[0m \u001b[0;34m[\u001b[0m\u001b[0mcomp_ids\u001b[0m\u001b[0;34m]\u001b[0m \u001b[0;34m+\u001b[0m \u001b[0mlabels\u001b[0m\u001b[0;34m[\u001b[0m\u001b[0mnlev\u001b[0m\u001b[0;34m:\u001b[0m\u001b[0;34m]\u001b[0m\u001b[0;34m\u001b[0m\u001b[0;34m\u001b[0m\u001b[0m\n",
      "\u001b[0;32m~/.conda/envs/scplotenv/lib/python3.8/site-packages/pandas/core/sorting.py\u001b[0m in \u001b[0;36mcompress_group_index\u001b[0;34m(group_index, sort)\u001b[0m\n\u001b[1;32m    667\u001b[0m \u001b[0;34m\u001b[0m\u001b[0m\n\u001b[1;32m    668\u001b[0m     \u001b[0;31m# note, group labels come out ascending (ie, 1,2,3 etc)\u001b[0m\u001b[0;34m\u001b[0m\u001b[0;34m\u001b[0m\u001b[0;34m\u001b[0m\u001b[0m\n\u001b[0;32m--> 669\u001b[0;31m     \u001b[0mcomp_ids\u001b[0m\u001b[0;34m,\u001b[0m \u001b[0mobs_group_ids\u001b[0m \u001b[0;34m=\u001b[0m \u001b[0mtable\u001b[0m\u001b[0;34m.\u001b[0m\u001b[0mget_labels_groupby\u001b[0m\u001b[0;34m(\u001b[0m\u001b[0mgroup_index\u001b[0m\u001b[0;34m)\u001b[0m\u001b[0;34m\u001b[0m\u001b[0;34m\u001b[0m\u001b[0m\n\u001b[0m\u001b[1;32m    670\u001b[0m \u001b[0;34m\u001b[0m\u001b[0m\n\u001b[1;32m    671\u001b[0m     \u001b[0;32mif\u001b[0m \u001b[0msort\u001b[0m \u001b[0;32mand\u001b[0m \u001b[0mlen\u001b[0m\u001b[0;34m(\u001b[0m\u001b[0mobs_group_ids\u001b[0m\u001b[0;34m)\u001b[0m \u001b[0;34m>\u001b[0m \u001b[0;36m0\u001b[0m\u001b[0;34m:\u001b[0m\u001b[0;34m\u001b[0m\u001b[0;34m\u001b[0m\u001b[0m\n",
      "\u001b[0;32mpandas/_libs/hashtable_class_helper.pxi\u001b[0m in \u001b[0;36mpandas._libs.hashtable.Int64HashTable.get_labels_groupby\u001b[0;34m()\u001b[0m\n",
      "\u001b[0;32mpandas/_libs/hashtable_class_helper.pxi\u001b[0m in \u001b[0;36mpandas._libs.hashtable.Int64Vector.resize\u001b[0;34m()\u001b[0m\n",
      "\u001b[0;31mMemoryError\u001b[0m: cannot allocate memory for array"
     ]
    }
   ],
   "source": [
    "all_df_filt = train_df.drop_duplicates(subset=[\"Family\",\"qseqid\",\"sseqid\",\"pident\"]).\\\n",
    "    loc[all_df_filt.pident >= pident,:]\n",
    "all_df_filt_2 = all_df_filt.loc[all_df_filt.qseqid!=all_df_filt.sseqid,:]\n",
    "counted_by_fam = all_df_filt_2.groupby([\"qseqid\",\"Family\",\"family\"])[\"sseqid\"].count().reset_index()\n",
    "\n",
    "num_families = tax_table.drop_duplicates(subset=[\"family\",\"source_id\"]).\\\n",
    "    groupby(\"family\")[\"source_id\"].count().reset_index().\\\n",
    "    rename({\"source_id\":\"Num_References\"},axis=\"columns\")\n",
    "\n",
    "full_frame = counted_by_fam.merge(num_families,how=\"outer\",\n",
    "                                  left_on=\"family\",right_on=\"family\").fillna(0)\n",
    "full_frame[\"Pident\"] = pident\n",
    "combined_frame_train = pd.concat([combined_frame_train,full_frame])\n",
    "combined_frame_train = combined_frame_train.groupby([\"qseqid\",\"Family\",\"family\"])[\"sseqid\"].count().reset_index()"
   ]
  },
  {
   "cell_type": "code",
   "execution_count": null,
   "metadata": {},
   "outputs": [],
   "source": [
    "all_df_filt = test_df.drop_duplicates(subset=[\"Family\",\"qseqid\",\"sseqid\",\"pident\"]).\\\n",
    "        loc[all_df_filt.pident >= pident,:]\n",
    "all_df_filt_2 = all_df_filt.loc[all_df_filt.qseqid!=all_df_filt.sseqid,:]\n",
    "counted_by_fam = all_df_filt_2.groupby([\"qseqid\",\"Family\",\"family\"])[\"sseqid\"].count().reset_index()\n",
    "\n",
    "full_frame = counted_by_fam.merge(num_total,how=\"outer\").merge(num_families,how=\"outer\",\n",
    "                                                           left_on=\"family\",right_on=\"family\").fillna(0)\n",
    "full_frame[\"Pident\"] = pident\n",
    "combined_frame_test = pd.concat([combined_frame_test,full_frame])\n",
    "combined_frame_test = combined_frame_test.groupby([\"qseqid\",\"Family\",\"family\"])[\"sseqid\"].count().reset_index()"
   ]
  },
  {
   "cell_type": "code",
   "execution_count": null,
   "metadata": {},
   "outputs": [],
   "source": [
    "from scipy.sparse import csr_matrix\n",
    "\n",
    "sequence_u = list(sorted(combined_frame_train.Family.unique()))\n",
    "hits_u = list(sorted(combined_frame_train.family.unique()))\n",
    "\n",
    "data = df['source_id'].tolist()\n",
    "row = pd.Categorical(combined_frame_train.Family,categories=sequence_u).codes\n",
    "col =pd.Categorical(combined_frame_train.family,categories=hits_u).codes \n",
    "sparse_matrix = csr_matrix((combined_frame_train['sseqid'].tolist(), (row, col)), \n",
    "                           shape=(len(sequence_u), len(family_u)))"
   ]
  },
  {
   "cell_type": "code",
   "execution_count": null,
   "metadata": {},
   "outputs": [],
   "source": [
    "from imblearn.ensemble import EasyEnsembleClassifier\n",
    "rf = EasyEnsembleClassifier(n_estimators=10,random_state=42)\n",
    "rf.fit(sparse_matrix, row);"
   ]
  },
  {
   "cell_type": "code",
   "execution_count": null,
   "metadata": {},
   "outputs": [],
   "source": []
  }
 ],
 "metadata": {
  "kernelspec": {
   "display_name": "scplotenv",
   "language": "python",
   "name": "scplotenv"
  },
  "language_info": {
   "codemirror_mode": {
    "name": "ipython",
    "version": 3
   },
   "file_extension": ".py",
   "mimetype": "text/x-python",
   "name": "python",
   "nbconvert_exporter": "python",
   "pygments_lexer": "ipython3",
   "version": "3.8.3"
  }
 },
 "nbformat": 4,
 "nbformat_minor": 2
}
