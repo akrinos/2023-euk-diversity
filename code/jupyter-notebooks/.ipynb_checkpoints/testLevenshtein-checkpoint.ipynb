{
 "cells": [
  {
   "cell_type": "code",
   "execution_count": 12,
   "metadata": {},
   "outputs": [],
   "source": [
    "from Bio import SeqIO\n",
    "import numpy as np\n",
    "import pandas as pd\n",
    "import math\n",
    "import plotnine\n",
    "from fastDamerauLevenshtein import damerauLevenshtein"
   ]
  },
  {
   "cell_type": "code",
   "execution_count": 5,
   "metadata": {},
   "outputs": [
    {
     "name": "stdout",
     "output_type": "stream",
     "text": [
      "Collecting fastDamerauLevenshtein\n",
      "  Using cached fastDamerauLevenshtein-1.0.7.tar.gz (36 kB)\n",
      "Building wheels for collected packages: fastDamerauLevenshtein\n",
      "  Building wheel for fastDamerauLevenshtein (setup.py) ... \u001b[?25ldone\n",
      "\u001b[?25h  Created wheel for fastDamerauLevenshtein: filename=fastDamerauLevenshtein-1.0.7-cp38-cp38-linux_x86_64.whl size=19617 sha256=c2d0f7b3609c26d44872011fba76bc842c36b5354178937bf42ca539ae01d1fa\n",
      "  Stored in directory: /vortexfs1/home/akrinos/.cache/pip/wheels/91/42/0c/b68ca2076f8935222ebee53cfc5c8c3aa8ad6046c8fddda14b\n",
      "Successfully built fastDamerauLevenshtein\n",
      "Installing collected packages: fastDamerauLevenshtein\n",
      "Successfully installed fastDamerauLevenshtein-1.0.7\n",
      "Note: you may need to restart the kernel to use updated packages.\n"
     ]
    }
   ],
   "source": [
    "pip install fastDamerauLevenshtein"
   ]
  },
  {
   "cell_type": "code",
   "execution_count": 2,
   "metadata": {},
   "outputs": [],
   "source": [
    "cluster_seqs_fr=[]\n",
    "with open(\"/vortexfs1/omics/alexander/akrinos/2022-euk-diversity/code/output/levenshtein/clustered_mmetsp_file/sequences_more_than_500.fasta\",\"r\") as f:\n",
    "    cluster_seqs_fr=[curr.seq for curr in SeqIO.parse(f,\"fasta\")]"
   ]
  },
  {
   "cell_type": "code",
   "execution_count": 3,
   "metadata": {
    "scrolled": true
   },
   "outputs": [
    {
     "data": {
      "text/plain": [
       "[Seq('TTCTGGTTTTATAATAATACGTCAATATACTACATAATAATAGTAAATCGGAGT...AGG'),\n",
       " Seq('GGGCTGTACATCATCAGGGGGGACAACATCGCGGTCATCGGCGAGCTGAACGAG...GCG')]"
      ]
     },
     "execution_count": 3,
     "metadata": {},
     "output_type": "execute_result"
    }
   ],
   "source": [
    "cluster_seqs_fr[1:3]"
   ]
  },
  {
   "cell_type": "code",
   "execution_count": 162,
   "metadata": {},
   "outputs": [],
   "source": [
    "#>gnl_Ostreococcus_mediterraneus_Strain_clade-D-RCC2573_MMETSP0936-20121108_2572\n",
    "\n",
    "cluster_seq1=\"GGCGCCGCCGGCGCGCGCCGCCGAGCCCGAAAGCGTCGTCGAACCGGCGCCGCCGATCGCCGTCGTCACGGACGCCGTCGCGACGCTCTCCGTCGCCGCGGCGTCCGCGCCACCGGCGTGTGCGACGCCGCTCGCGAGAGTGTCCAAGGTTAAGGTTGATTTCCGCCCGTTCGGGGCGCCGCTCGCGTTTTTGGCTGCGGCGAAGATGCTCGGGATGGATGTCGCGTGCGGCGAGCAGGTCAAGACGGCGCCGGAAACGCCGACCGCCGTCGTCGATGGCGGCGCGATGACCATCGTCGGCGCGCTGAATATGGTGGATGCGATCGTGAGTGCGGTTGATGGGGATTCTACGCTCATGGGCGCGAGCGCGGGCGAAGCGGAGGCGATTCACCATTGGTTGGCGCAGGCGAAGAACTTTCTTCCGGGCGGCGGGTTTGAGCGACAGTGCGAGCAAATGGACGAATACTTGGCGACGCGCACGTATTTGGTTGGACACGCGATAACGCTCGCGGATTTAGCCATGTGGGCTGAGTTTACGACGAACCGTCAGTGGCTGGTGATTGTGAAGAAGAACAAGTGCGCCAACGTGCAACGTTGGTTGGCGACGTTGAACGCCGACGAGACGTTGGGAGCCGTCGTCGCAGAATCGGACGCTGGAAACCCAGTCTTGGCGAAAAAAGCCCCGGTTGGGACGTCGGACGGTGCGGGTAGTAAGAAGAAGGCGGCTACGACTGGTTCGTTCGAAGTGGATCTTCCTGGAGCTGAAGATGGCAAGGTGGTGACGCGTTTTCCGCCCGAGCCGTCTGGATTTTTGCACATCGGCCACGCCAAGGCGGCGTTGTTGAACCACTACTTTGCGCGTCGGTACAACGGTAAGCTCATCGTTCGGTTCGATGACACGAACCCTGATAAAGAAAACAACGATTTTGTGGATAGCATCATGGAGGACATCGCCACGTTGGGTCTCGATCCCGACGTCGTGACGTACACGTCTGATTCCTTTGACGCCATTCTTAAGATGGCTGATAAGCTCATCAAGGAGGGCAAGATGTACATCGACACGACGCCCGTGGACAAAATGCGTGAAGAACGCATGGCCCGTGTCGAGTCAAAGTGCAGAAGCCAAAGTGTGGAGGAAAACTTGCGTCTTTGGAATGAAATGAAGGCGGGTTCTGAAGAGGGTGTTGCGTGTGCCGCGCGATTCAAGATTGACATGTCTCACAACAACGGTTGCATGCGTGATCCTGTCGCGTATCGATGCAACGTGAATACGCCGCACCATCGTACAGGTACCAAGTACAAGGTGTATCCGACGTACGATTGTGCGTGCCCTTTTGTTGACGCGCATGAAGGCGTCACGCATGCGTTGCGAACTTCTGAATACGCTGACCGCGAAGATCAATACATCTGGATTCAAAAAGCTATGGGTTTGCGCAAGGTGCACATCTGGGAATACAGTCGTTTAAATTTGGAGTACACCACGCTCTCCAAGCGCAAGTTGCAATGGTTCGTCGACGAAGGTCACTCTACTGGTTGGGACGATCCACGCTTCCCAACTGTGCAAGGTGTCACGCGCCGAGGCTTGAAGGTTGAAGCGCTCAAGGAGTTTATGCTTTCACAAGGGGCGAGCAAAAACTGCAACTTGATGGAGTGGACGAAGATTTGGGCCATGAACAAGAAGATTATCGATCCCATTGCTCCCCGTCATGTATGCGTCGCCGACGAAGACCGCGTCGTCGTCAACGTGCTTGGTTTCCCCGACGGCGAGCACTGGTACACCACGCCAAAGCACAAGAAGAATCCGGATGTGGGTATCAAAGTGACCTTGCGTATGAAGGAAATCCTCCTCGAACAAGCCGACGCGCAATTGATAAGCGAAGGAGAGGAATGTACGCTCATGGATTGGGGTAA\""
   ]
  },
  {
   "cell_type": "code",
   "execution_count": 163,
   "metadata": {},
   "outputs": [
    {
     "data": {
      "text/plain": [
       "1911"
      ]
     },
     "execution_count": 163,
     "metadata": {},
     "output_type": "execute_result"
    }
   ],
   "source": [
    "len(cluster_seq1)"
   ]
  },
  {
   "cell_type": "code",
   "execution_count": 158,
   "metadata": {},
   "outputs": [],
   "source": [
    "#>gnl_Heterosigma_akashiwo_Strain_CCMP2393_MMETSP0295-20121207_5922\n",
    "cluster_seq2=\"TTCTGGTTTTATAATAATACGTCAATATACTACATAATAATAGTAAATCGGAGTCAAAAACTACTTTCACCACTTGTGTCATAGCCCGCTGCTCCCATTTGGAGACAGGGAACCATCCAATTCAGACCATAATATAATAATGAAAAAATAAAGGTTGATCAATCACCTTATATAAATTACTACATTCAAAATCAAATCTGTATTTTTGGGAGGAGGGCCTTATTTTTTGTCACGACCGCAGAGTTTTGATAACATCTTCTGCCCATAACAGCAACAAAAATCATTCAACCACTGCATACAGAATCACAAAAAGGGCAGTTGATTTCAGTACAATGAGCAVYGSGWTKCTGTCYRCKSAGTWTRTGATGACCGAGTCTCTTGCATCACATATCAGTAGAAGAAAAGAGGGGCGCGCGCTCCTAACGGGTCATCTGCTTGTCACCATAAACTGCGCGGACAGCATCGCGCTGCTGCTTGATAGCGGCCCCAGCCTCCATAGCATTGTCAACCCAGAGGAATTTATCCATCATGCACATACCGCAGCATGGTGTGCAGCACACAGGGACGCAGGGGAGTGGGAACATTGACCGGTAGCAGCAACCGGCACAGAAAGGTGAAGAAAGTTGAAGGAGCTGACCATGTCCACCGCAGCACATGGTTCTGCAGTCATTGCAGCATCTGGTCTTGTCTGTAATTTGGTCCATGATCATAGCATCATAGTACACCACGTGTACATTGTCAGCAACTCGATAGCCACATATGGAGTTCCCGCAGCAGGCCCCCTTCTCGCTCGAAAGGCCAGGCATGTTGAATTCCACCGAGTTCTCGCGGACGTACACGTATGTACTTTCCTCTGTTGCCTTGGTGATGTATTCTGGTAAGGTGCAACACGGACAGACGGCACAGATGGGGCACATTTCAGGGGCATAGCAGACTTCGCAGCAAGGACCTTGCCGAACGCCAGGCACCACGTCCTTAACGATGCCAATGGCATTCGGGGCTTGGCGGTGGATAACTGGACGCCATTCTTTGGGATTGGCCATTATGTCTATTTTTGCCTGCCTTGTCTAGGACTATAATAGTCTTGATTTATTGACTCCGTATACGAAGTATAATAGCGAGGATTTGAATTTTGAGAATTTTTGTTAATGGGTATTGAACAACAAGGTGCCCTACAAAGTAGGTCTAGATCAATGTGGAGAGGTGCAGGTCCTAGTTAAATTTTTTTTGATTTTGTGTGGTGTTATTATATATACAATGATGCCTCCTCTCTGGGCCCTTTTGCTTTTATTTGCCTCTCTCATTCATACCACAGAGTCACTGAGGATTCATTCACAAATCTGTTCCAAAAGATTCAATATCTTTTCAGTTGTAGTGCGTATCATGCCCTGATTTCTGGAGTATATACTTTACTACCGTAGTAGCAAAACGAGGGGCCAGTTGTGCAAAATCCAGCCCTCTGCATGTCCAACCCCTTCGGCATGAGGGGAGACGGCAGGGACTGAGATTTTGCACATCAAAGAAACATCACTGCTGCCCTTAACAAACATCAAACTTGGGTTGTATATACCACAAAAGCAAAAGTTATTCTATATATATGTGAGTTCCACCAAAAAGCTTTATTCAATTAACTTGAATTCATTATGTTCATTAAGCGTTTATTTGAAACTGGAAAACGCCAAACCAGATTACGTTATTTATGTACTACACTTCGACAGTTTACTTGGACATCATCATCTTCACGAACTCCTCGTAGTTGATCTGGCCATCACCATCAATATCGGCCTCACGAATCATCTCATCGACTTCCTCATCGGTAAGCTTTTCACCAAGGTTGGTCATGATGTGTCTGAGCTCAGCAGCGCTGATAAAACCGTTGCCATCCTTGTCGAACACCTTGAATGCCTCGAG\""
   ]
  },
  {
   "cell_type": "code",
   "execution_count": 159,
   "metadata": {},
   "outputs": [
    {
     "data": {
      "text/plain": [
       "1911"
      ]
     },
     "execution_count": 159,
     "metadata": {},
     "output_type": "execute_result"
    }
   ],
   "source": [
    "len(cluster_seq2)"
   ]
  },
  {
   "cell_type": "code",
   "execution_count": 215,
   "metadata": {},
   "outputs": [],
   "source": [
    "cluster_seq3=\"CGCTGTCCCCCATCGGCGAAATCGGCACCTGTGGCCTGCCGCTGCCTCGGGGCCCCGCTTTGAGCATCTTCGGCGGAGCCGGAGAAGCCCTGATCTCCGGAGCGTCGTCCATGTCGATGACCTCGTCCCGCATCGCCGGTGGTGGCTGCTTGTCCCGGAGACCTGCAGGAGTGATCTTCTGGCCGGTCCACGGCGTTGATGACCTCCCAGTCGCCCGCATCATGGGCGAATCCGCGCTGGGAGAGTCCTGCAGCATGTCCTCCACCGGGGCCCGGAACCTCGCCTCCTGCGTCGCGCGTCGTGCGTCTTCGACGATTTGCGACGGGCTCGGGGAGCGGCTACGGAGACCGGCTGCGGTCGCTGCCGTAGCCTGGCACCGGTGACGTACCACGTGGCCCCGCCGGCTGCGCGGCCGTGCTGGTCCACAACATGGAGGGCGGCACGGGCGACGACTTCATGTCGGCGACGCCGTCCACTTCGATGCCGACGTCCTCCGGGATCTCCATGCCGGCAACTGGCGACTGACGTGGGCCCCGCACGGACGATCCTGCCGGGGACAGCATCGACGGGACGAGCGACGGCACCGACTGCCCGACCTGGAGCATGCTGGGCGGAGTTGGCGAGGACCGCATGGCGGGCACTGCCGCGTCGATGACGAGGTCGTCCACGTTGATGACCGGCACCTCGGAGCCGAGGCCGGAGGAGACAGTCTCGGCGATGGGGTCCCCGAGGCCGGAGGAGACGGTCTCGGCGGCGGGCTCCATGTCGAAGAACTGCGGCGCCGGCACGGGGGCACCGGCGGTGATGCCCGCGGCCACGTCCACAGCGATGCGCTCGTCGTCGCTTTCGTAGAGGGCGCCGACACCTCCGCCCATCGGCGGCGGCCCCAAGCTGGCCACCAGGTCGCGGGGAGAGGCCGGGGTCTCCGGGGCCACGGAGGGCTCCGCGTCTGGCTCGAGCGAGGGCGTCATGATGCCGCCTGGGAAAGCCCCAGGGAAGCCTCCTGGGAAGCCTCCCGGGAAGCCTGGGACGCCCTTCTGGGCCTCCAACTCCTTCTCCTTTGCGTCGGCCCTCTCCGCTCTTTCTCGCAACCTTCTCCTCCCTTTCCAAGCGAGAAAGCAGCACATGGAGCAGCATGTCAAGATGATGATGCCGATGCCAAAGCTGGCGGCGCTCACGTCCGCTTCAGTGTCGGTAGGGAAGGGCGCTGCTGGGATATCTTCACCTGGCGCTTCTACGTTCCATCCCGTCTCGATTTCAACGTTGAAGGGGACGGCATCGGTGTAGTCGAACTTGACCACCTGGATGATGTTACTGTTGTTCGTGAGGGACTCCTCATAGGCCAATCTCTCAGGTGTGTTCTCAAGGGTGAGGTTCACGGCCGCTGCCTCGAAGATGGTCACGTCTCCGCTCGGCCACAAGAGCTGGTAGGATATGTTGTACCTCCTGCGGACTGTCCCATCAGCTGCCACGTTGGGATCCACGAGCGTGTAATCGATCACGGCCCACTCCACTTTGTTCATCGTGAAGTTGATGGCGTAGGTGGCAGTCTGCCCGTGCAAGAAAGCCCCGAAGAGCCAATGCTGGGATGGATTTGACCCATCTCCGCAGTCCGCGAGCTCTACTGTATTGCCGGCCACCGGCTCTGATGTGGCGGCGCCGACGCACTTTGTATTGTCCGCCGCCCAGAGGATGTGCCCGGTGCTGCTCACGTAGTAGAACTGCTGCGTGGTTGCACCATCGACGCAATCCTCGACCACGATGGGCCGGCTAGCGTCGCCGTCGCTGCCGCTCACCGCGAGGCATTTGAACGGGTGGGTCGCGTACACAATGTAGCCTGTTGCATCCGGACCCGAGTCCATCTGGAACTGAAGCAGAAAGCCGCCGCCGGTTCCGCAGTCCGCGATGGTCAGGGCGGTCTGCGGTGCAGAGACCGACCCACTGGCTTCCATGCACTGATCTGGGTACTCCACCCACTGGATGACTCCGTAGACAGTCTCCC\""
   ]
  },
  {
   "cell_type": "code",
   "execution_count": 4,
   "metadata": {},
   "outputs": [],
   "source": [
    "seq_vect_0996=[]\n",
    "with open(\"/vortexfs1/omics/alexander/data/mmetsp/MMETSP0996_clean.fasta\",\"r\") as f:\n",
    "    for curr in SeqIO.parse(f,\"fasta\"):\n",
    "        seq_vect_0996.append(curr.seq)"
   ]
  },
  {
   "cell_type": "code",
   "execution_count": 5,
   "metadata": {},
   "outputs": [
    {
     "data": {
      "text/plain": [
       "20513"
      ]
     },
     "execution_count": 5,
     "metadata": {},
     "output_type": "execute_result"
    }
   ],
   "source": [
    "len(seq_vect_0996)"
   ]
  },
  {
   "cell_type": "code",
   "execution_count": 7,
   "metadata": {},
   "outputs": [
    {
     "name": "stdout",
     "output_type": "stream",
     "text": [
      "100\n",
      "200\n"
     ]
    }
   ],
   "source": [
    "def get_kmers(seq_in,kmer_list=[10]):#[5,10,15]):\n",
    "    return set([seq_in[a:a+k] for k in kmer_list\\\n",
    "             for a in range(1+len(seq_in)-k)])\n",
    "\n",
    "kmer_list = []\n",
    "[kmer_list.extend(get_kmers(curr)) for curr in seq_vect_0996[0:200]]\n",
    "kmer_list = list(set(kmer_list))\n",
    "kmer_df=pd.DataFrame()\n",
    "ctr=1\n",
    "for curr in seq_vect_0996[0:200]:\n",
    "    curr_df=pd.DataFrame({\"kmers\":kmer_list,\n",
    "                          \"seq\":\"Seq\"+str(ctr),\n",
    "                          \"kmer_ct\":[curr.count(kmer) for kmer in kmer_list]})\n",
    "    kmer_df=pd.concat([kmer_df,curr_df])\n",
    "    ctr=ctr+1\n",
    "    if ctr % 100 == 0:\n",
    "        print(ctr,flush=True)"
   ]
  },
  {
   "cell_type": "code",
   "execution_count": 24,
   "metadata": {},
   "outputs": [
    {
     "data": {
      "text/plain": [
       "Seq('CTCGTGTCCG')"
      ]
     },
     "execution_count": 24,
     "metadata": {},
     "output_type": "execute_result"
    }
   ],
   "source": [
    "list(kmer_df.kmers)[0]"
   ]
  },
  {
   "cell_type": "code",
   "execution_count": 29,
   "metadata": {},
   "outputs": [],
   "source": [
    "kmer_df[\"strkmers\"] = [str(curr) for curr in kmer_df.kmers]"
   ]
  },
  {
   "cell_type": "code",
   "execution_count": 32,
   "metadata": {},
   "outputs": [
    {
     "data": {
      "text/html": [
       "<div>\n",
       "<style scoped>\n",
       "    .dataframe tbody tr th:only-of-type {\n",
       "        vertical-align: middle;\n",
       "    }\n",
       "\n",
       "    .dataframe tbody tr th {\n",
       "        vertical-align: top;\n",
       "    }\n",
       "\n",
       "    .dataframe thead th {\n",
       "        text-align: right;\n",
       "    }\n",
       "</style>\n",
       "<table border=\"1\" class=\"dataframe\">\n",
       "  <thead>\n",
       "    <tr style=\"text-align: right;\">\n",
       "      <th></th>\n",
       "      <th>strkmers</th>\n",
       "      <th>mean</th>\n",
       "      <th>std</th>\n",
       "    </tr>\n",
       "  </thead>\n",
       "  <tbody>\n",
       "    <tr>\n",
       "      <th>84866</th>\n",
       "      <td>GGCGGCGGCG</td>\n",
       "      <td>0.325</td>\n",
       "      <td>0.672037</td>\n",
       "    </tr>\n",
       "    <tr>\n",
       "      <th>42949</th>\n",
       "      <td>CGCCGCCGCC</td>\n",
       "      <td>0.315</td>\n",
       "      <td>0.646424</td>\n",
       "    </tr>\n",
       "    <tr>\n",
       "      <th>76194</th>\n",
       "      <td>GCGGCGGCGG</td>\n",
       "      <td>0.280</td>\n",
       "      <td>0.681116</td>\n",
       "    </tr>\n",
       "    <tr>\n",
       "      <th>47481</th>\n",
       "      <td>CGGCGGCGGC</td>\n",
       "      <td>0.245</td>\n",
       "      <td>0.544479</td>\n",
       "    </tr>\n",
       "    <tr>\n",
       "      <th>33929</th>\n",
       "      <td>CCGCCGCCGC</td>\n",
       "      <td>0.235</td>\n",
       "      <td>0.510960</td>\n",
       "    </tr>\n",
       "    <tr>\n",
       "      <th>...</th>\n",
       "      <td>...</td>\n",
       "      <td>...</td>\n",
       "      <td>...</td>\n",
       "    </tr>\n",
       "    <tr>\n",
       "      <th>42860</th>\n",
       "      <td>CGCCGAGTAG</td>\n",
       "      <td>0.005</td>\n",
       "      <td>0.070711</td>\n",
       "    </tr>\n",
       "    <tr>\n",
       "      <th>42859</th>\n",
       "      <td>CGCCGAGTAC</td>\n",
       "      <td>0.005</td>\n",
       "      <td>0.070711</td>\n",
       "    </tr>\n",
       "    <tr>\n",
       "      <th>42854</th>\n",
       "      <td>CGCCGAGGGA</td>\n",
       "      <td>0.005</td>\n",
       "      <td>0.070711</td>\n",
       "    </tr>\n",
       "    <tr>\n",
       "      <th>42840</th>\n",
       "      <td>CGCCGAGCCT</td>\n",
       "      <td>0.005</td>\n",
       "      <td>0.070711</td>\n",
       "    </tr>\n",
       "    <tr>\n",
       "      <th>117641</th>\n",
       "      <td>TTTTTTTGGG</td>\n",
       "      <td>0.005</td>\n",
       "      <td>0.070711</td>\n",
       "    </tr>\n",
       "  </tbody>\n",
       "</table>\n",
       "<p>117642 rows × 3 columns</p>\n",
       "</div>"
      ],
      "text/plain": [
       "          strkmers   mean       std\n",
       "84866   GGCGGCGGCG  0.325  0.672037\n",
       "42949   CGCCGCCGCC  0.315  0.646424\n",
       "76194   GCGGCGGCGG  0.280  0.681116\n",
       "47481   CGGCGGCGGC  0.245  0.544479\n",
       "33929   CCGCCGCCGC  0.235  0.510960\n",
       "...            ...    ...       ...\n",
       "42860   CGCCGAGTAG  0.005  0.070711\n",
       "42859   CGCCGAGTAC  0.005  0.070711\n",
       "42854   CGCCGAGGGA  0.005  0.070711\n",
       "42840   CGCCGAGCCT  0.005  0.070711\n",
       "117641  TTTTTTTGGG  0.005  0.070711\n",
       "\n",
       "[117642 rows x 3 columns]"
      ]
     },
     "execution_count": 32,
     "metadata": {},
     "output_type": "execute_result"
    }
   ],
   "source": [
    "kmer_df.groupby(\"strkmers\").kmer_ct.agg([\"mean\",\"std\"]).reset_index().sort_values(\"mean\",ascending=False)"
   ]
  },
  {
   "cell_type": "code",
   "execution_count": 28,
   "metadata": {},
   "outputs": [
    {
     "data": {
      "text/html": [
       "<div>\n",
       "<style scoped>\n",
       "    .dataframe tbody tr th:only-of-type {\n",
       "        vertical-align: middle;\n",
       "    }\n",
       "\n",
       "    .dataframe tbody tr th {\n",
       "        vertical-align: top;\n",
       "    }\n",
       "\n",
       "    .dataframe thead th {\n",
       "        text-align: right;\n",
       "    }\n",
       "</style>\n",
       "<table border=\"1\" class=\"dataframe\">\n",
       "  <thead>\n",
       "    <tr style=\"text-align: right;\">\n",
       "      <th></th>\n",
       "      <th>kmers</th>\n",
       "      <th>seq</th>\n",
       "      <th>kmer_ct</th>\n",
       "    </tr>\n",
       "  </thead>\n",
       "  <tbody>\n",
       "    <tr>\n",
       "      <th>79887</th>\n",
       "      <td>(G, G, C, G, G, A, G, G, C, G)</td>\n",
       "      <td>Seq143</td>\n",
       "      <td>8</td>\n",
       "    </tr>\n",
       "    <tr>\n",
       "      <th>79887</th>\n",
       "      <td>(G, G, C, G, G, A, G, G, C, G)</td>\n",
       "      <td>Seq51</td>\n",
       "      <td>3</td>\n",
       "    </tr>\n",
       "    <tr>\n",
       "      <th>79887</th>\n",
       "      <td>(G, G, C, G, G, A, G, G, C, G)</td>\n",
       "      <td>Seq8</td>\n",
       "      <td>2</td>\n",
       "    </tr>\n",
       "    <tr>\n",
       "      <th>79887</th>\n",
       "      <td>(G, G, C, G, G, A, G, G, C, G)</td>\n",
       "      <td>Seq183</td>\n",
       "      <td>2</td>\n",
       "    </tr>\n",
       "    <tr>\n",
       "      <th>79887</th>\n",
       "      <td>(G, G, C, G, G, A, G, G, C, G)</td>\n",
       "      <td>Seq148</td>\n",
       "      <td>1</td>\n",
       "    </tr>\n",
       "    <tr>\n",
       "      <th>...</th>\n",
       "      <td>...</td>\n",
       "      <td>...</td>\n",
       "      <td>...</td>\n",
       "    </tr>\n",
       "    <tr>\n",
       "      <th>79887</th>\n",
       "      <td>(G, G, C, G, G, A, G, G, C, G)</td>\n",
       "      <td>Seq72</td>\n",
       "      <td>0</td>\n",
       "    </tr>\n",
       "    <tr>\n",
       "      <th>79887</th>\n",
       "      <td>(G, G, C, G, G, A, G, G, C, G)</td>\n",
       "      <td>Seq73</td>\n",
       "      <td>0</td>\n",
       "    </tr>\n",
       "    <tr>\n",
       "      <th>79887</th>\n",
       "      <td>(G, G, C, G, G, A, G, G, C, G)</td>\n",
       "      <td>Seq74</td>\n",
       "      <td>0</td>\n",
       "    </tr>\n",
       "    <tr>\n",
       "      <th>79887</th>\n",
       "      <td>(G, G, C, G, G, A, G, G, C, G)</td>\n",
       "      <td>Seq76</td>\n",
       "      <td>0</td>\n",
       "    </tr>\n",
       "    <tr>\n",
       "      <th>79887</th>\n",
       "      <td>(G, G, C, G, G, A, G, G, C, G)</td>\n",
       "      <td>Seq200</td>\n",
       "      <td>0</td>\n",
       "    </tr>\n",
       "  </tbody>\n",
       "</table>\n",
       "<p>200 rows × 3 columns</p>\n",
       "</div>"
      ],
      "text/plain": [
       "                                kmers     seq  kmer_ct\n",
       "79887  (G, G, C, G, G, A, G, G, C, G)  Seq143        8\n",
       "79887  (G, G, C, G, G, A, G, G, C, G)   Seq51        3\n",
       "79887  (G, G, C, G, G, A, G, G, C, G)    Seq8        2\n",
       "79887  (G, G, C, G, G, A, G, G, C, G)  Seq183        2\n",
       "79887  (G, G, C, G, G, A, G, G, C, G)  Seq148        1\n",
       "...                               ...     ...      ...\n",
       "79887  (G, G, C, G, G, A, G, G, C, G)   Seq72        0\n",
       "79887  (G, G, C, G, G, A, G, G, C, G)   Seq73        0\n",
       "79887  (G, G, C, G, G, A, G, G, C, G)   Seq74        0\n",
       "79887  (G, G, C, G, G, A, G, G, C, G)   Seq76        0\n",
       "79887  (G, G, C, G, G, A, G, G, C, G)  Seq200        0\n",
       "\n",
       "[200 rows x 3 columns]"
      ]
     },
     "execution_count": 28,
     "metadata": {},
     "output_type": "execute_result"
    }
   ],
   "source": [
    "kmer_df.loc[kmer_df.kmers==\"GGCGGAGGCG\"].sort_values(\"kmer_ct\",ascending=False)"
   ]
  },
  {
   "cell_type": "code",
   "execution_count": 20,
   "metadata": {},
   "outputs": [
    {
     "data": {
      "text/plain": [
       "1024"
      ]
     },
     "execution_count": 20,
     "metadata": {},
     "output_type": "execute_result"
    }
   ],
   "source": [
    "len(set(kmer_list_5))"
   ]
  },
  {
   "cell_type": "code",
   "execution_count": 15,
   "metadata": {},
   "outputs": [
    {
     "data": {
      "text/plain": [
       "117642"
      ]
     },
     "execution_count": 15,
     "metadata": {},
     "output_type": "execute_result"
    }
   ],
   "source": [
    "len(kmer_list)"
   ]
  },
  {
   "cell_type": "code",
   "execution_count": 11,
   "metadata": {},
   "outputs": [
    {
     "data": {
      "text/html": [
       "<div>\n",
       "<style scoped>\n",
       "    .dataframe tbody tr th:only-of-type {\n",
       "        vertical-align: middle;\n",
       "    }\n",
       "\n",
       "    .dataframe tbody tr th {\n",
       "        vertical-align: top;\n",
       "    }\n",
       "\n",
       "    .dataframe thead th {\n",
       "        text-align: right;\n",
       "    }\n",
       "</style>\n",
       "<table border=\"1\" class=\"dataframe\">\n",
       "  <thead>\n",
       "    <tr style=\"text-align: right;\">\n",
       "      <th></th>\n",
       "      <th>kmers</th>\n",
       "      <th>seq</th>\n",
       "      <th>kmer_ct</th>\n",
       "    </tr>\n",
       "  </thead>\n",
       "  <tbody>\n",
       "    <tr>\n",
       "      <th>79887</th>\n",
       "      <td>(G, G, C, G, G, A, G, G, C, G)</td>\n",
       "      <td>Seq143</td>\n",
       "      <td>8</td>\n",
       "    </tr>\n",
       "    <tr>\n",
       "      <th>5456</th>\n",
       "      <td>(G, C, G, G, A, G, G, C, G, G)</td>\n",
       "      <td>Seq143</td>\n",
       "      <td>8</td>\n",
       "    </tr>\n",
       "    <tr>\n",
       "      <th>52127</th>\n",
       "      <td>(C, T, C, C, T, C, C, G, C, C)</td>\n",
       "      <td>Seq54</td>\n",
       "      <td>6</td>\n",
       "    </tr>\n",
       "    <tr>\n",
       "      <th>1577</th>\n",
       "      <td>(A, G, G, C, G, G, A, G, G, C)</td>\n",
       "      <td>Seq143</td>\n",
       "      <td>6</td>\n",
       "    </tr>\n",
       "    <tr>\n",
       "      <th>69954</th>\n",
       "      <td>(G, G, A, G, G, C, G, G, C, G)</td>\n",
       "      <td>Seq143</td>\n",
       "      <td>6</td>\n",
       "    </tr>\n",
       "  </tbody>\n",
       "</table>\n",
       "</div>"
      ],
      "text/plain": [
       "                                kmers     seq  kmer_ct\n",
       "79887  (G, G, C, G, G, A, G, G, C, G)  Seq143        8\n",
       "5456   (G, C, G, G, A, G, G, C, G, G)  Seq143        8\n",
       "52127  (C, T, C, C, T, C, C, G, C, C)   Seq54        6\n",
       "1577   (A, G, G, C, G, G, A, G, G, C)  Seq143        6\n",
       "69954  (G, G, A, G, G, C, G, G, C, G)  Seq143        6"
      ]
     },
     "execution_count": 11,
     "metadata": {},
     "output_type": "execute_result"
    }
   ],
   "source": [
    "kmer_df.sort_values(\"kmer_ct\",ascending=False).head()"
   ]
  },
  {
   "cell_type": "code",
   "execution_count": 49,
   "metadata": {},
   "outputs": [
    {
     "data": {
      "text/plain": [
       "854.286598742261"
      ]
     },
     "execution_count": 49,
     "metadata": {},
     "output_type": "execute_result"
    }
   ],
   "source": [
    "np.mean([len(curr) for curr in seq_vect_0996])"
   ]
  },
  {
   "cell_type": "code",
   "execution_count": 33,
   "metadata": {},
   "outputs": [],
   "source": [
    "seq_vect_0936=[]\n",
    "with open(\"/vortexfs1/omics/alexander/data/mmetsp/MMETSP0936_clean.fasta\",\"r\") as f:\n",
    "    for curr in SeqIO.parse(f,\"fasta\"):\n",
    "        seq_vect_0936.append(curr.seq)"
   ]
  },
  {
   "cell_type": "code",
   "execution_count": null,
   "metadata": {},
   "outputs": [],
   "source": [
    "def get_kmers(seq_in,kmer_list=[10]):#[5,10,15]):\n",
    "    return set([seq_in[a:a+k] for k in kmer_list\\\n",
    "             for a in range(1+len(seq_in)-k)])\n",
    "\n",
    "kmer_list = []\n",
    "[kmer_list.extend(get_kmers(curr)) for curr in seq_vect_0936[0:200]]\n",
    "kmer_list = list(set(kmer_list))\n",
    "kmer_df_936=pd.DataFrame()\n",
    "ctr=1\n",
    "for curr in seq_vect_0936[0:200]:\n",
    "    curr_df=pd.DataFrame({\"kmers\":kmer_list,\n",
    "                          \"seq\":\"Seq\"+str(ctr),\n",
    "                          \"kmer_ct\":[curr.count(kmer) for kmer in kmer_list]})\n",
    "    kmer_df_936=pd.concat([kmer_df_936,curr_df])\n",
    "    ctr=ctr+1\n",
    "    if ctr % 100 == 0:\n",
    "        print(ctr,flush=True)"
   ]
  },
  {
   "cell_type": "code",
   "execution_count": null,
   "metadata": {},
   "outputs": [],
   "source": [
    "kmer_df_936[\"strkmers\"] = [str(curr) for curr in kmer_df_936.kmers]"
   ]
  },
  {
   "cell_type": "code",
   "execution_count": null,
   "metadata": {},
   "outputs": [],
   "source": [
    "kmer_df_936.groupby(\"strkmers\").kmer_ct.agg([\"mean\",\"std\"]).reset_index().sort_values(\"mean\",ascending=False)"
   ]
  },
  {
   "cell_type": "code",
   "execution_count": 217,
   "metadata": {},
   "outputs": [],
   "source": [
    "seq_vect_0270=[]\n",
    "with open(\"/vortexfs1/omics/alexander/data/mmetsp/MMETSP0270_clean.fasta\",\"r\") as f:\n",
    "    for curr in SeqIO.parse(f,\"fasta\"):\n",
    "        seq_vect_0270.append(curr.seq)"
   ]
  },
  {
   "cell_type": "code",
   "execution_count": 47,
   "metadata": {},
   "outputs": [
    {
     "data": {
      "text/plain": [
       "1909.9269185514447"
      ]
     },
     "execution_count": 47,
     "metadata": {},
     "output_type": "execute_result"
    }
   ],
   "source": [
    "np.mean([len(curr) for curr in seq_vect_0936])"
   ]
  },
  {
   "cell_type": "code",
   "execution_count": 27,
   "metadata": {},
   "outputs": [],
   "source": [
    "seq_vect_1066=[]\n",
    "with open(\"/vortexfs1/omics/alexander/data/mmetsp/MMETSP1066_clean.fasta\",\"r\") as f:\n",
    "    for curr in SeqIO.parse(f,\"fasta\"):\n",
    "        seq_vect_1066.append(curr.seq)"
   ]
  },
  {
   "cell_type": "code",
   "execution_count": 48,
   "metadata": {},
   "outputs": [
    {
     "data": {
      "text/plain": [
       "765.2645894065233"
      ]
     },
     "execution_count": 48,
     "metadata": {},
     "output_type": "execute_result"
    }
   ],
   "source": [
    "np.mean([len(curr) for curr in seq_vect_1066])"
   ]
  },
  {
   "cell_type": "code",
   "execution_count": 90,
   "metadata": {},
   "outputs": [],
   "source": [
    "mmetsp0936_sim_met1=[1/math.exp(np.min([len(curr_seq),len(cluster_seq)]) / (damerauLevenshtein(cluster_seq,curr_seq,similarity=False)-np.min([len(curr_seq),len(cluster_seq)]))) for curr_seq in seq_vect_0936[1:100]]\n",
    "mmetsp0936_sim_met2=[(np.min([len(curr_seq),len(cluster_seq)]) - damerauLevenshtein(cluster_seq,curr_seq,similarity=False))/np.min([len(curr_seq),len(cluster_seq)]) for curr_seq in seq_vect_0936[1:100]]\n",
    "mmetsp0936_sim_met3=[damerauLevenshtein(cluster_seq,curr_seq,similarity=True) for curr_seq in seq_vect_0936[1:100]]\n",
    "mmetsp0936_sim_met4=[damerauLevenshtein(cluster_seq,curr_seq,similarity=False)/np.min([len(curr_seq),len(cluster_seq)]) for curr_seq in seq_vect_0936[1:100]]\n"
   ]
  },
  {
   "cell_type": "code",
   "execution_count": 99,
   "metadata": {},
   "outputs": [
    {
     "data": {
      "text/plain": [
       "['a', 'b', 'a', 'b']"
      ]
     },
     "execution_count": 99,
     "metadata": {},
     "output_type": "execute_result"
    }
   ],
   "source": [
    "[\"a\",\"b\"]*2"
   ]
  },
  {
   "cell_type": "code",
   "execution_count": 294,
   "metadata": {},
   "outputs": [
    {
     "name": "stdout",
     "output_type": "stream",
     "text": [
      "CPU times: user 1min 16s, sys: 276 ms, total: 1min 16s\n",
      "Wall time: 1min 17s\n"
     ]
    }
   ],
   "source": [
    "%%time\n",
    "def make_clust_matrix(input_seqs,cluster_seqs=[cluster_seq1,cluster_seq2]):\n",
    "    cluster_seqs_fr=[]\n",
    "    cluster_nums_fr=[]\n",
    "    [cluster_seqs_fr.extend([curr]*len(input_seqs)) for curr in cluster_seqs]\n",
    "    [cluster_nums_fr.extend([curr]*len(input_seqs)) for curr in range(len(cluster_seqs))]\n",
    "    dist_frame = pd.DataFrame({\"Seqs\":[str(curr) for curr in input_seqs*len(cluster_seqs)],\n",
    "                               \"Cluster_Seqs\":cluster_seqs_fr,\n",
    "                               \"Cluster_Nums\":cluster_nums_fr})\n",
    "    #dist_frame[\"Metric1\"] = [1/math.exp(np.min([len(curr_seq),len(cluster_seq)]) / \\\n",
    "    #                                    (damerauLevenshtein(cluster_seq,curr_seq,similarity=False)-\\\n",
    "    #                                     np.min([len(curr_seq),len(cluster_seq)]))) for curr_seq,\\\n",
    "    #                         cluster_seq in zip(dist_frame.Seqs,dist_frame.Cluster_Seqs)]\n",
    "    dist_frame[\"Metric2\"] = [(np.min([len(curr_seq),len(cluster_seq)]) - damerauLevenshtein(cluster_seq,\\\n",
    "                                                                                            curr_seq,similarity=False))/\\\n",
    "                             np.min([len(curr_seq),len(cluster_seq)]) for curr_seq,\\\n",
    "                             cluster_seq in zip(dist_frame.Seqs,dist_frame.Cluster_Seqs)]\n",
    "    dist_frame[\"Metric3\"] = [damerauLevenshtein(cluster_seq,curr_seq,similarity=True) for curr_seq,\\\n",
    "                             cluster_seq in zip(dist_frame.Seqs,dist_frame.Cluster_Seqs)]\n",
    "    dist_frame[\"Metric4\"] = [damerauLevenshtein(cluster_seq,curr_seq,similarity=False)/\\\n",
    "                             np.min([len(curr_seq),len(cluster_seq)]) for curr_seq,\\\n",
    "                             cluster_seq in zip(dist_frame.Seqs,dist_frame.Cluster_Seqs)]\n",
    "    dist_frame[\"Metric5\"] = [damerauLevenshtein(cluster_seq,curr_seq,similarity=True)/\\\n",
    "                             np.min([len(curr_seq),len(cluster_seq)])*10**6 for curr_seq,\\\n",
    "                             cluster_seq in zip(dist_frame.Seqs,dist_frame.Cluster_Seqs)]\n",
    "    return dist_frame\n",
    "\n",
    "def get_kmers(seq_in,kmer_list=[5,10,15]):\n",
    "    return set([seq_in[a:a+k] for k in kmer_list\\\n",
    "             for a in range(1+len(seq_in)-k) if \"N\" not in seq_in[a:a+k]])\n",
    "\n",
    "def make_clust_kmer(input_seqs,cluster_seqs=[cluster_seq1,cluster_seq2]):\n",
    "    cluster_seqs_fr=[]\n",
    "    cluster_nums_fr=[]\n",
    "    [cluster_seqs_fr.extend([curr]*len(input_seqs)) for curr in cluster_seqs]\n",
    "    [cluster_nums_fr.extend([curr]*len(input_seqs)) for curr in range(len(cluster_seqs))]\n",
    "    dist_frame = pd.DataFrame({\"Seqs\":[str(curr) for curr in input_seqs*len(cluster_seqs)],\n",
    "                               \"Cluster_Seqs\":cluster_seqs_fr,\n",
    "                               \"Cluster_Nums\":cluster_nums_fr})\n",
    "    dist_frame[\"Metric_kmer\"] = [len(get_kmers(curr_seq).intersection(get_kmers(cluster_seq)))/\\\n",
    "                                 len(set(get_kmers(curr_seq))) * 100\\\n",
    "                                for curr_seq,cluster_seq in zip(dist_frame.Seqs,dist_frame.Cluster_Seqs)]\n",
    "    return dist_frame\n",
    "\n",
    "#mmetsp0936_sim = make_clust_matrix(seq_vect_0936[1:1000],cluster_seqs=[cluster_seq1,cluster_seq2])\n",
    "mmetsp0936_kmer = make_clust_kmer(seq_vect_0936[1:1000],cluster_seqs=[cluster_seqs_fr[4]])"
   ]
  },
  {
   "cell_type": "code",
   "execution_count": 283,
   "metadata": {},
   "outputs": [
    {
     "name": "stdout",
     "output_type": "stream",
     "text": [
      "812\n",
      "821\n",
      "833\n",
      "816\n",
      "803\n",
      "CPU times: user 82.8 ms, sys: 1e+03 µs, total: 83.8 ms\n",
      "Wall time: 82.6 ms\n"
     ]
    }
   ],
   "source": [
    "%%time\n",
    "kmer_list=[5]\n",
    "print(len(get_kmers(seq_vect_0936[0],kmer_list=kmer_list).intersection(get_kmers(cluster_seqs_fr[0],kmer_list=kmer_list))))\n",
    "print(len(get_kmers(seq_vect_0936[0],kmer_list=kmer_list).intersection(get_kmers(cluster_seqs_fr[1],kmer_list=kmer_list))))\n",
    "print(len(get_kmers(seq_vect_0936[0],kmer_list=kmer_list).intersection(get_kmers(cluster_seqs_fr[2],kmer_list=kmer_list))))\n",
    "print(len(get_kmers(seq_vect_0936[0],kmer_list=kmer_list).intersection(get_kmers(cluster_seqs_fr[3],kmer_list=kmer_list))))\n",
    "print(len(get_kmers(seq_vect_0936[0],kmer_list=kmer_list).intersection(get_kmers(cluster_seqs_fr[4],kmer_list=kmer_list))))"
   ]
  },
  {
   "cell_type": "code",
   "execution_count": 286,
   "metadata": {},
   "outputs": [
    {
     "name": "stdout",
     "output_type": "stream",
     "text": [
      "40\n",
      "29\n",
      "39\n",
      "169\n",
      "40\n",
      "CPU times: user 154 ms, sys: 0 ns, total: 154 ms\n",
      "Wall time: 153 ms\n"
     ]
    }
   ],
   "source": [
    "%%time\n",
    "kmer_list=[10]\n",
    "print(len(get_kmers(seq_vect_0936[0],kmer_list=kmer_list).intersection(get_kmers(cluster_seqs_fr[0],kmer_list=kmer_list))))\n",
    "print(len(get_kmers(seq_vect_0936[0],kmer_list=kmer_list).intersection(get_kmers(cluster_seqs_fr[1],kmer_list=kmer_list))))\n",
    "print(len(get_kmers(seq_vect_0936[0],kmer_list=kmer_list).intersection(get_kmers(cluster_seqs_fr[2],kmer_list=kmer_list))))\n",
    "print(len(get_kmers(seq_vect_0936[0],kmer_list=kmer_list).intersection(get_kmers(cluster_seqs_fr[3],kmer_list=kmer_list))))\n",
    "print(len(get_kmers(seq_vect_0936[0],kmer_list=kmer_list).intersection(get_kmers(cluster_seqs_fr[4],kmer_list=kmer_list))))"
   ]
  },
  {
   "cell_type": "code",
   "execution_count": 296,
   "metadata": {},
   "outputs": [],
   "source": [
    "seq_counter=0\n",
    "all_mmetsp=\"/vortexfs1/omics/alexander/akrinos/2022-euk-diversity/code/output/levenshtein/clustered_mmetsp_file/all_mmetsp.fasta\"\n",
    "seqs_cluster=[]\n",
    "with open(all_mmetsp,\"r\") as f:\n",
    "    for curr in SeqIO.parse(f,\"fasta\"):\n",
    "        seqs_cluster.append(curr.seq)\n",
    "        seq_counter=seq_counter+1\n",
    "        #if seq_counter > 100:\n",
    "        #    break"
   ]
  },
  {
   "cell_type": "code",
   "execution_count": 300,
   "metadata": {},
   "outputs": [
    {
     "data": {
      "text/plain": [
       "20.540344861111112"
      ]
     },
     "execution_count": 300,
     "metadata": {},
     "output_type": "execute_result"
    }
   ],
   "source": [
    "(seq_counter*11.5*10**(-3))/60/60"
   ]
  },
  {
   "cell_type": "code",
   "execution_count": 295,
   "metadata": {},
   "outputs": [
    {
     "name": "stdout",
     "output_type": "stream",
     "text": [
      "CPU times: user 11.7 ms, sys: 0 ns, total: 11.7 ms\n",
      "Wall time: 11.5 ms\n"
     ]
    },
    {
     "data": {
      "text/plain": [
       "8"
      ]
     },
     "execution_count": 295,
     "metadata": {},
     "output_type": "execute_result"
    }
   ],
   "source": [
    "%%time\n",
    "kmer_list=[10]\n",
    "len(get_kmers(seqs_cluster[0],kmer_list=kmer_list).intersection(get_kmers(seqs_cluster[1],kmer_list=kmer_list)))"
   ]
  },
  {
   "cell_type": "code",
   "execution_count": 270,
   "metadata": {},
   "outputs": [
    {
     "name": "stderr",
     "output_type": "stream",
     "text": [
      "ERROR:root:Internal Python error in the inspect module.\n",
      "Below is the traceback from this internal error.\n",
      "\n",
      "\n",
      "KeyboardInterrupt\n",
      "\n"
     ]
    }
   ],
   "source": [
    "%%time\n",
    "mmetsp0996_kmer = make_clust_kmer(seq_vect_0996[1:500],cluster_seqs=cluster_seqs_fr[0:5])\n",
    "mmetsp1066_kmer = make_clust_kmer(seq_vect_1066[1:500],cluster_seqs=cluster_seqs_fr[0:5])\n",
    "mmetsp0270_kmer = make_clust_kmer(seq_vect_0270[1:500],cluster_seqs=cluster_seqs_fr[0:5])"
   ]
  },
  {
   "cell_type": "code",
   "execution_count": null,
   "metadata": {},
   "outputs": [],
   "source": [
    "mmetsp0270_kmer = make_clust_kmer(seq_vect_0270[1:500],cluster_seqs=cluster_seqs_fr[5])"
   ]
  },
  {
   "cell_type": "code",
   "execution_count": 269,
   "metadata": {},
   "outputs": [
    {
     "data": {
      "text/html": [
       "<div>\n",
       "<style scoped>\n",
       "    .dataframe tbody tr th:only-of-type {\n",
       "        vertical-align: middle;\n",
       "    }\n",
       "\n",
       "    .dataframe tbody tr th {\n",
       "        vertical-align: top;\n",
       "    }\n",
       "\n",
       "    .dataframe thead tr th {\n",
       "        text-align: left;\n",
       "    }\n",
       "\n",
       "    .dataframe thead tr:last-of-type th {\n",
       "        text-align: right;\n",
       "    }\n",
       "</style>\n",
       "<table border=\"1\" class=\"dataframe\">\n",
       "  <thead>\n",
       "    <tr>\n",
       "      <th></th>\n",
       "      <th colspan=\"8\" halign=\"left\">Metric_kmer</th>\n",
       "    </tr>\n",
       "    <tr>\n",
       "      <th></th>\n",
       "      <th>count</th>\n",
       "      <th>mean</th>\n",
       "      <th>std</th>\n",
       "      <th>min</th>\n",
       "      <th>25%</th>\n",
       "      <th>50%</th>\n",
       "      <th>75%</th>\n",
       "      <th>max</th>\n",
       "    </tr>\n",
       "    <tr>\n",
       "      <th>Cluster_Nums</th>\n",
       "      <th></th>\n",
       "      <th></th>\n",
       "      <th></th>\n",
       "      <th></th>\n",
       "      <th></th>\n",
       "      <th></th>\n",
       "      <th></th>\n",
       "      <th></th>\n",
       "    </tr>\n",
       "  </thead>\n",
       "  <tbody>\n",
       "    <tr>\n",
       "      <th>0</th>\n",
       "      <td>999.0</td>\n",
       "      <td>17.16901</td>\n",
       "      <td>5.741424</td>\n",
       "      <td>3.158381</td>\n",
       "      <td>12.899406</td>\n",
       "      <td>17.10642</td>\n",
       "      <td>21.277569</td>\n",
       "      <td>30.947368</td>\n",
       "    </tr>\n",
       "  </tbody>\n",
       "</table>\n",
       "</div>"
      ],
      "text/plain": [
       "             Metric_kmer                                                     \\\n",
       "                   count      mean       std       min        25%       50%   \n",
       "Cluster_Nums                                                                  \n",
       "0                  999.0  17.16901  5.741424  3.158381  12.899406  17.10642   \n",
       "\n",
       "                                    \n",
       "                    75%        max  \n",
       "Cluster_Nums                        \n",
       "0             21.277569  30.947368  "
      ]
     },
     "execution_count": 269,
     "metadata": {},
     "output_type": "execute_result"
    }
   ],
   "source": [
    "mmetsp0936_kmer.groupby([\"Cluster_Nums\"]).describe()"
   ]
  },
  {
   "cell_type": "code",
   "execution_count": 242,
   "metadata": {},
   "outputs": [
    {
     "data": {
      "text/html": [
       "<div>\n",
       "<style scoped>\n",
       "    .dataframe tbody tr th:only-of-type {\n",
       "        vertical-align: middle;\n",
       "    }\n",
       "\n",
       "    .dataframe tbody tr th {\n",
       "        vertical-align: top;\n",
       "    }\n",
       "\n",
       "    .dataframe thead tr th {\n",
       "        text-align: left;\n",
       "    }\n",
       "\n",
       "    .dataframe thead tr:last-of-type th {\n",
       "        text-align: right;\n",
       "    }\n",
       "</style>\n",
       "<table border=\"1\" class=\"dataframe\">\n",
       "  <thead>\n",
       "    <tr>\n",
       "      <th></th>\n",
       "      <th colspan=\"8\" halign=\"left\">Metric_kmer</th>\n",
       "    </tr>\n",
       "    <tr>\n",
       "      <th></th>\n",
       "      <th>count</th>\n",
       "      <th>mean</th>\n",
       "      <th>std</th>\n",
       "      <th>min</th>\n",
       "      <th>25%</th>\n",
       "      <th>50%</th>\n",
       "      <th>75%</th>\n",
       "      <th>max</th>\n",
       "    </tr>\n",
       "    <tr>\n",
       "      <th>Cluster_Nums</th>\n",
       "      <th></th>\n",
       "      <th></th>\n",
       "      <th></th>\n",
       "      <th></th>\n",
       "      <th></th>\n",
       "      <th></th>\n",
       "      <th></th>\n",
       "      <th></th>\n",
       "    </tr>\n",
       "  </thead>\n",
       "  <tbody>\n",
       "    <tr>\n",
       "      <th>0</th>\n",
       "      <td>999.0</td>\n",
       "      <td>42.182050</td>\n",
       "      <td>16.484501</td>\n",
       "      <td>12.388889</td>\n",
       "      <td>29.271050</td>\n",
       "      <td>40.775401</td>\n",
       "      <td>53.586697</td>\n",
       "      <td>88.304094</td>\n",
       "    </tr>\n",
       "    <tr>\n",
       "      <th>1</th>\n",
       "      <td>999.0</td>\n",
       "      <td>43.057852</td>\n",
       "      <td>16.870682</td>\n",
       "      <td>12.796296</td>\n",
       "      <td>30.090446</td>\n",
       "      <td>41.648230</td>\n",
       "      <td>54.658326</td>\n",
       "      <td>89.333333</td>\n",
       "    </tr>\n",
       "    <tr>\n",
       "      <th>2</th>\n",
       "      <td>999.0</td>\n",
       "      <td>45.087641</td>\n",
       "      <td>16.794014</td>\n",
       "      <td>8.680652</td>\n",
       "      <td>32.399045</td>\n",
       "      <td>44.080605</td>\n",
       "      <td>56.834863</td>\n",
       "      <td>91.907514</td>\n",
       "    </tr>\n",
       "    <tr>\n",
       "      <th>3</th>\n",
       "      <td>999.0</td>\n",
       "      <td>41.927317</td>\n",
       "      <td>16.523412</td>\n",
       "      <td>10.438348</td>\n",
       "      <td>29.251865</td>\n",
       "      <td>40.652655</td>\n",
       "      <td>53.282912</td>\n",
       "      <td>84.971098</td>\n",
       "    </tr>\n",
       "  </tbody>\n",
       "</table>\n",
       "</div>"
      ],
      "text/plain": [
       "             Metric_kmer                                              \\\n",
       "                   count       mean        std        min        25%   \n",
       "Cluster_Nums                                                           \n",
       "0                  999.0  42.182050  16.484501  12.388889  29.271050   \n",
       "1                  999.0  43.057852  16.870682  12.796296  30.090446   \n",
       "2                  999.0  45.087641  16.794014   8.680652  32.399045   \n",
       "3                  999.0  41.927317  16.523412  10.438348  29.251865   \n",
       "\n",
       "                                               \n",
       "                    50%        75%        max  \n",
       "Cluster_Nums                                   \n",
       "0             40.775401  53.586697  88.304094  \n",
       "1             41.648230  54.658326  89.333333  \n",
       "2             44.080605  56.834863  91.907514  \n",
       "3             40.652655  53.282912  84.971098  "
      ]
     },
     "execution_count": 242,
     "metadata": {},
     "output_type": "execute_result"
    }
   ],
   "source": [
    "mmetsp0936_kmer.groupby([\"Cluster_Nums\"]).describe()"
   ]
  },
  {
   "cell_type": "code",
   "execution_count": 257,
   "metadata": {},
   "outputs": [
    {
     "data": {
      "text/html": [
       "<div>\n",
       "<style scoped>\n",
       "    .dataframe tbody tr th:only-of-type {\n",
       "        vertical-align: middle;\n",
       "    }\n",
       "\n",
       "    .dataframe tbody tr th {\n",
       "        vertical-align: top;\n",
       "    }\n",
       "\n",
       "    .dataframe thead tr th {\n",
       "        text-align: left;\n",
       "    }\n",
       "\n",
       "    .dataframe thead tr:last-of-type th {\n",
       "        text-align: right;\n",
       "    }\n",
       "</style>\n",
       "<table border=\"1\" class=\"dataframe\">\n",
       "  <thead>\n",
       "    <tr>\n",
       "      <th></th>\n",
       "      <th colspan=\"8\" halign=\"left\">Metric_kmer</th>\n",
       "    </tr>\n",
       "    <tr>\n",
       "      <th></th>\n",
       "      <th>count</th>\n",
       "      <th>mean</th>\n",
       "      <th>std</th>\n",
       "      <th>min</th>\n",
       "      <th>25%</th>\n",
       "      <th>50%</th>\n",
       "      <th>75%</th>\n",
       "      <th>max</th>\n",
       "    </tr>\n",
       "    <tr>\n",
       "      <th>Cluster_Nums</th>\n",
       "      <th></th>\n",
       "      <th></th>\n",
       "      <th></th>\n",
       "      <th></th>\n",
       "      <th></th>\n",
       "      <th></th>\n",
       "      <th></th>\n",
       "      <th></th>\n",
       "    </tr>\n",
       "  </thead>\n",
       "  <tbody>\n",
       "    <tr>\n",
       "      <th>0</th>\n",
       "      <td>499.0</td>\n",
       "      <td>22.016622</td>\n",
       "      <td>5.308386</td>\n",
       "      <td>4.052198</td>\n",
       "      <td>17.960108</td>\n",
       "      <td>22.424242</td>\n",
       "      <td>26.199139</td>\n",
       "      <td>32.470588</td>\n",
       "    </tr>\n",
       "    <tr>\n",
       "      <th>1</th>\n",
       "      <td>499.0</td>\n",
       "      <td>22.368141</td>\n",
       "      <td>5.404072</td>\n",
       "      <td>3.813621</td>\n",
       "      <td>18.292245</td>\n",
       "      <td>22.800496</td>\n",
       "      <td>26.794327</td>\n",
       "      <td>33.414634</td>\n",
       "    </tr>\n",
       "    <tr>\n",
       "      <th>2</th>\n",
       "      <td>499.0</td>\n",
       "      <td>22.254140</td>\n",
       "      <td>5.452513</td>\n",
       "      <td>3.777473</td>\n",
       "      <td>18.072786</td>\n",
       "      <td>22.654462</td>\n",
       "      <td>26.609532</td>\n",
       "      <td>34.634146</td>\n",
       "    </tr>\n",
       "    <tr>\n",
       "      <th>3</th>\n",
       "      <td>499.0</td>\n",
       "      <td>24.713962</td>\n",
       "      <td>5.212116</td>\n",
       "      <td>6.166859</td>\n",
       "      <td>20.633962</td>\n",
       "      <td>24.871649</td>\n",
       "      <td>28.790233</td>\n",
       "      <td>35.853659</td>\n",
       "    </tr>\n",
       "    <tr>\n",
       "      <th>4</th>\n",
       "      <td>499.0</td>\n",
       "      <td>22.373047</td>\n",
       "      <td>5.392231</td>\n",
       "      <td>3.911220</td>\n",
       "      <td>18.151092</td>\n",
       "      <td>22.606516</td>\n",
       "      <td>26.475178</td>\n",
       "      <td>33.412888</td>\n",
       "    </tr>\n",
       "  </tbody>\n",
       "</table>\n",
       "</div>"
      ],
      "text/plain": [
       "             Metric_kmer                                                       \\\n",
       "                   count       mean       std       min        25%        50%   \n",
       "Cluster_Nums                                                                    \n",
       "0                  499.0  22.016622  5.308386  4.052198  17.960108  22.424242   \n",
       "1                  499.0  22.368141  5.404072  3.813621  18.292245  22.800496   \n",
       "2                  499.0  22.254140  5.452513  3.777473  18.072786  22.654462   \n",
       "3                  499.0  24.713962  5.212116  6.166859  20.633962  24.871649   \n",
       "4                  499.0  22.373047  5.392231  3.911220  18.151092  22.606516   \n",
       "\n",
       "                                    \n",
       "                    75%        max  \n",
       "Cluster_Nums                        \n",
       "0             26.199139  32.470588  \n",
       "1             26.794327  33.414634  \n",
       "2             26.609532  34.634146  \n",
       "3             28.790233  35.853659  \n",
       "4             26.475178  33.412888  "
      ]
     },
     "execution_count": 257,
     "metadata": {},
     "output_type": "execute_result"
    }
   ],
   "source": [
    "mmetsp0996_kmer.groupby([\"Cluster_Nums\"]).describe()"
   ]
  },
  {
   "cell_type": "code",
   "execution_count": 258,
   "metadata": {},
   "outputs": [
    {
     "data": {
      "text/html": [
       "<div>\n",
       "<style scoped>\n",
       "    .dataframe tbody tr th:only-of-type {\n",
       "        vertical-align: middle;\n",
       "    }\n",
       "\n",
       "    .dataframe tbody tr th {\n",
       "        vertical-align: top;\n",
       "    }\n",
       "\n",
       "    .dataframe thead tr th {\n",
       "        text-align: left;\n",
       "    }\n",
       "\n",
       "    .dataframe thead tr:last-of-type th {\n",
       "        text-align: right;\n",
       "    }\n",
       "</style>\n",
       "<table border=\"1\" class=\"dataframe\">\n",
       "  <thead>\n",
       "    <tr>\n",
       "      <th></th>\n",
       "      <th colspan=\"8\" halign=\"left\">Metric_kmer</th>\n",
       "    </tr>\n",
       "    <tr>\n",
       "      <th></th>\n",
       "      <th>count</th>\n",
       "      <th>mean</th>\n",
       "      <th>std</th>\n",
       "      <th>min</th>\n",
       "      <th>25%</th>\n",
       "      <th>50%</th>\n",
       "      <th>75%</th>\n",
       "      <th>max</th>\n",
       "    </tr>\n",
       "    <tr>\n",
       "      <th>Cluster_Nums</th>\n",
       "      <th></th>\n",
       "      <th></th>\n",
       "      <th></th>\n",
       "      <th></th>\n",
       "      <th></th>\n",
       "      <th></th>\n",
       "      <th></th>\n",
       "      <th></th>\n",
       "    </tr>\n",
       "  </thead>\n",
       "  <tbody>\n",
       "    <tr>\n",
       "      <th>0</th>\n",
       "      <td>499.0</td>\n",
       "      <td>25.639451</td>\n",
       "      <td>4.994784</td>\n",
       "      <td>5.139081</td>\n",
       "      <td>22.719948</td>\n",
       "      <td>27.070880</td>\n",
       "      <td>29.430422</td>\n",
       "      <td>33.009709</td>\n",
       "    </tr>\n",
       "    <tr>\n",
       "      <th>1</th>\n",
       "      <td>499.0</td>\n",
       "      <td>25.627240</td>\n",
       "      <td>5.017465</td>\n",
       "      <td>5.139081</td>\n",
       "      <td>22.730072</td>\n",
       "      <td>27.020202</td>\n",
       "      <td>29.483107</td>\n",
       "      <td>33.333333</td>\n",
       "    </tr>\n",
       "    <tr>\n",
       "      <th>2</th>\n",
       "      <td>499.0</td>\n",
       "      <td>26.204350</td>\n",
       "      <td>5.087958</td>\n",
       "      <td>5.400473</td>\n",
       "      <td>23.276081</td>\n",
       "      <td>27.697842</td>\n",
       "      <td>30.153500</td>\n",
       "      <td>33.688699</td>\n",
       "    </tr>\n",
       "    <tr>\n",
       "      <th>3</th>\n",
       "      <td>499.0</td>\n",
       "      <td>25.557348</td>\n",
       "      <td>4.891777</td>\n",
       "      <td>5.829552</td>\n",
       "      <td>22.895047</td>\n",
       "      <td>26.282051</td>\n",
       "      <td>29.209622</td>\n",
       "      <td>34.259259</td>\n",
       "    </tr>\n",
       "    <tr>\n",
       "      <th>4</th>\n",
       "      <td>499.0</td>\n",
       "      <td>24.916199</td>\n",
       "      <td>4.902912</td>\n",
       "      <td>5.163740</td>\n",
       "      <td>22.069790</td>\n",
       "      <td>25.972396</td>\n",
       "      <td>28.715850</td>\n",
       "      <td>33.178654</td>\n",
       "    </tr>\n",
       "  </tbody>\n",
       "</table>\n",
       "</div>"
      ],
      "text/plain": [
       "             Metric_kmer                                                       \\\n",
       "                   count       mean       std       min        25%        50%   \n",
       "Cluster_Nums                                                                    \n",
       "0                  499.0  25.639451  4.994784  5.139081  22.719948  27.070880   \n",
       "1                  499.0  25.627240  5.017465  5.139081  22.730072  27.020202   \n",
       "2                  499.0  26.204350  5.087958  5.400473  23.276081  27.697842   \n",
       "3                  499.0  25.557348  4.891777  5.829552  22.895047  26.282051   \n",
       "4                  499.0  24.916199  4.902912  5.163740  22.069790  25.972396   \n",
       "\n",
       "                                    \n",
       "                    75%        max  \n",
       "Cluster_Nums                        \n",
       "0             29.430422  33.009709  \n",
       "1             29.483107  33.333333  \n",
       "2             30.153500  33.688699  \n",
       "3             29.209622  34.259259  \n",
       "4             28.715850  33.178654  "
      ]
     },
     "execution_count": 258,
     "metadata": {},
     "output_type": "execute_result"
    }
   ],
   "source": [
    "mmetsp1066_kmer.groupby([\"Cluster_Nums\"]).describe()"
   ]
  },
  {
   "cell_type": "code",
   "execution_count": 262,
   "metadata": {},
   "outputs": [
    {
     "data": {
      "text/html": [
       "<div>\n",
       "<style scoped>\n",
       "    .dataframe tbody tr th:only-of-type {\n",
       "        vertical-align: middle;\n",
       "    }\n",
       "\n",
       "    .dataframe tbody tr th {\n",
       "        vertical-align: top;\n",
       "    }\n",
       "\n",
       "    .dataframe thead tr th {\n",
       "        text-align: left;\n",
       "    }\n",
       "\n",
       "    .dataframe thead tr:last-of-type th {\n",
       "        text-align: right;\n",
       "    }\n",
       "</style>\n",
       "<table border=\"1\" class=\"dataframe\">\n",
       "  <thead>\n",
       "    <tr>\n",
       "      <th></th>\n",
       "      <th colspan=\"8\" halign=\"left\">Metric_kmer</th>\n",
       "    </tr>\n",
       "    <tr>\n",
       "      <th></th>\n",
       "      <th>count</th>\n",
       "      <th>mean</th>\n",
       "      <th>std</th>\n",
       "      <th>min</th>\n",
       "      <th>25%</th>\n",
       "      <th>50%</th>\n",
       "      <th>75%</th>\n",
       "      <th>max</th>\n",
       "    </tr>\n",
       "    <tr>\n",
       "      <th>Cluster_Nums</th>\n",
       "      <th></th>\n",
       "      <th></th>\n",
       "      <th></th>\n",
       "      <th></th>\n",
       "      <th></th>\n",
       "      <th></th>\n",
       "      <th></th>\n",
       "      <th></th>\n",
       "    </tr>\n",
       "  </thead>\n",
       "  <tbody>\n",
       "    <tr>\n",
       "      <th>0</th>\n",
       "      <td>499.0</td>\n",
       "      <td>22.536509</td>\n",
       "      <td>5.174803</td>\n",
       "      <td>7.371484</td>\n",
       "      <td>18.764773</td>\n",
       "      <td>22.597720</td>\n",
       "      <td>26.561165</td>\n",
       "      <td>33.022388</td>\n",
       "    </tr>\n",
       "    <tr>\n",
       "      <th>1</th>\n",
       "      <td>499.0</td>\n",
       "      <td>22.812109</td>\n",
       "      <td>5.169584</td>\n",
       "      <td>7.662464</td>\n",
       "      <td>19.193270</td>\n",
       "      <td>22.933446</td>\n",
       "      <td>26.830760</td>\n",
       "      <td>33.476395</td>\n",
       "    </tr>\n",
       "    <tr>\n",
       "      <th>2</th>\n",
       "      <td>499.0</td>\n",
       "      <td>22.917645</td>\n",
       "      <td>5.224752</td>\n",
       "      <td>7.468477</td>\n",
       "      <td>19.205415</td>\n",
       "      <td>23.002421</td>\n",
       "      <td>26.952392</td>\n",
       "      <td>33.656174</td>\n",
       "    </tr>\n",
       "    <tr>\n",
       "      <th>3</th>\n",
       "      <td>499.0</td>\n",
       "      <td>24.482551</td>\n",
       "      <td>5.168312</td>\n",
       "      <td>10.717750</td>\n",
       "      <td>20.929347</td>\n",
       "      <td>24.505548</td>\n",
       "      <td>28.461871</td>\n",
       "      <td>37.719298</td>\n",
       "    </tr>\n",
       "    <tr>\n",
       "      <th>4</th>\n",
       "      <td>499.0</td>\n",
       "      <td>22.888120</td>\n",
       "      <td>5.157714</td>\n",
       "      <td>9.214727</td>\n",
       "      <td>19.041736</td>\n",
       "      <td>23.022264</td>\n",
       "      <td>26.989766</td>\n",
       "      <td>32.687651</td>\n",
       "    </tr>\n",
       "  </tbody>\n",
       "</table>\n",
       "</div>"
      ],
      "text/plain": [
       "             Metric_kmer                                             \\\n",
       "                   count       mean       std        min        25%   \n",
       "Cluster_Nums                                                          \n",
       "0                  499.0  22.536509  5.174803   7.371484  18.764773   \n",
       "1                  499.0  22.812109  5.169584   7.662464  19.193270   \n",
       "2                  499.0  22.917645  5.224752   7.468477  19.205415   \n",
       "3                  499.0  24.482551  5.168312  10.717750  20.929347   \n",
       "4                  499.0  22.888120  5.157714   9.214727  19.041736   \n",
       "\n",
       "                                               \n",
       "                    50%        75%        max  \n",
       "Cluster_Nums                                   \n",
       "0             22.597720  26.561165  33.022388  \n",
       "1             22.933446  26.830760  33.476395  \n",
       "2             23.002421  26.952392  33.656174  \n",
       "3             24.505548  28.461871  37.719298  \n",
       "4             23.022264  26.989766  32.687651  "
      ]
     },
     "execution_count": 262,
     "metadata": {},
     "output_type": "execute_result"
    }
   ],
   "source": [
    "mmetsp0270_kmer.groupby([\"Cluster_Nums\"]).describe()#.reset_index().sort_values(\"count\")"
   ]
  },
  {
   "cell_type": "code",
   "execution_count": 197,
   "metadata": {},
   "outputs": [
    {
     "name": "stdout",
     "output_type": "stream",
     "text": [
      "0.0005202080832332934\n",
      "0.00024941200862370246\n",
      "242.73079766728085\n"
     ]
    },
    {
     "data": {
      "text/plain": [
       "-1.7529411764705882"
      ]
     },
     "execution_count": 197,
     "metadata": {},
     "output_type": "execute_result"
    }
   ],
   "source": [
    "cluster_seq=cluster_seq1\n",
    "curr_seq=seq_vect_0996[0]\n",
    "curr_seq2=seq_vect_0936[0]\n",
    "curr_seq3=seq_vect_1066[0]\n",
    "print(damerauLevenshtein(cluster_seq,curr_seq,similarity=True)/np.min([len(curr_seq),len(cluster_seq)]),flush=True)\n",
    "print(damerauLevenshtein(cluster_seq,curr_seq2,similarity=True)/np.min([len(curr_seq2),len(cluster_seq)]),flush=True)\n",
    "print(damerauLevenshtein(cluster_seq,curr_seq3,similarity=True)/np.min([len(curr_seq3),len(cluster_seq)])*10**6,flush=True)\n",
    "\n",
    "\n",
    "(np.min([len(curr_seq),len(cluster_seq)]) - damerauLevenshtein(cluster_seq,curr_seq,similarity=False))/\\\n",
    "         np.min([len(curr_seq),len(cluster_seq)])"
   ]
  },
  {
   "cell_type": "code",
   "execution_count": 207,
   "metadata": {},
   "outputs": [
    {
     "name": "stdout",
     "output_type": "stream",
     "text": [
      "0.04684426962274271\n",
      "0.0603103800762011\n",
      "0.06551804969526488\n"
     ]
    }
   ],
   "source": [
    "def get_kmers(seq_in,kmer_list=[5,10,15]):\n",
    "    return set([seq_in[a:a+k] for k in kmer_list\\\n",
    "             for a in range(1+len(seq_in)-k)])\n",
    "total_kmers = get_kmers(cluster_seq1)\n",
    "print(len(get_kmers(cluster_seq1).intersection(get_kmers(seq_vect_0996[0])))/(len(set(total_kmers.union(get_kmers(seq_vect_0996[0]))))))\n",
    "print(len(get_kmers(cluster_seq1).intersection(get_kmers(seq_vect_0936[0])))/(len(set(total_kmers.union(get_kmers(seq_vect_0936[0]))))))\n",
    "print(len(get_kmers(cluster_seq1).intersection(get_kmers(seq_vect_1066[0])))/(len(set(total_kmers.union(get_kmers(seq_vect_1066[0]))))))"
   ]
  },
  {
   "cell_type": "code",
   "execution_count": 181,
   "metadata": {},
   "outputs": [
    {
     "data": {
      "text/plain": [
       "989.0"
      ]
     },
     "execution_count": 181,
     "metadata": {},
     "output_type": "execute_result"
    }
   ],
   "source": [
    "damerauLevenshtein(cluster_seq,curr_seq3,similarity=False)"
   ]
  },
  {
   "cell_type": "code",
   "execution_count": null,
   "metadata": {},
   "outputs": [],
   "source": [
    "(np.min([len(curr_seq),len(cluster_seq)]) - damerauLevenshtein(cluster_seq,curr_seq,similarity=False))/\\\n",
    "         np.min([len(curr_seq),len(cluster_seq)])"
   ]
  },
  {
   "cell_type": "code",
   "execution_count": 189,
   "metadata": {},
   "outputs": [],
   "source": [
    "mmetsp0996_sim = make_clust_matrix(seq_vect_0996[1:1000],cluster_seqs=[cluster_seq,cluster_seq2])\n",
    "mmetsp1066_sim = make_clust_matrix(seq_vect_1066[1:1000],cluster_seqs=[cluster_seq,cluster_seq2])"
   ]
  },
  {
   "cell_type": "code",
   "execution_count": 193,
   "metadata": {},
   "outputs": [
    {
     "data": {
      "text/html": [
       "<div>\n",
       "<style scoped>\n",
       "    .dataframe tbody tr th:only-of-type {\n",
       "        vertical-align: middle;\n",
       "    }\n",
       "\n",
       "    .dataframe tbody tr th {\n",
       "        vertical-align: top;\n",
       "    }\n",
       "\n",
       "    .dataframe thead th {\n",
       "        text-align: right;\n",
       "    }\n",
       "</style>\n",
       "<table border=\"1\" class=\"dataframe\">\n",
       "  <thead>\n",
       "    <tr style=\"text-align: right;\">\n",
       "      <th></th>\n",
       "      <th>Metric2</th>\n",
       "      <th>Metric3</th>\n",
       "      <th>Metric4</th>\n",
       "      <th>Metric5</th>\n",
       "    </tr>\n",
       "    <tr>\n",
       "      <th>Cluster_Nums</th>\n",
       "      <th></th>\n",
       "      <th></th>\n",
       "      <th></th>\n",
       "      <th></th>\n",
       "    </tr>\n",
       "  </thead>\n",
       "  <tbody>\n",
       "    <tr>\n",
       "      <th>0</th>\n",
       "      <td>-2.350727</td>\n",
       "      <td>0.321621</td>\n",
       "      <td>3.350727</td>\n",
       "      <td>449.823017</td>\n",
       "    </tr>\n",
       "    <tr>\n",
       "      <th>1</th>\n",
       "      <td>-2.379762</td>\n",
       "      <td>0.304614</td>\n",
       "      <td>3.379762</td>\n",
       "      <td>435.249798</td>\n",
       "    </tr>\n",
       "  </tbody>\n",
       "</table>\n",
       "</div>"
      ],
      "text/plain": [
       "               Metric2   Metric3   Metric4     Metric5\n",
       "Cluster_Nums                                          \n",
       "0            -2.350727  0.321621  3.350727  449.823017\n",
       "1            -2.379762  0.304614  3.379762  435.249798"
      ]
     },
     "execution_count": 193,
     "metadata": {},
     "output_type": "execute_result"
    }
   ],
   "source": [
    "mmetsp0996_sim.groupby(\"Cluster_Nums\").mean()"
   ]
  },
  {
   "cell_type": "code",
   "execution_count": 194,
   "metadata": {},
   "outputs": [
    {
     "data": {
      "text/html": [
       "<div>\n",
       "<style scoped>\n",
       "    .dataframe tbody tr th:only-of-type {\n",
       "        vertical-align: middle;\n",
       "    }\n",
       "\n",
       "    .dataframe tbody tr th {\n",
       "        vertical-align: top;\n",
       "    }\n",
       "\n",
       "    .dataframe thead th {\n",
       "        text-align: right;\n",
       "    }\n",
       "</style>\n",
       "<table border=\"1\" class=\"dataframe\">\n",
       "  <thead>\n",
       "    <tr style=\"text-align: right;\">\n",
       "      <th></th>\n",
       "      <th>Metric2</th>\n",
       "      <th>Metric3</th>\n",
       "      <th>Metric4</th>\n",
       "      <th>Metric5</th>\n",
       "    </tr>\n",
       "    <tr>\n",
       "      <th>Cluster_Nums</th>\n",
       "      <th></th>\n",
       "      <th></th>\n",
       "      <th></th>\n",
       "      <th></th>\n",
       "    </tr>\n",
       "  </thead>\n",
       "  <tbody>\n",
       "    <tr>\n",
       "      <th>0</th>\n",
       "      <td>-0.526220</td>\n",
       "      <td>0.416164</td>\n",
       "      <td>1.526220</td>\n",
       "      <td>339.718344</td>\n",
       "    </tr>\n",
       "    <tr>\n",
       "      <th>1</th>\n",
       "      <td>-0.553014</td>\n",
       "      <td>0.399064</td>\n",
       "      <td>1.553014</td>\n",
       "      <td>327.810330</td>\n",
       "    </tr>\n",
       "  </tbody>\n",
       "</table>\n",
       "</div>"
      ],
      "text/plain": [
       "               Metric2   Metric3   Metric4     Metric5\n",
       "Cluster_Nums                                          \n",
       "0            -0.526220  0.416164  1.526220  339.718344\n",
       "1            -0.553014  0.399064  1.553014  327.810330"
      ]
     },
     "execution_count": 194,
     "metadata": {},
     "output_type": "execute_result"
    }
   ],
   "source": [
    "mmetsp0936_sim.groupby(\"Cluster_Nums\").mean()"
   ]
  },
  {
   "cell_type": "code",
   "execution_count": 195,
   "metadata": {},
   "outputs": [
    {
     "data": {
      "text/html": [
       "<div>\n",
       "<style scoped>\n",
       "    .dataframe tbody tr th:only-of-type {\n",
       "        vertical-align: middle;\n",
       "    }\n",
       "\n",
       "    .dataframe tbody tr th {\n",
       "        vertical-align: top;\n",
       "    }\n",
       "\n",
       "    .dataframe thead th {\n",
       "        text-align: right;\n",
       "    }\n",
       "</style>\n",
       "<table border=\"1\" class=\"dataframe\">\n",
       "  <thead>\n",
       "    <tr style=\"text-align: right;\">\n",
       "      <th></th>\n",
       "      <th>Metric2</th>\n",
       "      <th>Metric3</th>\n",
       "      <th>Metric4</th>\n",
       "      <th>Metric5</th>\n",
       "    </tr>\n",
       "    <tr>\n",
       "      <th>Cluster_Nums</th>\n",
       "      <th></th>\n",
       "      <th></th>\n",
       "      <th></th>\n",
       "      <th></th>\n",
       "    </tr>\n",
       "  </thead>\n",
       "  <tbody>\n",
       "    <tr>\n",
       "      <th>0</th>\n",
       "      <td>-4.369654</td>\n",
       "      <td>0.225814</td>\n",
       "      <td>5.369654</td>\n",
       "      <td>479.457674</td>\n",
       "    </tr>\n",
       "    <tr>\n",
       "      <th>1</th>\n",
       "      <td>-4.368772</td>\n",
       "      <td>0.226408</td>\n",
       "      <td>5.368772</td>\n",
       "      <td>479.922754</td>\n",
       "    </tr>\n",
       "  </tbody>\n",
       "</table>\n",
       "</div>"
      ],
      "text/plain": [
       "               Metric2   Metric3   Metric4     Metric5\n",
       "Cluster_Nums                                          \n",
       "0            -4.369654  0.225814  5.369654  479.457674\n",
       "1            -4.368772  0.226408  5.368772  479.922754"
      ]
     },
     "execution_count": 195,
     "metadata": {},
     "output_type": "execute_result"
    }
   ],
   "source": [
    "mmetsp1066_sim.groupby(\"Cluster_Nums\").mean()"
   ]
  },
  {
   "cell_type": "code",
   "execution_count": 97,
   "metadata": {},
   "outputs": [
    {
     "data": {
      "text/html": [
       "<div>\n",
       "<style scoped>\n",
       "    .dataframe tbody tr th:only-of-type {\n",
       "        vertical-align: middle;\n",
       "    }\n",
       "\n",
       "    .dataframe tbody tr th {\n",
       "        vertical-align: top;\n",
       "    }\n",
       "\n",
       "    .dataframe thead th {\n",
       "        text-align: right;\n",
       "    }\n",
       "</style>\n",
       "<table border=\"1\" class=\"dataframe\">\n",
       "  <thead>\n",
       "    <tr style=\"text-align: right;\">\n",
       "      <th></th>\n",
       "      <th>0</th>\n",
       "    </tr>\n",
       "  </thead>\n",
       "  <tbody>\n",
       "    <tr>\n",
       "      <th>count</th>\n",
       "      <td>99.000000</td>\n",
       "    </tr>\n",
       "    <tr>\n",
       "      <th>mean</th>\n",
       "      <td>1.754425</td>\n",
       "    </tr>\n",
       "    <tr>\n",
       "      <th>std</th>\n",
       "      <td>1.772437</td>\n",
       "    </tr>\n",
       "    <tr>\n",
       "      <th>min</th>\n",
       "      <td>0.505094</td>\n",
       "    </tr>\n",
       "    <tr>\n",
       "      <th>25%</th>\n",
       "      <td>0.608707</td>\n",
       "    </tr>\n",
       "    <tr>\n",
       "      <th>50%</th>\n",
       "      <td>1.120619</td>\n",
       "    </tr>\n",
       "    <tr>\n",
       "      <th>75%</th>\n",
       "      <td>2.093371</td>\n",
       "    </tr>\n",
       "    <tr>\n",
       "      <th>max</th>\n",
       "      <td>10.175439</td>\n",
       "    </tr>\n",
       "  </tbody>\n",
       "</table>\n",
       "</div>"
      ],
      "text/plain": [
       "               0\n",
       "count  99.000000\n",
       "mean    1.754425\n",
       "std     1.772437\n",
       "min     0.505094\n",
       "25%     0.608707\n",
       "50%     1.120619\n",
       "75%     2.093371\n",
       "max    10.175439"
      ]
     },
     "execution_count": 97,
     "metadata": {},
     "output_type": "execute_result"
    }
   ],
   "source": [
    "pd.DataFrame(mmetsp0936_sim_met4).describe()"
   ]
  },
  {
   "cell_type": "code",
   "execution_count": 85,
   "metadata": {},
   "outputs": [
    {
     "data": {
      "text/html": [
       "<div>\n",
       "<style scoped>\n",
       "    .dataframe tbody tr th:only-of-type {\n",
       "        vertical-align: middle;\n",
       "    }\n",
       "\n",
       "    .dataframe tbody tr th {\n",
       "        vertical-align: top;\n",
       "    }\n",
       "\n",
       "    .dataframe thead th {\n",
       "        text-align: right;\n",
       "    }\n",
       "</style>\n",
       "<table border=\"1\" class=\"dataframe\">\n",
       "  <thead>\n",
       "    <tr style=\"text-align: right;\">\n",
       "      <th></th>\n",
       "      <th>0</th>\n",
       "    </tr>\n",
       "  </thead>\n",
       "  <tbody>\n",
       "    <tr>\n",
       "      <th>count</th>\n",
       "      <td>99.000000</td>\n",
       "    </tr>\n",
       "    <tr>\n",
       "      <th>mean</th>\n",
       "      <td>2.719597</td>\n",
       "    </tr>\n",
       "    <tr>\n",
       "      <th>std</th>\n",
       "      <td>0.000189</td>\n",
       "    </tr>\n",
       "    <tr>\n",
       "      <th>min</th>\n",
       "      <td>2.718897</td>\n",
       "    </tr>\n",
       "    <tr>\n",
       "      <th>25%</th>\n",
       "      <td>2.719560</td>\n",
       "    </tr>\n",
       "    <tr>\n",
       "      <th>50%</th>\n",
       "      <td>2.719705</td>\n",
       "    </tr>\n",
       "    <tr>\n",
       "      <th>75%</th>\n",
       "      <td>2.719705</td>\n",
       "    </tr>\n",
       "    <tr>\n",
       "      <th>max</th>\n",
       "      <td>2.719705</td>\n",
       "    </tr>\n",
       "  </tbody>\n",
       "</table>\n",
       "</div>"
      ],
      "text/plain": [
       "               0\n",
       "count  99.000000\n",
       "mean    2.719597\n",
       "std     0.000189\n",
       "min     2.718897\n",
       "25%     2.719560\n",
       "50%     2.719705\n",
       "75%     2.719705\n",
       "max     2.719705"
      ]
     },
     "execution_count": 85,
     "metadata": {},
     "output_type": "execute_result"
    }
   ],
   "source": [
    "pd.DataFrame(mmetsp1066_sim).describe()"
   ]
  },
  {
   "cell_type": "code",
   "execution_count": 74,
   "metadata": {},
   "outputs": [
    {
     "data": {
      "text/html": [
       "<div>\n",
       "<style scoped>\n",
       "    .dataframe tbody tr th:only-of-type {\n",
       "        vertical-align: middle;\n",
       "    }\n",
       "\n",
       "    .dataframe tbody tr th {\n",
       "        vertical-align: top;\n",
       "    }\n",
       "\n",
       "    .dataframe thead th {\n",
       "        text-align: right;\n",
       "    }\n",
       "</style>\n",
       "<table border=\"1\" class=\"dataframe\">\n",
       "  <thead>\n",
       "    <tr style=\"text-align: right;\">\n",
       "      <th></th>\n",
       "      <th>0</th>\n",
       "    </tr>\n",
       "  </thead>\n",
       "  <tbody>\n",
       "    <tr>\n",
       "      <th>count</th>\n",
       "      <td>99.000000</td>\n",
       "    </tr>\n",
       "    <tr>\n",
       "      <th>mean</th>\n",
       "      <td>0.000322</td>\n",
       "    </tr>\n",
       "    <tr>\n",
       "      <th>std</th>\n",
       "      <td>0.000128</td>\n",
       "    </tr>\n",
       "    <tr>\n",
       "      <th>min</th>\n",
       "      <td>0.000072</td>\n",
       "    </tr>\n",
       "    <tr>\n",
       "      <th>25%</th>\n",
       "      <td>0.000230</td>\n",
       "    </tr>\n",
       "    <tr>\n",
       "      <th>50%</th>\n",
       "      <td>0.000289</td>\n",
       "    </tr>\n",
       "    <tr>\n",
       "      <th>75%</th>\n",
       "      <td>0.000444</td>\n",
       "    </tr>\n",
       "    <tr>\n",
       "      <th>max</th>\n",
       "      <td>0.000523</td>\n",
       "    </tr>\n",
       "  </tbody>\n",
       "</table>\n",
       "</div>"
      ],
      "text/plain": [
       "               0\n",
       "count  99.000000\n",
       "mean    0.000322\n",
       "std     0.000128\n",
       "min     0.000072\n",
       "25%     0.000230\n",
       "50%     0.000289\n",
       "75%     0.000444\n",
       "max     0.000523"
      ]
     },
     "execution_count": 74,
     "metadata": {},
     "output_type": "execute_result"
    }
   ],
   "source": [
    "pd.DataFrame(mmetsp0936_sim2).describe()"
   ]
  },
  {
   "cell_type": "code",
   "execution_count": 75,
   "metadata": {},
   "outputs": [
    {
     "data": {
      "text/html": [
       "<div>\n",
       "<style scoped>\n",
       "    .dataframe tbody tr th:only-of-type {\n",
       "        vertical-align: middle;\n",
       "    }\n",
       "\n",
       "    .dataframe tbody tr th {\n",
       "        vertical-align: top;\n",
       "    }\n",
       "\n",
       "    .dataframe thead th {\n",
       "        text-align: right;\n",
       "    }\n",
       "</style>\n",
       "<table border=\"1\" class=\"dataframe\">\n",
       "  <thead>\n",
       "    <tr style=\"text-align: right;\">\n",
       "      <th></th>\n",
       "      <th>0</th>\n",
       "    </tr>\n",
       "  </thead>\n",
       "  <tbody>\n",
       "    <tr>\n",
       "      <th>count</th>\n",
       "      <td>99.000000</td>\n",
       "    </tr>\n",
       "    <tr>\n",
       "      <th>mean</th>\n",
       "      <td>0.000443</td>\n",
       "    </tr>\n",
       "    <tr>\n",
       "      <th>std</th>\n",
       "      <td>0.000096</td>\n",
       "    </tr>\n",
       "    <tr>\n",
       "      <th>min</th>\n",
       "      <td>0.000210</td>\n",
       "    </tr>\n",
       "    <tr>\n",
       "      <th>25%</th>\n",
       "      <td>0.000395</td>\n",
       "    </tr>\n",
       "    <tr>\n",
       "      <th>50%</th>\n",
       "      <td>0.000484</td>\n",
       "    </tr>\n",
       "    <tr>\n",
       "      <th>75%</th>\n",
       "      <td>0.000523</td>\n",
       "    </tr>\n",
       "    <tr>\n",
       "      <th>max</th>\n",
       "      <td>0.000523</td>\n",
       "    </tr>\n",
       "  </tbody>\n",
       "</table>\n",
       "</div>"
      ],
      "text/plain": [
       "               0\n",
       "count  99.000000\n",
       "mean    0.000443\n",
       "std     0.000096\n",
       "min     0.000210\n",
       "25%     0.000395\n",
       "50%     0.000484\n",
       "75%     0.000523\n",
       "max     0.000523"
      ]
     },
     "execution_count": 75,
     "metadata": {},
     "output_type": "execute_result"
    }
   ],
   "source": [
    "pd.DataFrame(mmetsp0996_sim2).describe()"
   ]
  },
  {
   "cell_type": "code",
   "execution_count": 76,
   "metadata": {},
   "outputs": [
    {
     "data": {
      "text/html": [
       "<div>\n",
       "<style scoped>\n",
       "    .dataframe tbody tr th:only-of-type {\n",
       "        vertical-align: middle;\n",
       "    }\n",
       "\n",
       "    .dataframe tbody tr th {\n",
       "        vertical-align: top;\n",
       "    }\n",
       "\n",
       "    .dataframe thead th {\n",
       "        text-align: right;\n",
       "    }\n",
       "</style>\n",
       "<table border=\"1\" class=\"dataframe\">\n",
       "  <thead>\n",
       "    <tr style=\"text-align: right;\">\n",
       "      <th></th>\n",
       "      <th>0</th>\n",
       "    </tr>\n",
       "  </thead>\n",
       "  <tbody>\n",
       "    <tr>\n",
       "      <th>count</th>\n",
       "      <td>99.000000</td>\n",
       "    </tr>\n",
       "    <tr>\n",
       "      <th>mean</th>\n",
       "      <td>0.000484</td>\n",
       "    </tr>\n",
       "    <tr>\n",
       "      <th>std</th>\n",
       "      <td>0.000069</td>\n",
       "    </tr>\n",
       "    <tr>\n",
       "      <th>min</th>\n",
       "      <td>0.000227</td>\n",
       "    </tr>\n",
       "    <tr>\n",
       "      <th>25%</th>\n",
       "      <td>0.000471</td>\n",
       "    </tr>\n",
       "    <tr>\n",
       "      <th>50%</th>\n",
       "      <td>0.000523</td>\n",
       "    </tr>\n",
       "    <tr>\n",
       "      <th>75%</th>\n",
       "      <td>0.000523</td>\n",
       "    </tr>\n",
       "    <tr>\n",
       "      <th>max</th>\n",
       "      <td>0.000523</td>\n",
       "    </tr>\n",
       "  </tbody>\n",
       "</table>\n",
       "</div>"
      ],
      "text/plain": [
       "               0\n",
       "count  99.000000\n",
       "mean    0.000484\n",
       "std     0.000069\n",
       "min     0.000227\n",
       "25%     0.000471\n",
       "50%     0.000523\n",
       "75%     0.000523\n",
       "max     0.000523"
      ]
     },
     "execution_count": 76,
     "metadata": {},
     "output_type": "execute_result"
    }
   ],
   "source": [
    "pd.DataFrame(mmetsp1066_sim2).describe()"
   ]
  },
  {
   "cell_type": "code",
   "execution_count": null,
   "metadata": {},
   "outputs": [],
   "source": []
  }
 ],
 "metadata": {
  "kernelspec": {
   "display_name": "scplotenv",
   "language": "python",
   "name": "scplotenv"
  },
  "language_info": {
   "codemirror_mode": {
    "name": "ipython",
    "version": 3
   },
   "file_extension": ".py",
   "mimetype": "text/x-python",
   "name": "python",
   "nbconvert_exporter": "python",
   "pygments_lexer": "ipython3",
   "version": "3.8.3"
  }
 },
 "nbformat": 4,
 "nbformat_minor": 2
}
