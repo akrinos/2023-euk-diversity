{
 "cells": [
  {
   "cell_type": "code",
   "execution_count": 2,
   "metadata": {},
   "outputs": [],
   "source": [
    "pacman::p_load(ggplot2,dplyr,tidyverse,tidyr,cowplot,patchwork,psych,\n",
    "                beeswarm,ggbeeswarm,data.table,ggridges,rjson,ggupset,plotly,reticulate,\n",
    "                plot3D,ggrepel,ggbreak,stringr)"
   ]
  },
  {
   "cell_type": "markdown",
   "metadata": {},
   "source": [
    "### Read in Salmon quantification results for BATS"
   ]
  },
  {
   "cell_type": "code",
   "execution_count": 7,
   "metadata": {},
   "outputs": [
    {
     "name": "stdout",
     "output_type": "stream",
     "text": [
      "System errno 22 unmapping file: Invalid argument\n"
     ]
    },
    {
     "ename": "ERROR",
     "evalue": "Error in fread(file.path(salmon_dir, curr, \"quant.sf\"), select = c(\"Name\", : Opened 2.567GB (2756706044 bytes) file ok but could not memory map it. This is a 64bit process. There is probably not enough contiguous virtual memory available.\n",
     "output_type": "error",
     "traceback": [
      "Error in fread(file.path(salmon_dir, curr, \"quant.sf\"), select = c(\"Name\", : Opened 2.567GB (2756706044 bytes) file ok but could not memory map it. This is a 64bit process. There is probably not enough contiguous virtual memory available.\nTraceback:\n",
      "1. data.frame(fread(file.path(salmon_dir, curr, \"quant.sf\"), select = c(\"Name\", \n .     \"TPM\", \"NumReads\", \"Length\"), sep = \"\\t\"))",
      "2. fread(file.path(salmon_dir, curr, \"quant.sf\"), select = c(\"Name\", \n .     \"TPM\", \"NumReads\", \"Length\"), sep = \"\\t\")"
     ]
    }
   ],
   "source": [
    "salmon_all=data.frame()\n",
    "salmon_dir=\"/vortexfs1/omics/saito/BATS2019-clio-metaT/eukrhythmic_output/salmon_megamerge/\"\n",
    "for (curr in list.files(salmon_dir)) {\n",
    "    if (!grepl(\"_quant\",curr)) { \n",
    "        next\n",
    "    }\n",
    "    salmon_curr = data.frame(fread(file.path(salmon_dir,curr,\"quant.sf\"),select=c(\"Name\",\"TPM\",\"NumReads\",\"Length\"),sep=\"\\t\"))\n",
    "    salmon_all=salmon_all %>% dplyr::bind_rows(salmon_curr %>% \n",
    "                                               dplyr::mutate(Sample=paste(unlist(strsplit(curr,\"_\")),collapse=\"_\")))\n",
    "}"
   ]
  },
  {
   "cell_type": "code",
   "execution_count": 3,
   "metadata": {},
   "outputs": [
    {
     "data": {
      "text/html": [
       "<style>\n",
       ".list-inline {list-style: none; margin:0; padding: 0}\n",
       ".list-inline>li {display: inline-block}\n",
       ".list-inline>li:not(:last-child)::after {content: \"\\00b7\"; padding: 0 .5ex}\n",
       "</style>\n",
       "<ol class=list-inline><li>'HN001_quant'</li><li>'HN002_quant'</li><li>'HN003_quant'</li><li>'HN004_quant'</li><li>'HN005_quant'</li><li>'HN006_quant'</li><li>'HN007_quant'</li><li>'HN008_quant'</li><li>'HN009_quant'</li><li>'HN010_quant'</li><li>'HN011_quant'</li><li>'HN012_quant'</li><li>'HN013_quant'</li><li>'HN014_quant'</li><li>'HN015_quant'</li><li>'HN016_quant'</li><li>'HN017_quant'</li><li>'HN018_quant'</li><li>'HN019_quant'</li><li>'HN020_quant'</li><li>'HN021_quant'</li><li>'HN022_quant'</li><li>'HN023_quant'</li><li>'HN024_quant'</li><li>'HN025_quant'</li><li>'HN026_quant'</li><li>'HN027_quant'</li><li>'HN028_quant'</li><li>'HN029_quant'</li><li>'HN030_quant'</li><li>'HN031_quant'</li><li>'HN032_quant'</li><li>'HN033_quant'</li><li>'HN034_quant'</li><li>'HN035_quant'</li><li>'HN036_quant'</li><li>'HN037_quant'</li><li>'HN038_quant'</li><li>'HN039_quant'</li><li>'HN040_quant'</li><li>'HN041_quant'</li><li>'HN042_quant'</li><li>'HN043_quant'</li><li>'HN044_quant'</li><li>'index'</li><li>'load_sample_names.sh'</li><li>'salmon_mmseq.err'</li><li>'salmon_mmseq.out'</li><li>'salmon_mmseq.sh'</li></ol>\n"
      ],
      "text/latex": [
       "\\begin{enumerate*}\n",
       "\\item 'HN001\\_quant'\n",
       "\\item 'HN002\\_quant'\n",
       "\\item 'HN003\\_quant'\n",
       "\\item 'HN004\\_quant'\n",
       "\\item 'HN005\\_quant'\n",
       "\\item 'HN006\\_quant'\n",
       "\\item 'HN007\\_quant'\n",
       "\\item 'HN008\\_quant'\n",
       "\\item 'HN009\\_quant'\n",
       "\\item 'HN010\\_quant'\n",
       "\\item 'HN011\\_quant'\n",
       "\\item 'HN012\\_quant'\n",
       "\\item 'HN013\\_quant'\n",
       "\\item 'HN014\\_quant'\n",
       "\\item 'HN015\\_quant'\n",
       "\\item 'HN016\\_quant'\n",
       "\\item 'HN017\\_quant'\n",
       "\\item 'HN018\\_quant'\n",
       "\\item 'HN019\\_quant'\n",
       "\\item 'HN020\\_quant'\n",
       "\\item 'HN021\\_quant'\n",
       "\\item 'HN022\\_quant'\n",
       "\\item 'HN023\\_quant'\n",
       "\\item 'HN024\\_quant'\n",
       "\\item 'HN025\\_quant'\n",
       "\\item 'HN026\\_quant'\n",
       "\\item 'HN027\\_quant'\n",
       "\\item 'HN028\\_quant'\n",
       "\\item 'HN029\\_quant'\n",
       "\\item 'HN030\\_quant'\n",
       "\\item 'HN031\\_quant'\n",
       "\\item 'HN032\\_quant'\n",
       "\\item 'HN033\\_quant'\n",
       "\\item 'HN034\\_quant'\n",
       "\\item 'HN035\\_quant'\n",
       "\\item 'HN036\\_quant'\n",
       "\\item 'HN037\\_quant'\n",
       "\\item 'HN038\\_quant'\n",
       "\\item 'HN039\\_quant'\n",
       "\\item 'HN040\\_quant'\n",
       "\\item 'HN041\\_quant'\n",
       "\\item 'HN042\\_quant'\n",
       "\\item 'HN043\\_quant'\n",
       "\\item 'HN044\\_quant'\n",
       "\\item 'index'\n",
       "\\item 'load\\_sample\\_names.sh'\n",
       "\\item 'salmon\\_mmseq.err'\n",
       "\\item 'salmon\\_mmseq.out'\n",
       "\\item 'salmon\\_mmseq.sh'\n",
       "\\end{enumerate*}\n"
      ],
      "text/markdown": [
       "1. 'HN001_quant'\n",
       "2. 'HN002_quant'\n",
       "3. 'HN003_quant'\n",
       "4. 'HN004_quant'\n",
       "5. 'HN005_quant'\n",
       "6. 'HN006_quant'\n",
       "7. 'HN007_quant'\n",
       "8. 'HN008_quant'\n",
       "9. 'HN009_quant'\n",
       "10. 'HN010_quant'\n",
       "11. 'HN011_quant'\n",
       "12. 'HN012_quant'\n",
       "13. 'HN013_quant'\n",
       "14. 'HN014_quant'\n",
       "15. 'HN015_quant'\n",
       "16. 'HN016_quant'\n",
       "17. 'HN017_quant'\n",
       "18. 'HN018_quant'\n",
       "19. 'HN019_quant'\n",
       "20. 'HN020_quant'\n",
       "21. 'HN021_quant'\n",
       "22. 'HN022_quant'\n",
       "23. 'HN023_quant'\n",
       "24. 'HN024_quant'\n",
       "25. 'HN025_quant'\n",
       "26. 'HN026_quant'\n",
       "27. 'HN027_quant'\n",
       "28. 'HN028_quant'\n",
       "29. 'HN029_quant'\n",
       "30. 'HN030_quant'\n",
       "31. 'HN031_quant'\n",
       "32. 'HN032_quant'\n",
       "33. 'HN033_quant'\n",
       "34. 'HN034_quant'\n",
       "35. 'HN035_quant'\n",
       "36. 'HN036_quant'\n",
       "37. 'HN037_quant'\n",
       "38. 'HN038_quant'\n",
       "39. 'HN039_quant'\n",
       "40. 'HN040_quant'\n",
       "41. 'HN041_quant'\n",
       "42. 'HN042_quant'\n",
       "43. 'HN043_quant'\n",
       "44. 'HN044_quant'\n",
       "45. 'index'\n",
       "46. 'load_sample_names.sh'\n",
       "47. 'salmon_mmseq.err'\n",
       "48. 'salmon_mmseq.out'\n",
       "49. 'salmon_mmseq.sh'\n",
       "\n",
       "\n"
      ],
      "text/plain": [
       " [1] \"HN001_quant\"          \"HN002_quant\"          \"HN003_quant\"         \n",
       " [4] \"HN004_quant\"          \"HN005_quant\"          \"HN006_quant\"         \n",
       " [7] \"HN007_quant\"          \"HN008_quant\"          \"HN009_quant\"         \n",
       "[10] \"HN010_quant\"          \"HN011_quant\"          \"HN012_quant\"         \n",
       "[13] \"HN013_quant\"          \"HN014_quant\"          \"HN015_quant\"         \n",
       "[16] \"HN016_quant\"          \"HN017_quant\"          \"HN018_quant\"         \n",
       "[19] \"HN019_quant\"          \"HN020_quant\"          \"HN021_quant\"         \n",
       "[22] \"HN022_quant\"          \"HN023_quant\"          \"HN024_quant\"         \n",
       "[25] \"HN025_quant\"          \"HN026_quant\"          \"HN027_quant\"         \n",
       "[28] \"HN028_quant\"          \"HN029_quant\"          \"HN030_quant\"         \n",
       "[31] \"HN031_quant\"          \"HN032_quant\"          \"HN033_quant\"         \n",
       "[34] \"HN034_quant\"          \"HN035_quant\"          \"HN036_quant\"         \n",
       "[37] \"HN037_quant\"          \"HN038_quant\"          \"HN039_quant\"         \n",
       "[40] \"HN040_quant\"          \"HN041_quant\"          \"HN042_quant\"         \n",
       "[43] \"HN043_quant\"          \"HN044_quant\"          \"index\"               \n",
       "[46] \"load_sample_names.sh\" \"salmon_mmseq.err\"     \"salmon_mmseq.out\"    \n",
       "[49] \"salmon_mmseq.sh\"     "
      ]
     },
     "metadata": {},
     "output_type": "display_data"
    }
   ],
   "source": [
    "list.files(salmon_dir)"
   ]
  },
  {
   "cell_type": "markdown",
   "metadata": {},
   "source": [
    "### Read in EUKulele for BATS"
   ]
  },
  {
   "cell_type": "markdown",
   "metadata": {},
   "source": [
    "#### MMETSP goes first"
   ]
  },
  {
   "cell_type": "code",
   "execution_count": 3,
   "metadata": {},
   "outputs": [],
   "source": [
    "# with full transcripts & blastx\n",
    "mmetsp_file=\"/vortexfs1/omics/saito/BATS2019-clio-metaT/eukrhythmic_output/EUKulele_BATS_MMETSP/output/taxonomy_estimation/merged_merged-estimated-taxonomy.out\"\n",
    "BATS_mmetsp=data.frame(fread(mmetsp_file,sep=\"\\t\",select=c(\"transcript_name\",\"classification\",\"max_pid\")))"
   ]
  },
  {
   "cell_type": "markdown",
   "metadata": {},
   "source": [
    "#### Now PhyloDB"
   ]
  },
  {
   "cell_type": "code",
   "execution_count": 4,
   "metadata": {},
   "outputs": [],
   "source": [
    "# with full transcripts & blastx\n",
    "phylodb_file=\"/vortexfs1/omics/saito/BATS2019-clio-metaT/eukrhythmic_output/EUKulele_BATS_test_23/output/taxonomy_estimation/merged_merged-estimated-taxonomy.out\"\n",
    "BATS_phylodb=data.frame(fread(phylodb_file,sep=\"\\t\",select=c(\"transcript_name\",\"classification\",\"max_pid\")))"
   ]
  },
  {
   "cell_type": "code",
   "execution_count": null,
   "metadata": {},
   "outputs": [],
   "source": []
  }
 ],
 "metadata": {
  "kernelspec": {
   "display_name": "R 4.1",
   "language": "R",
   "name": "ir41"
  },
  "language_info": {
   "codemirror_mode": "r",
   "file_extension": ".r",
   "mimetype": "text/x-r-source",
   "name": "R",
   "pygments_lexer": "r",
   "version": "4.1.0"
  }
 },
 "nbformat": 4,
 "nbformat_minor": 2
}
