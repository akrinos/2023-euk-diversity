{
 "cells": [
  {
   "cell_type": "code",
   "execution_count": 17,
   "metadata": {},
   "outputs": [
    {
     "name": "stderr",
     "output_type": "stream",
     "text": [
      "Updating HTML index of packages in '.Library'\n",
      "\n",
      "Making 'packages.html' ...\n",
      " done\n",
      "\n",
      "\n",
      "goftest installed\n",
      "\n"
     ]
    }
   ],
   "source": [
    "pacman::p_load(dplyr,ggplot2,DescTools,nortest,goftest)"
   ]
  },
  {
   "cell_type": "code",
   "execution_count": 2,
   "metadata": {},
   "outputs": [],
   "source": [
    "MMETSP_frame=read.csv(\"/vortexfs1/omics/alexander/data/databases/marmmetsp-5Dec2022/tax-table.txt\",sep=\"\\t\")"
   ]
  },
  {
   "cell_type": "code",
   "execution_count": 7,
   "metadata": {},
   "outputs": [
    {
     "data": {
      "text/html": [
       "<table class=\"dataframe\">\n",
       "<caption>A tibble: 6 × 2</caption>\n",
       "<thead>\n",
       "\t<tr><th scope=col>Family</th><th scope=col>abund</th></tr>\n",
       "\t<tr><th scope=col>&lt;chr&gt;</th><th scope=col>&lt;int&gt;</th></tr>\n",
       "</thead>\n",
       "<tbody>\n",
       "\t<tr><td>Amphipleuraceae </td><td> 5</td></tr>\n",
       "\t<tr><td>Aulacoseiraceae </td><td> 1</td></tr>\n",
       "\t<tr><td>Bacillariaceae  </td><td>28</td></tr>\n",
       "\t<tr><td>Bolidomonadaceae</td><td> 4</td></tr>\n",
       "\t<tr><td>Catenulaceae    </td><td> 3</td></tr>\n",
       "\t<tr><td>Chaetocerotales </td><td>20</td></tr>\n",
       "</tbody>\n",
       "</table>\n"
      ],
      "text/latex": [
       "A tibble: 6 × 2\n",
       "\\begin{tabular}{ll}\n",
       " Family & abund\\\\\n",
       " <chr> & <int>\\\\\n",
       "\\hline\n",
       "\t Amphipleuraceae  &  5\\\\\n",
       "\t Aulacoseiraceae  &  1\\\\\n",
       "\t Bacillariaceae   & 28\\\\\n",
       "\t Bolidomonadaceae &  4\\\\\n",
       "\t Catenulaceae     &  3\\\\\n",
       "\t Chaetocerotales  & 20\\\\\n",
       "\\end{tabular}\n"
      ],
      "text/markdown": [
       "\n",
       "A tibble: 6 × 2\n",
       "\n",
       "| Family &lt;chr&gt; | abund &lt;int&gt; |\n",
       "|---|---|\n",
       "| Amphipleuraceae  |  5 |\n",
       "| Aulacoseiraceae  |  1 |\n",
       "| Bacillariaceae   | 28 |\n",
       "| Bolidomonadaceae |  4 |\n",
       "| Catenulaceae     |  3 |\n",
       "| Chaetocerotales  | 20 |\n",
       "\n"
      ],
      "text/plain": [
       "  Family           abund\n",
       "1 Amphipleuraceae   5   \n",
       "2 Aulacoseiraceae   1   \n",
       "3 Bacillariaceae   28   \n",
       "4 Bolidomonadaceae  4   \n",
       "5 Catenulaceae      3   \n",
       "6 Chaetocerotales  20   "
      ]
     },
     "metadata": {},
     "output_type": "display_data"
    }
   ],
   "source": [
    "MMETSP_frame=MMETSP_frame %>% dplyr::filter(Division==\"Ochrophyta\") %>% \n",
    "    dplyr::group_by(Family) %>% dplyr::tally() %>%\n",
    "    dplyr::rename(c(\"abund\"=\"n\"))\n",
    "head(MMETSP_frame)"
   ]
  },
  {
   "cell_type": "code",
   "execution_count": 10,
   "metadata": {},
   "outputs": [
    {
     "data": {
      "text/plain": [
       "\n",
       "\tAnderson-Darling test of goodness-of-fit\n",
       "\tNull hypothesis: uniform distribution\n",
       "\twith parameters min = 1.000, max = 51.000\n",
       "\n",
       "data:  x\n",
       "An = Inf, p-value = 1.277e-05\n"
      ]
     },
     "metadata": {},
     "output_type": "display_data"
    }
   ],
   "source": [
    "\n",
    "x<-MMETSP_frame$abund\n",
    "AndersonDarlingTest(x, \"punif\", min=min(x), max=max(x))\n"
   ]
  },
  {
   "cell_type": "code",
   "execution_count": 16,
   "metadata": {},
   "outputs": [
    {
     "data": {
      "text/plain": [
       "\n",
       "\tAnderson-Darling normality test\n",
       "\n",
       "data:  x\n",
       "A = 6.6241, p-value < 2.2e-16\n"
      ]
     },
     "metadata": {},
     "output_type": "display_data"
    }
   ],
   "source": [
    "ad.test(x)"
   ]
  },
  {
   "cell_type": "code",
   "execution_count": 22,
   "metadata": {},
   "outputs": [
    {
     "data": {
      "text/plain": [
       "\n",
       "\tAnderson-Darling test of goodness-of-fit\n",
       "\tNull hypothesis: uniform distribution\n",
       "\twith parameters min = 0, max = 61\n",
       "\tParameters assumed to be fixed\n",
       "\n",
       "data:  x\n",
       "An = 70.221, p-value = 1.277e-05\n"
      ]
     },
     "metadata": {},
     "output_type": "display_data"
    }
   ],
   "source": [
    "goftest::ad.test(x,null=\"punif\",min=0,max=max(x)+10)"
   ]
  },
  {
   "cell_type": "code",
   "execution_count": null,
   "metadata": {},
   "outputs": [],
   "source": []
  }
 ],
 "metadata": {
  "kernelspec": {
   "display_name": "R 4.1",
   "language": "R",
   "name": "ir41"
  },
  "language_info": {
   "codemirror_mode": "r",
   "file_extension": ".r",
   "mimetype": "text/x-r-source",
   "name": "R",
   "pygments_lexer": "r",
   "version": "4.1.0"
  }
 },
 "nbformat": 4,
 "nbformat_minor": 2
}
