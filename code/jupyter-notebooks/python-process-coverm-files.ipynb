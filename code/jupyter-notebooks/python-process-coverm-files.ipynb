{
 "cells": [
  {
   "cell_type": "code",
   "execution_count": 1,
   "metadata": {},
   "outputs": [],
   "source": [
    "import os\n",
    "import time\n",
    "from io import StringIO\n",
    "import subprocess\n",
    "import plotnine\n",
    "import pandas as pd\n",
    "import numpy as np"
   ]
  },
  {
   "cell_type": "code",
   "execution_count": 2,
   "metadata": {},
   "outputs": [],
   "source": [
    "base_dir=\"/vortexfs1/omics/alexander/akrinos/2022-euk-diversity/output/tara-eukulele-mapping/EUKulele_assembly_mapping\"\n",
    "eukulele_paths=os.listdir(os.path.join(base_dir))"
   ]
  },
  {
   "cell_type": "code",
   "execution_count": 3,
   "metadata": {},
   "outputs": [],
   "source": [
    "coverm_dir=\"/vortexfs1/scratch/akrinos/2022-euk-diversity-phaeo-contigs\"\n",
    "all_phaeo_seqs = pd.DataFrame()\n",
    "for curr_path in eukulele_paths:\n",
    "    if not os.path.isfile(os.path.join(coverm_dir,curr_path,\"coverm\",\"phaeo_abund.out\")):\n",
    "        continue\n",
    "    curr_all_combo = pd.DataFrame()\n",
    "    if os.path.getsize(os.path.join(coverm_dir,curr_path,\"coverm\",\"phaeo_abund.out\")) == 0:\n",
    "        continue\n",
    "    step1=pd.read_csv(os.path.join(coverm_dir,curr_path,\"coverm\",\"phaeo_abund.out\"),\n",
    "        sep=\"\\t\")\n",
    "    step1[\"TotalAll\"] = step1.loc[:,[(\"phaeo_contigs\" in curr)&(\"TPM\" in curr) \\\n",
    "                                     for curr in step1.columns]].sum(axis=1)\n",
    "    for curr_path_2 in os.listdir(os.path.join(base_dir,curr_path)):\n",
    "        if not (os.path.isdir(os.path.join(base_dir, curr_path, curr_path_2, \"taxonomy_estimation\"))):\n",
    "            continue\n",
    "        tax_est_file = os.path.join(base_dir, curr_path, curr_path_2, \"taxonomy_estimation\",\n",
    "                                    \"proteins-estimated-taxonomy.out\")\n",
    "        output = subprocess.check_output(\" \".join([\"cat\", tax_est_file, \"| { grep Phaeocystis || true; }\"]),\n",
    "                                          shell=True).decode(\"utf-8\").split(\"\\n\")\n",
    "        TESTDATA = StringIO(\"\\n\".join(output))\n",
    "        df = pd.read_csv(TESTDATA, sep=\"\\t\", header=None,names=[\"transcript_name\",\"classification_level\",\n",
    "                                                        \"full_classification\",\"classification\",\n",
    "                                                        \"max_pid\",\"ambiguous\",\"counts\"])\n",
    "        df[\"contig_name\"] = [\"_\".join(curr.split(\"_\")[0:2]) for curr in df[\"transcript_name\"]]\n",
    "        df = df.merge(step1.loc[:,[\"Contig\",\"TotalAll\"]],left_on=\"contig_name\",\n",
    "                      right_on=\"Contig\",how=\"left\")\n",
    "        tara_sample=curr_path\n",
    "        phaeo_curr=curr_path_2\n",
    "        df[\"PhaeoDB\"]=phaeo_curr\n",
    "        df[\"TaraSample\"]=curr_path\n",
    "        all_phaeo_seqs = pd.concat([all_phaeo_seqs,df])"
   ]
  },
  {
   "cell_type": "code",
   "execution_count": 4,
   "metadata": {},
   "outputs": [],
   "source": [
    "counted_by_samp = all_phaeo_seqs.drop_duplicates(subset=[\"transcript_name\",\n",
    "                                                         \"TaraSample\"]).\\\n",
    "                    groupby(\"TaraSample\")[\"classification\"].count().reset_index().\\\n",
    "    rename({\"classification\":\"TotalBySamp\"},axis=\"columns\")"
   ]
  },
  {
   "cell_type": "code",
   "execution_count": 5,
   "metadata": {},
   "outputs": [],
   "source": [
    "grouped_counted_seqs = all_phaeo_seqs.loc[[(curr in [\"phaeo_all\",\"free_phaeo\",\"colonies_phaeo\"]) \\\n",
    "                    for curr in all_phaeo_seqs.PhaeoDB],:].groupby([\"PhaeoDB\",\n",
    "                                                                    \"TaraSample\"])\\\n",
    "    [\"classification\"].count().reset_index()\n",
    "grouped_counted_seqs[\"ShortCode\"] = [curr.split(\"-\")[0] for curr in grouped_counted_seqs.TaraSample]\n",
    "grouped_counted_seqs[\"Depth\"] = [curr.split(\"-\")[2] for curr in grouped_counted_seqs.TaraSample]\n",
    "grouped_counted_seqs[\"SizeFract\"] = [\"Small\" if \"0.8-5\" in curr else \"Mid\" if \"5-20\" in curr\\\n",
    "                                     else \"Large\" if \"20-\" in curr else \"Largest\" \\\n",
    "                                     for curr in grouped_counted_seqs.TaraSample]"
   ]
  },
  {
   "cell_type": "code",
   "execution_count": 6,
   "metadata": {},
   "outputs": [],
   "source": [
    "grouped_counted_seqs_abund = all_phaeo_seqs.loc[[(curr in [\"phaeo_all\",\"free_phaeo\",\"colonies_phaeo\"]) \\\n",
    "                    for curr in all_phaeo_seqs.PhaeoDB],:].fillna(0).groupby([\"PhaeoDB\",\n",
    "                                                                    \"TaraSample\"])\\\n",
    "    [\"TotalAll\"].sum().reset_index()\n",
    "grouped_counted_seqs_abund[\"ShortCode\"] = [curr.split(\"-\")[0] for curr in grouped_counted_seqs_abund.TaraSample]\n",
    "grouped_counted_seqs_abund[\"Depth\"] = [curr.split(\"-\")[2] for curr in grouped_counted_seqs_abund.TaraSample]\n",
    "grouped_counted_seqs_abund[\"SizeFract\"] = [\"Small\" if \"0.8-5\" in curr else \"Mid\" if \"5-20\" in curr\\\n",
    "                                     else \"Large\" if \"20-\" in curr else \"Largest\" \\\n",
    "                                     for curr in grouped_counted_seqs_abund.TaraSample]"
   ]
  },
  {
   "cell_type": "code",
   "execution_count": 7,
   "metadata": {},
   "outputs": [],
   "source": [
    "grouped_counted_seqs.to_csv(\"short_code_abund_9July2023.csv\")"
   ]
  },
  {
   "cell_type": "code",
   "execution_count": 8,
   "metadata": {},
   "outputs": [],
   "source": [
    "grouped_counted_seqs_abund.to_csv(\"short_code_abund_mean_cov_9July2023.csv\")"
   ]
  },
  {
   "cell_type": "code",
   "execution_count": null,
   "metadata": {},
   "outputs": [],
   "source": []
  }
 ],
 "metadata": {
  "kernelspec": {
   "display_name": "scplotenv",
   "language": "python",
   "name": "scplotenv"
  },
  "language_info": {
   "codemirror_mode": {
    "name": "ipython",
    "version": 3
   },
   "file_extension": ".py",
   "mimetype": "text/x-python",
   "name": "python",
   "nbconvert_exporter": "python",
   "pygments_lexer": "ipython3",
   "version": "3.8.3"
  }
 },
 "nbformat": 4,
 "nbformat_minor": 2
}
