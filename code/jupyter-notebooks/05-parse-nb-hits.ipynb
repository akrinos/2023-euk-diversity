{
 "cells": [
  {
   "cell_type": "code",
   "execution_count": 1,
   "metadata": {},
   "outputs": [],
   "source": [
    "pacman::p_load(dplyr,ggplot2,data.table)"
   ]
  },
  {
   "cell_type": "code",
   "execution_count": 2,
   "metadata": {},
   "outputs": [],
   "source": [
    "eukulele_res_contig=file.path(\"/vortexfs1/omics/alexander/akrinos/2021-testing-eukrhythmic/eukrhythmic-eLife/snakemake-workflows/eukulele-snake\",\n",
    "                              \"EUKulele_marmmetsp_NB_MAD_contigs_better_diatom\",\"taxonomy_estimation\",\n",
    "                              \"MAD.nospace-estimated-taxonomy.out\")"
   ]
  },
  {
   "cell_type": "code",
   "execution_count": 3,
   "metadata": {},
   "outputs": [],
   "source": [
    "eukulele_res_contig_frame = data.frame(fread(eukulele_res_contig,sep=\"\\t\"))"
   ]
  },
  {
   "cell_type": "code",
   "execution_count": 7,
   "metadata": {},
   "outputs": [],
   "source": [
    "diamond_res_contig=file.path(\"/vortexfs1/omics/alexander/akrinos/2021-testing-eukrhythmic/eukrhythmic-eLife/snakemake-workflows/eukulele-snake\",\n",
    "                              \"EUKulele_marmmetsp_NB_MAD_contigs_better_diatom\",\"mets_full\",\n",
    "                              \"diamond\",\"MAD.nospace.diamond.out\")"
   ]
  },
  {
   "cell_type": "code",
   "execution_count": null,
   "metadata": {},
   "outputs": [],
   "source": [
    "diamond_res_contig_frame = data.frame(fread(diamond_res_contig,sep=\"\\t\",\n",
    "                                             header=FALSE,\n",
    "                                             col.names=c(\"qseqid\",\"sseqid\",\"pident\",\"length\",\n",
    "                                        \"mismatch\",\"gapopen\",\"qstart\",\"qend\",\"sstart\",\"send\",\n",
    "                                        \"evalue\",\"bitscore\")))"
   ]
  },
  {
   "cell_type": "code",
   "execution_count": 4,
   "metadata": {},
   "outputs": [],
   "source": [
    "diamond_res_contig_frame = data.frame()\n",
    "NB_match_name_folder=\"/vortexfs1/omics/alexander/akrinos/2022-euk-diversity/output/bidirectional-hit-dbs-modids-contignames/pep_diamond_matches/NB/\"\n",
    "for (curr in list.files(NB_match_name_folder)){\n",
    "    curr_fr = data.frame(fread(file.path(NB_match_name_folder,curr),sep=\"\\t\",\n",
    "                                             header=FALSE,\n",
    "                                             col.names=c(\"qseqid\",\"sseqid\",\"pident\",\"length\",\n",
    "                                        \"mismatch\",\"gapopen\",\"qstart\",\"qend\",\"sstart\",\"send\",\n",
    "                                        \"evalue\",\"bitscore\")))\n",
    "    curr_fr[\"Sample\"] = unlist(strsplit(unlist(strsplit(curr,\"_\"))[2],\"\\\\.\"))[1]\n",
    "}"
   ]
  },
  {
   "cell_type": "code",
   "execution_count": 11,
   "metadata": {},
   "outputs": [],
   "source": [
    "curr_fr$Source_ID=sapply(lapply(strsplit(as.character(curr_fr$sseqid),\"_\"), tail, 1), paste, collapse=\"_\")"
   ]
  },
  {
   "cell_type": "code",
   "execution_count": 12,
   "metadata": {},
   "outputs": [
    {
     "data": {
      "text/html": [
       "<table class=\"dataframe\">\n",
       "<caption>A data.frame: 6 × 14</caption>\n",
       "<thead>\n",
       "\t<tr><th></th><th scope=col>qseqid</th><th scope=col>sseqid</th><th scope=col>pident</th><th scope=col>length</th><th scope=col>mismatch</th><th scope=col>gapopen</th><th scope=col>qstart</th><th scope=col>qend</th><th scope=col>sstart</th><th scope=col>send</th><th scope=col>evalue</th><th scope=col>bitscore</th><th scope=col>Sample</th><th scope=col>Source_ID</th></tr>\n",
       "\t<tr><th></th><th scope=col>&lt;chr&gt;</th><th scope=col>&lt;chr&gt;</th><th scope=col>&lt;dbl&gt;</th><th scope=col>&lt;int&gt;</th><th scope=col>&lt;int&gt;</th><th scope=col>&lt;int&gt;</th><th scope=col>&lt;int&gt;</th><th scope=col>&lt;int&gt;</th><th scope=col>&lt;int&gt;</th><th scope=col>&lt;int&gt;</th><th scope=col>&lt;dbl&gt;</th><th scope=col>&lt;dbl&gt;</th><th scope=col>&lt;chr&gt;</th><th scope=col>&lt;chr&gt;</th></tr>\n",
       "</thead>\n",
       "<tbody>\n",
       "\t<tr><th scope=row>1</th><td>megahit_NarBay_S5_k51_0.p1     </td><td>CAMPEP_0175096170_CONTIGID_MMETSP0086_2-20121207|4582_1_MMETSP0086 </td><td>98.3</td><td>664</td><td> 7</td><td>1</td><td>  4</td><td>663</td><td>2</td><td>665</td><td> 0.00e+00</td><td>1057.0</td><td>S5</td><td>MMETSP0086</td></tr>\n",
       "\t<tr><th scope=row>2</th><td>megahit_NarBay_S5_k51_0.p1     </td><td>CAMPEP_0175137602_CONTIGID_MMETSP0087-20121206|9902_1_MMETSP0087   </td><td>99.3</td><td>550</td><td> 4</td><td>0</td><td>  1</td><td>550</td><td>6</td><td>555</td><td> 0.00e+00</td><td>1050.0</td><td>S5</td><td>MMETSP0087</td></tr>\n",
       "\t<tr><th scope=row>3</th><td>megahit_NarBay_S5_k51_0.p1     </td><td>CAMPEP_0175097004_CONTIGID_MMETSP0086_2-20121207|5045_1_MMETSP0086 </td><td>53.1</td><td>128</td><td>60</td><td>0</td><td>423</td><td>550</td><td>1</td><td>128</td><td> 1.63e-32</td><td> 130.0</td><td>S5</td><td>MMETSP0086</td></tr>\n",
       "\t<tr><th scope=row>4</th><td>megahit_NarBay_S5_k51_0.p1     </td><td>CAMPEP_0175110350_CONTIGID_MMETSP0086_2-20121207|14016_1_MMETSP0086</td><td>65.2</td><td> 92</td><td>32</td><td>0</td><td>186</td><td>277</td><td>2</td><td> 93</td><td> 3.71e-31</td><td> 124.0</td><td>S5</td><td>MMETSP0086</td></tr>\n",
       "\t<tr><th scope=row>5</th><td>megahit_NarBay_S5_k51_0.p1     </td><td>CAMPEP_0175174288_CONTIGID_MMETSP0087-20121206|32544_1_MMETSP0087  </td><td>59.1</td><td> 44</td><td>18</td><td>0</td><td>342</td><td>385</td><td>1</td><td> 44</td><td> 5.19e-09</td><td>  60.1</td><td>S5</td><td>MMETSP0087</td></tr>\n",
       "\t<tr><th scope=row>6</th><td>megahit_NarBay_S5_k51_100006.p1</td><td>CAMPEP_0182455682_CONTIGID_MMETSP1319-20130603|1772_1_MMETSP1319   </td><td>92.3</td><td>235</td><td>18</td><td>0</td><td>  1</td><td>235</td><td>4</td><td>238</td><td>3.31e-159</td><td> 447.0</td><td>S5</td><td>MMETSP1319</td></tr>\n",
       "</tbody>\n",
       "</table>\n"
      ],
      "text/latex": [
       "A data.frame: 6 × 14\n",
       "\\begin{tabular}{r|llllllllllllll}\n",
       "  & qseqid & sseqid & pident & length & mismatch & gapopen & qstart & qend & sstart & send & evalue & bitscore & Sample & Source\\_ID\\\\\n",
       "  & <chr> & <chr> & <dbl> & <int> & <int> & <int> & <int> & <int> & <int> & <int> & <dbl> & <dbl> & <chr> & <chr>\\\\\n",
       "\\hline\n",
       "\t1 & megahit\\_NarBay\\_S5\\_k51\\_0.p1      & CAMPEP\\_0175096170\\_CONTIGID\\_MMETSP0086\\_2-20121207\\textbar{}4582\\_1\\_MMETSP0086  & 98.3 & 664 &  7 & 1 &   4 & 663 & 2 & 665 &  0.00e+00 & 1057.0 & S5 & MMETSP0086\\\\\n",
       "\t2 & megahit\\_NarBay\\_S5\\_k51\\_0.p1      & CAMPEP\\_0175137602\\_CONTIGID\\_MMETSP0087-20121206\\textbar{}9902\\_1\\_MMETSP0087    & 99.3 & 550 &  4 & 0 &   1 & 550 & 6 & 555 &  0.00e+00 & 1050.0 & S5 & MMETSP0087\\\\\n",
       "\t3 & megahit\\_NarBay\\_S5\\_k51\\_0.p1      & CAMPEP\\_0175097004\\_CONTIGID\\_MMETSP0086\\_2-20121207\\textbar{}5045\\_1\\_MMETSP0086  & 53.1 & 128 & 60 & 0 & 423 & 550 & 1 & 128 &  1.63e-32 &  130.0 & S5 & MMETSP0086\\\\\n",
       "\t4 & megahit\\_NarBay\\_S5\\_k51\\_0.p1      & CAMPEP\\_0175110350\\_CONTIGID\\_MMETSP0086\\_2-20121207\\textbar{}14016\\_1\\_MMETSP0086 & 65.2 &  92 & 32 & 0 & 186 & 277 & 2 &  93 &  3.71e-31 &  124.0 & S5 & MMETSP0086\\\\\n",
       "\t5 & megahit\\_NarBay\\_S5\\_k51\\_0.p1      & CAMPEP\\_0175174288\\_CONTIGID\\_MMETSP0087-20121206\\textbar{}32544\\_1\\_MMETSP0087   & 59.1 &  44 & 18 & 0 & 342 & 385 & 1 &  44 &  5.19e-09 &   60.1 & S5 & MMETSP0087\\\\\n",
       "\t6 & megahit\\_NarBay\\_S5\\_k51\\_100006.p1 & CAMPEP\\_0182455682\\_CONTIGID\\_MMETSP1319-20130603\\textbar{}1772\\_1\\_MMETSP1319    & 92.3 & 235 & 18 & 0 &   1 & 235 & 4 & 238 & 3.31e-159 &  447.0 & S5 & MMETSP1319\\\\\n",
       "\\end{tabular}\n"
      ],
      "text/markdown": [
       "\n",
       "A data.frame: 6 × 14\n",
       "\n",
       "| <!--/--> | qseqid &lt;chr&gt; | sseqid &lt;chr&gt; | pident &lt;dbl&gt; | length &lt;int&gt; | mismatch &lt;int&gt; | gapopen &lt;int&gt; | qstart &lt;int&gt; | qend &lt;int&gt; | sstart &lt;int&gt; | send &lt;int&gt; | evalue &lt;dbl&gt; | bitscore &lt;dbl&gt; | Sample &lt;chr&gt; | Source_ID &lt;chr&gt; |\n",
       "|---|---|---|---|---|---|---|---|---|---|---|---|---|---|---|\n",
       "| 1 | megahit_NarBay_S5_k51_0.p1      | CAMPEP_0175096170_CONTIGID_MMETSP0086_2-20121207|4582_1_MMETSP0086  | 98.3 | 664 |  7 | 1 |   4 | 663 | 2 | 665 |  0.00e+00 | 1057.0 | S5 | MMETSP0086 |\n",
       "| 2 | megahit_NarBay_S5_k51_0.p1      | CAMPEP_0175137602_CONTIGID_MMETSP0087-20121206|9902_1_MMETSP0087    | 99.3 | 550 |  4 | 0 |   1 | 550 | 6 | 555 |  0.00e+00 | 1050.0 | S5 | MMETSP0087 |\n",
       "| 3 | megahit_NarBay_S5_k51_0.p1      | CAMPEP_0175097004_CONTIGID_MMETSP0086_2-20121207|5045_1_MMETSP0086  | 53.1 | 128 | 60 | 0 | 423 | 550 | 1 | 128 |  1.63e-32 |  130.0 | S5 | MMETSP0086 |\n",
       "| 4 | megahit_NarBay_S5_k51_0.p1      | CAMPEP_0175110350_CONTIGID_MMETSP0086_2-20121207|14016_1_MMETSP0086 | 65.2 |  92 | 32 | 0 | 186 | 277 | 2 |  93 |  3.71e-31 |  124.0 | S5 | MMETSP0086 |\n",
       "| 5 | megahit_NarBay_S5_k51_0.p1      | CAMPEP_0175174288_CONTIGID_MMETSP0087-20121206|32544_1_MMETSP0087   | 59.1 |  44 | 18 | 0 | 342 | 385 | 1 |  44 |  5.19e-09 |   60.1 | S5 | MMETSP0087 |\n",
       "| 6 | megahit_NarBay_S5_k51_100006.p1 | CAMPEP_0182455682_CONTIGID_MMETSP1319-20130603|1772_1_MMETSP1319    | 92.3 | 235 | 18 | 0 |   1 | 235 | 4 | 238 | 3.31e-159 |  447.0 | S5 | MMETSP1319 |\n",
       "\n"
      ],
      "text/plain": [
       "  qseqid                         \n",
       "1 megahit_NarBay_S5_k51_0.p1     \n",
       "2 megahit_NarBay_S5_k51_0.p1     \n",
       "3 megahit_NarBay_S5_k51_0.p1     \n",
       "4 megahit_NarBay_S5_k51_0.p1     \n",
       "5 megahit_NarBay_S5_k51_0.p1     \n",
       "6 megahit_NarBay_S5_k51_100006.p1\n",
       "  sseqid                                                              pident\n",
       "1 CAMPEP_0175096170_CONTIGID_MMETSP0086_2-20121207|4582_1_MMETSP0086  98.3  \n",
       "2 CAMPEP_0175137602_CONTIGID_MMETSP0087-20121206|9902_1_MMETSP0087    99.3  \n",
       "3 CAMPEP_0175097004_CONTIGID_MMETSP0086_2-20121207|5045_1_MMETSP0086  53.1  \n",
       "4 CAMPEP_0175110350_CONTIGID_MMETSP0086_2-20121207|14016_1_MMETSP0086 65.2  \n",
       "5 CAMPEP_0175174288_CONTIGID_MMETSP0087-20121206|32544_1_MMETSP0087   59.1  \n",
       "6 CAMPEP_0182455682_CONTIGID_MMETSP1319-20130603|1772_1_MMETSP1319    92.3  \n",
       "  length mismatch gapopen qstart qend sstart send evalue    bitscore Sample\n",
       "1 664     7       1         4    663  2      665   0.00e+00 1057.0   S5    \n",
       "2 550     4       0         1    550  6      555   0.00e+00 1050.0   S5    \n",
       "3 128    60       0       423    550  1      128   1.63e-32  130.0   S5    \n",
       "4  92    32       0       186    277  2       93   3.71e-31  124.0   S5    \n",
       "5  44    18       0       342    385  1       44   5.19e-09   60.1   S5    \n",
       "6 235    18       0         1    235  4      238  3.31e-159  447.0   S5    \n",
       "  Source_ID \n",
       "1 MMETSP0086\n",
       "2 MMETSP0087\n",
       "3 MMETSP0086\n",
       "4 MMETSP0086\n",
       "5 MMETSP0087\n",
       "6 MMETSP1319"
      ]
     },
     "metadata": {},
     "output_type": "display_data"
    }
   ],
   "source": [
    "head(curr_fr)"
   ]
  },
  {
   "cell_type": "code",
   "execution_count": null,
   "metadata": {},
   "outputs": [],
   "source": []
  }
 ],
 "metadata": {
  "kernelspec": {
   "display_name": "R 4.1",
   "language": "R",
   "name": "ir41"
  },
  "language_info": {
   "codemirror_mode": "r",
   "file_extension": ".r",
   "mimetype": "text/x-r-source",
   "name": "R",
   "pygments_lexer": "r",
   "version": "4.1.0"
  }
 },
 "nbformat": 4,
 "nbformat_minor": 2
}
